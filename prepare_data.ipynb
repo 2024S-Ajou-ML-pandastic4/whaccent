{
  "cells": [
    {
      "cell_type": "markdown",
      "metadata": {
        "id": "view-in-github",
        "colab_type": "text"
      },
      "source": [
        "<a href=\"https://colab.research.google.com/github/2024S-Ajou-ML-pandastic4/whaccent/blob/master/prepare_data.ipynb\" target=\"_parent\"><img src=\"https://colab.research.google.com/assets/colab-badge.svg\" alt=\"Open In Colab\"/></a>"
      ]
    },
    {
      "cell_type": "code",
      "execution_count": null,
      "metadata": {
        "id": "bTCfzqG74PBT",
        "outputId": "c34876b8-6ed3-45ae-df33-180161322312"
      },
      "outputs": [
        {
          "data": {
            "text/html": [
              "<div>\n",
              "<style scoped>\n",
              "    .dataframe tbody tr th:only-of-type {\n",
              "        vertical-align: middle;\n",
              "    }\n",
              "\n",
              "    .dataframe tbody tr th {\n",
              "        vertical-align: top;\n",
              "    }\n",
              "\n",
              "    .dataframe thead th {\n",
              "        text-align: right;\n",
              "    }\n",
              "</style>\n",
              "<table border=\"1\" class=\"dataframe\">\n",
              "  <thead>\n",
              "    <tr style=\"text-align: right;\">\n",
              "      <th></th>\n",
              "      <th>filename</th>\n",
              "      <th>text</th>\n",
              "      <th>accent</th>\n",
              "      <th>duration</th>\n",
              "    </tr>\n",
              "  </thead>\n",
              "  <tbody>\n",
              "    <tr>\n",
              "      <th>0</th>\n",
              "      <td>output/audio/60/db5a068865f4dda5876d99141950cc...</td>\n",
              "      <td>She suggested one or two suitable people for ...</td>\n",
              "      <td>KR</td>\n",
              "      <td>4.848000</td>\n",
              "    </tr>\n",
              "    <tr>\n",
              "      <th>1</th>\n",
              "      <td>output/audio/e4/80e6c776fa511cc3d731954b427969...</td>\n",
              "      <td>The degenerate had fallen into an abyss of ut...</td>\n",
              "      <td>KR</td>\n",
              "      <td>8.325313</td>\n",
              "    </tr>\n",
              "    <tr>\n",
              "      <th>2</th>\n",
              "      <td>output/audio/66/f88b90983b9017b24b5aacd1dacbed...</td>\n",
              "      <td>Ronaldo plays better, runs faster, and shoots...</td>\n",
              "      <td>KR</td>\n",
              "      <td>9.712000</td>\n",
              "    </tr>\n",
              "    <tr>\n",
              "      <th>3</th>\n",
              "      <td>output/audio/93/7cd0013dce5616dcaadc481ccb4997...</td>\n",
              "      <td>Even though you get a blowout, you don’t have...</td>\n",
              "      <td>KR</td>\n",
              "      <td>6.277313</td>\n",
              "    </tr>\n",
              "    <tr>\n",
              "      <th>4</th>\n",
              "      <td>output/audio/ee/f0e3df6d6dbed53f5fcc41de42a6f0...</td>\n",
              "      <td>But did you know that ice cream chills most a...</td>\n",
              "      <td>KR</td>\n",
              "      <td>6.874625</td>\n",
              "    </tr>\n",
              "    <tr>\n",
              "      <th>...</th>\n",
              "      <td>...</td>\n",
              "      <td>...</td>\n",
              "      <td>...</td>\n",
              "      <td>...</td>\n",
              "    </tr>\n",
              "    <tr>\n",
              "      <th>74789</th>\n",
              "      <td>cv-valid-train/sample-176471.mp3</td>\n",
              "      <td>this drafty old barn</td>\n",
              "      <td>southatlandtic</td>\n",
              "      <td>3.984000</td>\n",
              "    </tr>\n",
              "    <tr>\n",
              "      <th>74790</th>\n",
              "      <td>cv-valid-train/sample-181488.mp3</td>\n",
              "      <td>i bet you she'd know how to say it all right</td>\n",
              "      <td>southatlandtic</td>\n",
              "      <td>3.696000</td>\n",
              "    </tr>\n",
              "    <tr>\n",
              "      <th>74791</th>\n",
              "      <td>cv-valid-train/sample-187716.mp3</td>\n",
              "      <td>the python wasn't a snake it was a programming...</td>\n",
              "      <td>southatlandtic</td>\n",
              "      <td>4.272000</td>\n",
              "    </tr>\n",
              "    <tr>\n",
              "      <th>74792</th>\n",
              "      <td>cv-valid-train/sample-188134.mp3</td>\n",
              "      <td>i wouldn't take that too seriously</td>\n",
              "      <td>southatlandtic</td>\n",
              "      <td>3.024000</td>\n",
              "    </tr>\n",
              "    <tr>\n",
              "      <th>74793</th>\n",
              "      <td>cv-valid-train/sample-193962.mp3</td>\n",
              "      <td>somehow the paragraphs blurred into each other</td>\n",
              "      <td>southatlandtic</td>\n",
              "      <td>3.984000</td>\n",
              "    </tr>\n",
              "  </tbody>\n",
              "</table>\n",
              "<p>74794 rows × 4 columns</p>\n",
              "</div>"
            ],
            "text/plain": [
              "                                                filename  \\\n",
              "0      output/audio/60/db5a068865f4dda5876d99141950cc...   \n",
              "1      output/audio/e4/80e6c776fa511cc3d731954b427969...   \n",
              "2      output/audio/66/f88b90983b9017b24b5aacd1dacbed...   \n",
              "3      output/audio/93/7cd0013dce5616dcaadc481ccb4997...   \n",
              "4      output/audio/ee/f0e3df6d6dbed53f5fcc41de42a6f0...   \n",
              "...                                                  ...   \n",
              "74789                   cv-valid-train/sample-176471.mp3   \n",
              "74790                   cv-valid-train/sample-181488.mp3   \n",
              "74791                   cv-valid-train/sample-187716.mp3   \n",
              "74792                   cv-valid-train/sample-188134.mp3   \n",
              "74793                   cv-valid-train/sample-193962.mp3   \n",
              "\n",
              "                                                    text          accent  \\\n",
              "0       She suggested one or two suitable people for ...              KR   \n",
              "1       The degenerate had fallen into an abyss of ut...              KR   \n",
              "2       Ronaldo plays better, runs faster, and shoots...              KR   \n",
              "3       Even though you get a blowout, you don’t have...              KR   \n",
              "4       But did you know that ice cream chills most a...              KR   \n",
              "...                                                  ...             ...   \n",
              "74789                               this drafty old barn  southatlandtic   \n",
              "74790       i bet you she'd know how to say it all right  southatlandtic   \n",
              "74791  the python wasn't a snake it was a programming...  southatlandtic   \n",
              "74792                 i wouldn't take that too seriously  southatlandtic   \n",
              "74793     somehow the paragraphs blurred into each other  southatlandtic   \n",
              "\n",
              "       duration  \n",
              "0      4.848000  \n",
              "1      8.325313  \n",
              "2      9.712000  \n",
              "3      6.277313  \n",
              "4      6.874625  \n",
              "...         ...  \n",
              "74789  3.984000  \n",
              "74790  3.696000  \n",
              "74791  4.272000  \n",
              "74792  3.024000  \n",
              "74793  3.984000  \n",
              "\n",
              "[74794 rows x 4 columns]"
            ]
          },
          "execution_count": 77,
          "metadata": {},
          "output_type": "execute_result"
        }
      ],
      "source": [
        "import pandas as pd\n",
        "\n",
        "df = pd.read_csv(\"pandastic4.csv\")\n",
        "df"
      ]
    },
    {
      "cell_type": "markdown",
      "metadata": {
        "id": "_Sm93-QL4PBW"
      },
      "source": [
        "# 각 accent별 info"
      ]
    },
    {
      "cell_type": "code",
      "execution_count": null,
      "metadata": {
        "id": "BEc7Szkl4PBY",
        "outputId": "4bcdad81-81aa-439d-8249-cfd6071319ee"
      },
      "outputs": [
        {
          "name": "stdout",
          "output_type": "stream",
          "text": [
            "            accent       min      mean        max  count\n",
            "0               KR  2.010625  6.548153  11.726625  11352\n",
            "1          african  1.416000  4.467313   8.736000   1152\n",
            "2        australia  1.056000  3.873360   7.728000   4200\n",
            "3          bermuda  1.896000  4.809000   8.472000    192\n",
            "4           canada  1.224000  4.249517   8.400000   3829\n",
            "5          england  0.936000  3.911283   8.184000  14653\n",
            "6         hongkong  1.344000  3.987537   8.304000     95\n",
            "7           indian  1.296000  4.055189   8.304000   4409\n",
            "8          ireland  1.416000  3.811532   7.944000    924\n",
            "9         malaysia  2.376000  5.097978   9.624000    178\n",
            "10      newzealand  1.176000  3.861579   7.656000   1140\n",
            "11     philippines  1.896000  4.819422   9.504000    325\n",
            "12        scotland  1.224000  3.844281   8.136000   1525\n",
            "13       singapore  1.896000  5.140293   9.384000    123\n",
            "14  southatlandtic  1.584000  3.617778   6.216000     81\n",
            "15              us  0.936000  3.925572   7.968000  30364\n",
            "16           wales  1.728000  3.455619   6.912000    252\n"
          ]
        }
      ],
      "source": [
        "accent_stats = df.groupby('accent')['duration'].agg(['min', 'mean', 'max','count']).reset_index()\n",
        "print(accent_stats)"
      ]
    },
    {
      "cell_type": "code",
      "execution_count": null,
      "metadata": {
        "id": "HOx6MJXo4PBZ",
        "outputId": "20543fb8-d33e-4288-c92c-201ddbd0f058"
      },
      "outputs": [
        {
          "data": {
            "image/png": "[encoded data removed]",
            "text/plain": [
              "<Figure size 1200x600 with 1 Axes>"
            ]
          },
          "metadata": {},
          "output_type": "display_data"
        }
      ],
      "source": [
        "import matplotlib.pyplot as plt\n",
        "accents = accent_stats[\"accent\"]\n",
        "counts = accent_stats[\"count\"]\n",
        "\n",
        "plt.figure(figsize=(12, 6))\n",
        "plt.bar(accents, counts, color='skyblue')\n",
        "plt.xlabel('Accent')\n",
        "plt.ylabel('Count')\n",
        "plt.title('Number of Rows by Accent')\n",
        "plt.xticks(rotation=45)\n",
        "plt.tight_layout()\n",
        "plt.show()"
      ]
    },
    {
      "cell_type": "code",
      "execution_count": null,
      "metadata": {
        "id": "VuC27A1O4PBZ",
        "outputId": "c5b4df73-6845-4532-882d-da12a8a918a8"
      },
      "outputs": [
        {
          "data": {
            "text/plain": [
              "['us', 'england', 'KR', 'indian', 'australia', 'canada']"
            ]
          },
          "execution_count": 80,
          "metadata": {},
          "output_type": "execute_result"
        }
      ],
      "source": [
        "from collections import Counter\n",
        "labels = [lang for lang, _ in Counter(df['accent']).most_common(6)]\n",
        "labels"
      ]
    },
    {
      "cell_type": "code",
      "execution_count": null,
      "metadata": {
        "id": "CVt8Rm5j4PBZ",
        "outputId": "a799ae77-c723-4ca8-cb8e-55c8ff684ca0"
      },
      "outputs": [
        {
          "data": {
            "text/html": [
              "<div>\n",
              "<style scoped>\n",
              "    .dataframe tbody tr th:only-of-type {\n",
              "        vertical-align: middle;\n",
              "    }\n",
              "\n",
              "    .dataframe tbody tr th {\n",
              "        vertical-align: top;\n",
              "    }\n",
              "\n",
              "    .dataframe thead th {\n",
              "        text-align: right;\n",
              "    }\n",
              "</style>\n",
              "<table border=\"1\" class=\"dataframe\">\n",
              "  <thead>\n",
              "    <tr style=\"text-align: right;\">\n",
              "      <th></th>\n",
              "      <th>filename</th>\n",
              "      <th>text</th>\n",
              "      <th>accent</th>\n",
              "      <th>duration</th>\n",
              "    </tr>\n",
              "  </thead>\n",
              "  <tbody>\n",
              "    <tr>\n",
              "      <th>0</th>\n",
              "      <td>output/audio/60/db5a068865f4dda5876d99141950cc...</td>\n",
              "      <td>She suggested one or two suitable people for ...</td>\n",
              "      <td>KR</td>\n",
              "      <td>4.848000</td>\n",
              "    </tr>\n",
              "    <tr>\n",
              "      <th>1</th>\n",
              "      <td>output/audio/e4/80e6c776fa511cc3d731954b427969...</td>\n",
              "      <td>The degenerate had fallen into an abyss of ut...</td>\n",
              "      <td>KR</td>\n",
              "      <td>8.325313</td>\n",
              "    </tr>\n",
              "    <tr>\n",
              "      <th>2</th>\n",
              "      <td>output/audio/66/f88b90983b9017b24b5aacd1dacbed...</td>\n",
              "      <td>Ronaldo plays better, runs faster, and shoots...</td>\n",
              "      <td>KR</td>\n",
              "      <td>9.712000</td>\n",
              "    </tr>\n",
              "    <tr>\n",
              "      <th>3</th>\n",
              "      <td>output/audio/93/7cd0013dce5616dcaadc481ccb4997...</td>\n",
              "      <td>Even though you get a blowout, you don’t have...</td>\n",
              "      <td>KR</td>\n",
              "      <td>6.277313</td>\n",
              "    </tr>\n",
              "    <tr>\n",
              "      <th>4</th>\n",
              "      <td>output/audio/ee/f0e3df6d6dbed53f5fcc41de42a6f0...</td>\n",
              "      <td>But did you know that ice cream chills most a...</td>\n",
              "      <td>KR</td>\n",
              "      <td>6.874625</td>\n",
              "    </tr>\n",
              "    <tr>\n",
              "      <th>...</th>\n",
              "      <td>...</td>\n",
              "      <td>...</td>\n",
              "      <td>...</td>\n",
              "      <td>...</td>\n",
              "    </tr>\n",
              "    <tr>\n",
              "      <th>68802</th>\n",
              "      <td>cv-valid-train/sample-195357.mp3</td>\n",
              "      <td>something's the matter with the baby</td>\n",
              "      <td>canada</td>\n",
              "      <td>2.328000</td>\n",
              "    </tr>\n",
              "    <tr>\n",
              "      <th>68803</th>\n",
              "      <td>cv-valid-train/sample-195413.mp3</td>\n",
              "      <td>caramels are the best</td>\n",
              "      <td>canada</td>\n",
              "      <td>2.568000</td>\n",
              "    </tr>\n",
              "    <tr>\n",
              "      <th>68804</th>\n",
              "      <td>cv-valid-train/sample-195476.mp3</td>\n",
              "      <td>she may be lost</td>\n",
              "      <td>canada</td>\n",
              "      <td>2.496000</td>\n",
              "    </tr>\n",
              "    <tr>\n",
              "      <th>68805</th>\n",
              "      <td>cv-valid-train/sample-195669.mp3</td>\n",
              "      <td>that's right said the old man able to read the...</td>\n",
              "      <td>canada</td>\n",
              "      <td>4.920000</td>\n",
              "    </tr>\n",
              "    <tr>\n",
              "      <th>68806</th>\n",
              "      <td>cv-valid-train/sample-195747.mp3</td>\n",
              "      <td>i can personally vouch for his character</td>\n",
              "      <td>canada</td>\n",
              "      <td>3.936000</td>\n",
              "    </tr>\n",
              "  </tbody>\n",
              "</table>\n",
              "<p>68807 rows × 4 columns</p>\n",
              "</div>"
            ],
            "text/plain": [
              "                                                filename  \\\n",
              "0      output/audio/60/db5a068865f4dda5876d99141950cc...   \n",
              "1      output/audio/e4/80e6c776fa511cc3d731954b427969...   \n",
              "2      output/audio/66/f88b90983b9017b24b5aacd1dacbed...   \n",
              "3      output/audio/93/7cd0013dce5616dcaadc481ccb4997...   \n",
              "4      output/audio/ee/f0e3df6d6dbed53f5fcc41de42a6f0...   \n",
              "...                                                  ...   \n",
              "68802                   cv-valid-train/sample-195357.mp3   \n",
              "68803                   cv-valid-train/sample-195413.mp3   \n",
              "68804                   cv-valid-train/sample-195476.mp3   \n",
              "68805                   cv-valid-train/sample-195669.mp3   \n",
              "68806                   cv-valid-train/sample-195747.mp3   \n",
              "\n",
              "                                                    text  accent  duration  \n",
              "0       She suggested one or two suitable people for ...      KR  4.848000  \n",
              "1       The degenerate had fallen into an abyss of ut...      KR  8.325313  \n",
              "2       Ronaldo plays better, runs faster, and shoots...      KR  9.712000  \n",
              "3       Even though you get a blowout, you don’t have...      KR  6.277313  \n",
              "4       But did you know that ice cream chills most a...      KR  6.874625  \n",
              "...                                                  ...     ...       ...  \n",
              "68802               something's the matter with the baby  canada  2.328000  \n",
              "68803                              caramels are the best  canada  2.568000  \n",
              "68804                                    she may be lost  canada  2.496000  \n",
              "68805  that's right said the old man able to read the...  canada  4.920000  \n",
              "68806           i can personally vouch for his character  canada  3.936000  \n",
              "\n",
              "[68807 rows x 4 columns]"
            ]
          },
          "execution_count": 81,
          "metadata": {},
          "output_type": "execute_result"
        }
      ],
      "source": [
        "df = df[df['accent'].isin(labels)]\n",
        "df"
      ]
    },
    {
      "cell_type": "code",
      "execution_count": null,
      "metadata": {
        "id": "iPGD4ywC4PBa",
        "outputId": "e761fcd4-d7b4-47e0-e02a-4ccc7f60bbd3"
      },
      "outputs": [
        {
          "name": "stdout",
          "output_type": "stream",
          "text": [
            "      accent       min      mean        max  count\n",
            "0         KR  2.010625  6.548153  11.726625  11352\n",
            "1  australia  1.056000  3.873360   7.728000   4200\n",
            "2     canada  1.224000  4.249517   8.400000   3829\n",
            "3    england  0.936000  3.911283   8.184000  14653\n",
            "4     indian  1.296000  4.055189   8.304000   4409\n",
            "5         us  0.936000  3.925572   7.968000  30364\n"
          ]
        }
      ],
      "source": [
        "accent_stats = df.groupby('accent')['duration'].agg(['min', 'mean', 'max','count']).reset_index()\n",
        "print(accent_stats)"
      ]
    },
    {
      "cell_type": "code",
      "execution_count": null,
      "metadata": {
        "id": "jo_jSlzP4PBa",
        "outputId": "1fe06f8d-a3a3-4db2-87af-16008aca63cd"
      },
      "outputs": [
        {
          "data": {
            "image/png": "[encoded data removed]",
            "text/plain": [
              "<Figure size 1200x600 with 1 Axes>"
            ]
          },
          "metadata": {},
          "output_type": "display_data"
        }
      ],
      "source": [
        "accents = accent_stats[\"accent\"]\n",
        "counts = accent_stats[\"count\"]\n",
        "\n",
        "plt.figure(figsize=(12, 6))\n",
        "plt.bar(accents, counts, color='skyblue')\n",
        "plt.xlabel('Accent')\n",
        "plt.ylabel('Count')\n",
        "plt.title('Number of Rows by Accent')\n",
        "plt.xticks(rotation=45)\n",
        "plt.tight_layout()\n",
        "plt.show()"
      ]
    },
    {
      "cell_type": "code",
      "execution_count": null,
      "metadata": {
        "id": "3jEy0QtA4PBb",
        "outputId": "9f159df5-674a-4d3d-b741-4654932eae44"
      },
      "outputs": [
        {
          "name": "stderr",
          "output_type": "stream",
          "text": [
            "/var/folders/z1/gby5gf8s4yzgftnr5r6qcsqh0000gn/T/ipykernel_1707/1862707573.py:7: SettingWithCopyWarning: \n",
            "A value is trying to be set on a copy of a slice from a DataFrame.\n",
            "Try using .loc[row_indexer,col_indexer] = value instead\n",
            "\n",
            "See the caveats in the documentation: https://pandas.pydata.org/pandas-docs/stable/user_guide/indexing.html#returning-a-view-versus-a-copy\n",
            "  df['duration_range'] = pd.cut(df['duration'], bins=bins, labels=False, right=False)\n"
          ]
        },
        {
          "data": {
            "image/png": "[encoded data removed]",
            "text/plain": [
              "<Figure size 1000x600 with 1 Axes>"
            ]
          },
          "metadata": {},
          "output_type": "display_data"
        }
      ],
      "source": [
        "import pandas as pd\n",
        "import matplotlib.pyplot as plt\n",
        "\n",
        "# duration을 특정 범위로 묶기\n",
        "bins = [i for i in range(0, int(df['duration'].max()) + 1, 1)]\n",
        "labels = [f'{i}-{i+1}' for i in range(0, int(df['duration'].max()), 1)]\n",
        "df['duration_range'] = pd.cut(df['duration'], bins=bins, labels=False, right=False)\n",
        "\n",
        "# 모든 accent에 대해 막대 그래프 그리기\n",
        "plt.figure(figsize=(10, 6))  # 그래프 크기 조정\n",
        "\n",
        "for accent in df['accent'].unique():\n",
        "#for accent in [\"us\",\"england\",\"KR\",\"indian\",\"australia\",\"canada\"]:\n",
        "    # 특정 accent에 해당하는 duration에 대한 count 계산\n",
        "    accent_counts = df[df['accent'] == accent]['duration_range'].value_counts().sort_index()\n",
        "\n",
        "    # 범위 라벨 다시 설정\n",
        "    # accent_counts.index = [labels[int(i)] for i in accent_counts.index]\n",
        "\n",
        "    # 막대 그래프 그리기\n",
        "    plt.bar(accent_counts.index, accent_counts.values, label=accent, alpha=0.3)  # 투명도 설정\n",
        "\n",
        "plt.xlabel('Duration')\n",
        "plt.ylabel('Count')\n",
        "plt.title('Duration Counts for Different Accents')\n",
        "plt.xticks(rotation=45)\n",
        "plt.legend()  # 범례 표시\n",
        "plt.show()\n"
      ]
    },
    {
      "cell_type": "code",
      "execution_count": null,
      "metadata": {
        "id": "n5u3sU8u4PBb",
        "outputId": "57d170d8-4c95-441a-bb89-f553da7e95a4"
      },
      "outputs": [
        {
          "name": "stderr",
          "output_type": "stream",
          "text": [
            "/var/folders/z1/gby5gf8s4yzgftnr5r6qcsqh0000gn/T/ipykernel_1707/2210288183.py:4: DeprecationWarning: DataFrameGroupBy.apply operated on the grouping columns. This behavior is deprecated, and in a future version of pandas the grouping columns will be excluded from the operation. Either pass `include_groups=False` to exclude the groupings or explicitly select the grouping columns after groupby to silence this warning.\n",
            "  df_sampled = df_filtered.groupby('accent').apply(lambda x: x.sample(n=3000, random_state=42)).reset_index(drop=True)\n"
          ]
        },
        {
          "data": {
            "text/html": [
              "<div>\n",
              "<style scoped>\n",
              "    .dataframe tbody tr th:only-of-type {\n",
              "        vertical-align: middle;\n",
              "    }\n",
              "\n",
              "    .dataframe tbody tr th {\n",
              "        vertical-align: top;\n",
              "    }\n",
              "\n",
              "    .dataframe thead th {\n",
              "        text-align: right;\n",
              "    }\n",
              "</style>\n",
              "<table border=\"1\" class=\"dataframe\">\n",
              "  <thead>\n",
              "    <tr style=\"text-align: right;\">\n",
              "      <th></th>\n",
              "      <th>filename</th>\n",
              "      <th>text</th>\n",
              "      <th>accent</th>\n",
              "      <th>duration</th>\n",
              "      <th>duration_range</th>\n",
              "    </tr>\n",
              "  </thead>\n",
              "  <tbody>\n",
              "    <tr>\n",
              "      <th>0</th>\n",
              "      <td>output/audio/1a/6b6bac588f825569bd63bc8dec2663...</td>\n",
              "      <td>Watching a movie or TV drama with the English...</td>\n",
              "      <td>KR</td>\n",
              "      <td>6.192000</td>\n",
              "      <td>6-7</td>\n",
              "    </tr>\n",
              "    <tr>\n",
              "      <th>1</th>\n",
              "      <td>output/audio/74/8db98b2ca61d0445313179d3fd6e68...</td>\n",
              "      <td>I prefer to go to school rather than go to th...</td>\n",
              "      <td>KR</td>\n",
              "      <td>6.128000</td>\n",
              "      <td>6-7</td>\n",
              "    </tr>\n",
              "    <tr>\n",
              "      <th>2</th>\n",
              "      <td>output/audio/06/cb126c861433a05df8fb3f2cd9d022...</td>\n",
              "      <td>Your handwriting is impossible to read.</td>\n",
              "      <td>KR</td>\n",
              "      <td>3.930625</td>\n",
              "      <td>3-4</td>\n",
              "    </tr>\n",
              "    <tr>\n",
              "      <th>3</th>\n",
              "      <td>output/audio/d5/ce98557a3e602b2236906a794b6942...</td>\n",
              "      <td>How high is Mt. Everest?</td>\n",
              "      <td>KR</td>\n",
              "      <td>4.250625</td>\n",
              "      <td>4-5</td>\n",
              "    </tr>\n",
              "    <tr>\n",
              "      <th>4</th>\n",
              "      <td>output/audio/0a/ea2a685de364804565f314ec62a05a...</td>\n",
              "      <td>This idea helps them continue to live together.</td>\n",
              "      <td>KR</td>\n",
              "      <td>5.680000</td>\n",
              "      <td>5-6</td>\n",
              "    </tr>\n",
              "    <tr>\n",
              "      <th>...</th>\n",
              "      <td>...</td>\n",
              "      <td>...</td>\n",
              "      <td>...</td>\n",
              "      <td>...</td>\n",
              "      <td>...</td>\n",
              "    </tr>\n",
              "    <tr>\n",
              "      <th>17995</th>\n",
              "      <td>cv-valid-train/sample-059482.mp3</td>\n",
              "      <td>may i borrow some of your cartoons</td>\n",
              "      <td>us</td>\n",
              "      <td>1.680000</td>\n",
              "      <td>1-2</td>\n",
              "    </tr>\n",
              "    <tr>\n",
              "      <th>17996</th>\n",
              "      <td>cv-valid-train/sample-040591.mp3</td>\n",
              "      <td>there were lights in the upper windows of the ...</td>\n",
              "      <td>us</td>\n",
              "      <td>4.944000</td>\n",
              "      <td>4-5</td>\n",
              "    </tr>\n",
              "    <tr>\n",
              "      <th>17997</th>\n",
              "      <td>cv-valid-train/sample-195273.mp3</td>\n",
              "      <td>strange images passed through my mind</td>\n",
              "      <td>us</td>\n",
              "      <td>3.144000</td>\n",
              "      <td>3-4</td>\n",
              "    </tr>\n",
              "    <tr>\n",
              "      <th>17998</th>\n",
              "      <td>cv-valid-train/sample-013813.mp3</td>\n",
              "      <td>what do you want here today the desert asked him</td>\n",
              "      <td>us</td>\n",
              "      <td>3.576000</td>\n",
              "      <td>3-4</td>\n",
              "    </tr>\n",
              "    <tr>\n",
              "      <th>17999</th>\n",
              "      <td>cv-valid-train/sample-026720.mp3</td>\n",
              "      <td>the alchemist told the boy to place the shell ...</td>\n",
              "      <td>us</td>\n",
              "      <td>5.544000</td>\n",
              "      <td>5-6</td>\n",
              "    </tr>\n",
              "  </tbody>\n",
              "</table>\n",
              "<p>18000 rows × 5 columns</p>\n",
              "</div>"
            ],
            "text/plain": [
              "                                                filename  \\\n",
              "0      output/audio/1a/6b6bac588f825569bd63bc8dec2663...   \n",
              "1      output/audio/74/8db98b2ca61d0445313179d3fd6e68...   \n",
              "2      output/audio/06/cb126c861433a05df8fb3f2cd9d022...   \n",
              "3      output/audio/d5/ce98557a3e602b2236906a794b6942...   \n",
              "4      output/audio/0a/ea2a685de364804565f314ec62a05a...   \n",
              "...                                                  ...   \n",
              "17995                   cv-valid-train/sample-059482.mp3   \n",
              "17996                   cv-valid-train/sample-040591.mp3   \n",
              "17997                   cv-valid-train/sample-195273.mp3   \n",
              "17998                   cv-valid-train/sample-013813.mp3   \n",
              "17999                   cv-valid-train/sample-026720.mp3   \n",
              "\n",
              "                                                    text accent  duration  \\\n",
              "0       Watching a movie or TV drama with the English...     KR  6.192000   \n",
              "1       I prefer to go to school rather than go to th...     KR  6.128000   \n",
              "2                Your handwriting is impossible to read.     KR  3.930625   \n",
              "3                               How high is Mt. Everest?     KR  4.250625   \n",
              "4        This idea helps them continue to live together.     KR  5.680000   \n",
              "...                                                  ...    ...       ...   \n",
              "17995                 may i borrow some of your cartoons     us  1.680000   \n",
              "17996  there were lights in the upper windows of the ...     us  4.944000   \n",
              "17997              strange images passed through my mind     us  3.144000   \n",
              "17998   what do you want here today the desert asked him     us  3.576000   \n",
              "17999  the alchemist told the boy to place the shell ...     us  5.544000   \n",
              "\n",
              "      duration_range  \n",
              "0                6-7  \n",
              "1                6-7  \n",
              "2                3-4  \n",
              "3                4-5  \n",
              "4                5-6  \n",
              "...              ...  \n",
              "17995            1-2  \n",
              "17996            4-5  \n",
              "17997            3-4  \n",
              "17998            3-4  \n",
              "17999            5-6  \n",
              "\n",
              "[18000 rows x 5 columns]"
            ]
          },
          "execution_count": 121,
          "metadata": {},
          "output_type": "execute_result"
        }
      ],
      "source": [
        "df_filtered = df[df['duration'] <= 8]\n",
        "\n",
        "# 각 accent에 해당하는 무작위 3000개의 데이터 선택\n",
        "df_sampled = df_filtered.groupby('accent').apply(lambda x: x.sample(n=3000, random_state=42)).reset_index(drop=True)\n",
        "\n",
        "df_sampled"
      ]
    },
    {
      "cell_type": "code",
      "execution_count": null,
      "metadata": {
        "id": "ZDV4KB7-4PBc",
        "outputId": "b8dfa085-e969-4266-c070-7cac3122b1f9"
      },
      "outputs": [
        {
          "name": "stdout",
          "output_type": "stream",
          "text": [
            "      accent    min      mean    max  count\n",
            "0         KR  2.032  5.532015  7.984   3000\n",
            "1  australia  1.056  3.853136  7.728   3000\n",
            "2     canada  1.368  4.239200  7.992   3000\n",
            "3    england  1.224  3.894192  7.992   3000\n",
            "4     indian  1.296  4.046520  7.944   3000\n",
            "5         us  1.056  3.912864  7.968   3000\n"
          ]
        }
      ],
      "source": [
        "accent_stats = df_sampled.groupby('accent')['duration'].agg(['min', 'mean', 'max','count']).reset_index()\n",
        "print(accent_stats)"
      ]
    },
    {
      "cell_type": "code",
      "execution_count": null,
      "metadata": {
        "id": "D4xSIJcj4PBc",
        "outputId": "afbf2724-27c5-4fd4-9a67-022cf691805c"
      },
      "outputs": [
        {
          "data": {
            "image/png": "[encoded data removed]",
            "text/plain": [
              "<Figure size 640x480 with 1 Axes>"
            ]
          },
          "metadata": {},
          "output_type": "display_data"
        }
      ],
      "source": [
        "\n",
        "# 특정 accent에 해당하는 duration에 대한 count 계산\n",
        "accent_counts = df_sampled[df_sampled['accent'] == 'KR']['duration_range'].value_counts().sort_index()\n",
        "\n",
        "# 막대 그래프 그리기\n",
        "plt.bar(accent_counts.index, accent_counts.values)\n",
        "plt.xlabel('Duration')\n",
        "plt.ylabel('Count')\n",
        "plt.title('KR Duration Count')\n",
        "plt.xticks(rotation=45)\n",
        "plt.show()"
      ]
    },
    {
      "cell_type": "code",
      "execution_count": null,
      "metadata": {
        "id": "FDBVFgmc4PBc"
      },
      "outputs": [],
      "source": [
        "df= df_sampled"
      ]
    },
    {
      "cell_type": "code",
      "execution_count": null,
      "metadata": {
        "id": "zBDoEy_d4PBc",
        "outputId": "b4420b35-40de-43b5-c97a-d09ff4be98c4"
      },
      "outputs": [
        {
          "data": {
            "text/html": [
              "<div>\n",
              "<style scoped>\n",
              "    .dataframe tbody tr th:only-of-type {\n",
              "        vertical-align: middle;\n",
              "    }\n",
              "\n",
              "    .dataframe tbody tr th {\n",
              "        vertical-align: top;\n",
              "    }\n",
              "\n",
              "    .dataframe thead th {\n",
              "        text-align: right;\n",
              "    }\n",
              "</style>\n",
              "<table border=\"1\" class=\"dataframe\">\n",
              "  <thead>\n",
              "    <tr style=\"text-align: right;\">\n",
              "      <th></th>\n",
              "      <th>accent</th>\n",
              "      <th>min</th>\n",
              "      <th>mean</th>\n",
              "      <th>max</th>\n",
              "    </tr>\n",
              "  </thead>\n",
              "  <tbody>\n",
              "    <tr>\n",
              "      <th>0</th>\n",
              "      <td>KR</td>\n",
              "      <td>2.032</td>\n",
              "      <td>5.532015</td>\n",
              "      <td>7.984</td>\n",
              "    </tr>\n",
              "    <tr>\n",
              "      <th>1</th>\n",
              "      <td>australia</td>\n",
              "      <td>1.056</td>\n",
              "      <td>3.853136</td>\n",
              "      <td>7.728</td>\n",
              "    </tr>\n",
              "    <tr>\n",
              "      <th>2</th>\n",
              "      <td>canada</td>\n",
              "      <td>1.368</td>\n",
              "      <td>4.239200</td>\n",
              "      <td>7.992</td>\n",
              "    </tr>\n",
              "    <tr>\n",
              "      <th>3</th>\n",
              "      <td>england</td>\n",
              "      <td>1.224</td>\n",
              "      <td>3.894192</td>\n",
              "      <td>7.992</td>\n",
              "    </tr>\n",
              "    <tr>\n",
              "      <th>4</th>\n",
              "      <td>indian</td>\n",
              "      <td>1.296</td>\n",
              "      <td>4.046520</td>\n",
              "      <td>7.944</td>\n",
              "    </tr>\n",
              "    <tr>\n",
              "      <th>5</th>\n",
              "      <td>us</td>\n",
              "      <td>1.056</td>\n",
              "      <td>3.912864</td>\n",
              "      <td>7.968</td>\n",
              "    </tr>\n",
              "  </tbody>\n",
              "</table>\n",
              "</div>"
            ],
            "text/plain": [
              "      accent    min      mean    max\n",
              "0         KR  2.032  5.532015  7.984\n",
              "1  australia  1.056  3.853136  7.728\n",
              "2     canada  1.368  4.239200  7.992\n",
              "3    england  1.224  3.894192  7.992\n",
              "4     indian  1.296  4.046520  7.944\n",
              "5         us  1.056  3.912864  7.968"
            ]
          },
          "execution_count": 136,
          "metadata": {},
          "output_type": "execute_result"
        }
      ],
      "source": [
        "df.groupby('accent')['duration'].agg(['min', 'mean', 'max']).reset_index()"
      ]
    },
    {
      "cell_type": "code",
      "execution_count": null,
      "metadata": {
        "id": "rmJRQku94PBc",
        "outputId": "6de8c978-0b56-404a-87dd-d5a623c99634"
      },
      "outputs": [
        {
          "data": {
            "text/html": [
              "<div>\n",
              "<style scoped>\n",
              "    .dataframe tbody tr th:only-of-type {\n",
              "        vertical-align: middle;\n",
              "    }\n",
              "\n",
              "    .dataframe tbody tr th {\n",
              "        vertical-align: top;\n",
              "    }\n",
              "\n",
              "    .dataframe thead th {\n",
              "        text-align: right;\n",
              "    }\n",
              "</style>\n",
              "<table border=\"1\" class=\"dataframe\">\n",
              "  <thead>\n",
              "    <tr style=\"text-align: right;\">\n",
              "      <th></th>\n",
              "      <th>filename</th>\n",
              "      <th>text</th>\n",
              "      <th>accent</th>\n",
              "      <th>duration</th>\n",
              "    </tr>\n",
              "  </thead>\n",
              "  <tbody>\n",
              "    <tr>\n",
              "      <th>0</th>\n",
              "      <td>output/audio/1a/6b6bac588f825569bd63bc8dec2663...</td>\n",
              "      <td>Watching a movie or TV drama with the English...</td>\n",
              "      <td>KR</td>\n",
              "      <td>6.192000</td>\n",
              "    </tr>\n",
              "    <tr>\n",
              "      <th>1</th>\n",
              "      <td>output/audio/74/8db98b2ca61d0445313179d3fd6e68...</td>\n",
              "      <td>I prefer to go to school rather than go to th...</td>\n",
              "      <td>KR</td>\n",
              "      <td>6.128000</td>\n",
              "    </tr>\n",
              "    <tr>\n",
              "      <th>2</th>\n",
              "      <td>output/audio/06/cb126c861433a05df8fb3f2cd9d022...</td>\n",
              "      <td>Your handwriting is impossible to read.</td>\n",
              "      <td>KR</td>\n",
              "      <td>3.930625</td>\n",
              "    </tr>\n",
              "    <tr>\n",
              "      <th>3</th>\n",
              "      <td>output/audio/d5/ce98557a3e602b2236906a794b6942...</td>\n",
              "      <td>How high is Mt. Everest?</td>\n",
              "      <td>KR</td>\n",
              "      <td>4.250625</td>\n",
              "    </tr>\n",
              "    <tr>\n",
              "      <th>4</th>\n",
              "      <td>output/audio/0a/ea2a685de364804565f314ec62a05a...</td>\n",
              "      <td>This idea helps them continue to live together.</td>\n",
              "      <td>KR</td>\n",
              "      <td>5.680000</td>\n",
              "    </tr>\n",
              "    <tr>\n",
              "      <th>...</th>\n",
              "      <td>...</td>\n",
              "      <td>...</td>\n",
              "      <td>...</td>\n",
              "      <td>...</td>\n",
              "    </tr>\n",
              "    <tr>\n",
              "      <th>17995</th>\n",
              "      <td>cv-valid-train/sample-059482.mp3</td>\n",
              "      <td>may i borrow some of your cartoons</td>\n",
              "      <td>us</td>\n",
              "      <td>1.680000</td>\n",
              "    </tr>\n",
              "    <tr>\n",
              "      <th>17996</th>\n",
              "      <td>cv-valid-train/sample-040591.mp3</td>\n",
              "      <td>there were lights in the upper windows of the ...</td>\n",
              "      <td>us</td>\n",
              "      <td>4.944000</td>\n",
              "    </tr>\n",
              "    <tr>\n",
              "      <th>17997</th>\n",
              "      <td>cv-valid-train/sample-195273.mp3</td>\n",
              "      <td>strange images passed through my mind</td>\n",
              "      <td>us</td>\n",
              "      <td>3.144000</td>\n",
              "    </tr>\n",
              "    <tr>\n",
              "      <th>17998</th>\n",
              "      <td>cv-valid-train/sample-013813.mp3</td>\n",
              "      <td>what do you want here today the desert asked him</td>\n",
              "      <td>us</td>\n",
              "      <td>3.576000</td>\n",
              "    </tr>\n",
              "    <tr>\n",
              "      <th>17999</th>\n",
              "      <td>cv-valid-train/sample-026720.mp3</td>\n",
              "      <td>the alchemist told the boy to place the shell ...</td>\n",
              "      <td>us</td>\n",
              "      <td>5.544000</td>\n",
              "    </tr>\n",
              "  </tbody>\n",
              "</table>\n",
              "<p>18000 rows × 4 columns</p>\n",
              "</div>"
            ],
            "text/plain": [
              "                                                filename  \\\n",
              "0      output/audio/1a/6b6bac588f825569bd63bc8dec2663...   \n",
              "1      output/audio/74/8db98b2ca61d0445313179d3fd6e68...   \n",
              "2      output/audio/06/cb126c861433a05df8fb3f2cd9d022...   \n",
              "3      output/audio/d5/ce98557a3e602b2236906a794b6942...   \n",
              "4      output/audio/0a/ea2a685de364804565f314ec62a05a...   \n",
              "...                                                  ...   \n",
              "17995                   cv-valid-train/sample-059482.mp3   \n",
              "17996                   cv-valid-train/sample-040591.mp3   \n",
              "17997                   cv-valid-train/sample-195273.mp3   \n",
              "17998                   cv-valid-train/sample-013813.mp3   \n",
              "17999                   cv-valid-train/sample-026720.mp3   \n",
              "\n",
              "                                                    text accent  duration  \n",
              "0       Watching a movie or TV drama with the English...     KR  6.192000  \n",
              "1       I prefer to go to school rather than go to th...     KR  6.128000  \n",
              "2                Your handwriting is impossible to read.     KR  3.930625  \n",
              "3                               How high is Mt. Everest?     KR  4.250625  \n",
              "4        This idea helps them continue to live together.     KR  5.680000  \n",
              "...                                                  ...    ...       ...  \n",
              "17995                 may i borrow some of your cartoons     us  1.680000  \n",
              "17996  there were lights in the upper windows of the ...     us  4.944000  \n",
              "17997              strange images passed through my mind     us  3.144000  \n",
              "17998   what do you want here today the desert asked him     us  3.576000  \n",
              "17999  the alchemist told the boy to place the shell ...     us  5.544000  \n",
              "\n",
              "[18000 rows x 4 columns]"
            ]
          },
          "execution_count": 141,
          "metadata": {},
          "output_type": "execute_result"
        }
      ],
      "source": [
        "df= df.drop(columns=[\"duration_range\"])\n",
        "df"
      ]
    },
    {
      "cell_type": "code",
      "execution_count": null,
      "metadata": {
        "id": "3RaFIvUG4PBc"
      },
      "outputs": [],
      "source": [
        "df.to_csv(\"preprocessed_csv\",index=False)"
      ]
    },
    {
      "cell_type": "code",
      "execution_count": null,
      "metadata": {
        "id": "CmdC1GEL4PBd",
        "outputId": "0893e4d4-030f-49f2-aa8f-fee206b48319"
      },
      "outputs": [
        {
          "data": {
            "text/html": [
              "<div>\n",
              "<style scoped>\n",
              "    .dataframe tbody tr th:only-of-type {\n",
              "        vertical-align: middle;\n",
              "    }\n",
              "\n",
              "    .dataframe tbody tr th {\n",
              "        vertical-align: top;\n",
              "    }\n",
              "\n",
              "    .dataframe thead th {\n",
              "        text-align: right;\n",
              "    }\n",
              "</style>\n",
              "<table border=\"1\" class=\"dataframe\">\n",
              "  <thead>\n",
              "    <tr style=\"text-align: right;\">\n",
              "      <th></th>\n",
              "      <th>filename</th>\n",
              "      <th>text</th>\n",
              "      <th>accent</th>\n",
              "      <th>duration</th>\n",
              "    </tr>\n",
              "  </thead>\n",
              "  <tbody>\n",
              "    <tr>\n",
              "      <th>0</th>\n",
              "      <td>output/audio/1a/6b6bac588f825569bd63bc8dec2663...</td>\n",
              "      <td>Watching a movie or TV drama with the English...</td>\n",
              "      <td>KR</td>\n",
              "      <td>6.192000</td>\n",
              "    </tr>\n",
              "    <tr>\n",
              "      <th>1</th>\n",
              "      <td>output/audio/74/8db98b2ca61d0445313179d3fd6e68...</td>\n",
              "      <td>I prefer to go to school rather than go to th...</td>\n",
              "      <td>KR</td>\n",
              "      <td>6.128000</td>\n",
              "    </tr>\n",
              "    <tr>\n",
              "      <th>2</th>\n",
              "      <td>output/audio/06/cb126c861433a05df8fb3f2cd9d022...</td>\n",
              "      <td>Your handwriting is impossible to read.</td>\n",
              "      <td>KR</td>\n",
              "      <td>3.930625</td>\n",
              "    </tr>\n",
              "    <tr>\n",
              "      <th>3</th>\n",
              "      <td>output/audio/d5/ce98557a3e602b2236906a794b6942...</td>\n",
              "      <td>How high is Mt. Everest?</td>\n",
              "      <td>KR</td>\n",
              "      <td>4.250625</td>\n",
              "    </tr>\n",
              "    <tr>\n",
              "      <th>4</th>\n",
              "      <td>output/audio/0a/ea2a685de364804565f314ec62a05a...</td>\n",
              "      <td>This idea helps them continue to live together.</td>\n",
              "      <td>KR</td>\n",
              "      <td>5.680000</td>\n",
              "    </tr>\n",
              "    <tr>\n",
              "      <th>...</th>\n",
              "      <td>...</td>\n",
              "      <td>...</td>\n",
              "      <td>...</td>\n",
              "      <td>...</td>\n",
              "    </tr>\n",
              "    <tr>\n",
              "      <th>17995</th>\n",
              "      <td>cv-valid-train/sample-059482.mp3</td>\n",
              "      <td>may i borrow some of your cartoons</td>\n",
              "      <td>us</td>\n",
              "      <td>1.680000</td>\n",
              "    </tr>\n",
              "    <tr>\n",
              "      <th>17996</th>\n",
              "      <td>cv-valid-train/sample-040591.mp3</td>\n",
              "      <td>there were lights in the upper windows of the ...</td>\n",
              "      <td>us</td>\n",
              "      <td>4.944000</td>\n",
              "    </tr>\n",
              "    <tr>\n",
              "      <th>17997</th>\n",
              "      <td>cv-valid-train/sample-195273.mp3</td>\n",
              "      <td>strange images passed through my mind</td>\n",
              "      <td>us</td>\n",
              "      <td>3.144000</td>\n",
              "    </tr>\n",
              "    <tr>\n",
              "      <th>17998</th>\n",
              "      <td>cv-valid-train/sample-013813.mp3</td>\n",
              "      <td>what do you want here today the desert asked him</td>\n",
              "      <td>us</td>\n",
              "      <td>3.576000</td>\n",
              "    </tr>\n",
              "    <tr>\n",
              "      <th>17999</th>\n",
              "      <td>cv-valid-train/sample-026720.mp3</td>\n",
              "      <td>the alchemist told the boy to place the shell ...</td>\n",
              "      <td>us</td>\n",
              "      <td>5.544000</td>\n",
              "    </tr>\n",
              "  </tbody>\n",
              "</table>\n",
              "<p>18000 rows × 4 columns</p>\n",
              "</div>"
            ],
            "text/plain": [
              "                                                filename  \\\n",
              "0      output/audio/1a/6b6bac588f825569bd63bc8dec2663...   \n",
              "1      output/audio/74/8db98b2ca61d0445313179d3fd6e68...   \n",
              "2      output/audio/06/cb126c861433a05df8fb3f2cd9d022...   \n",
              "3      output/audio/d5/ce98557a3e602b2236906a794b6942...   \n",
              "4      output/audio/0a/ea2a685de364804565f314ec62a05a...   \n",
              "...                                                  ...   \n",
              "17995                   cv-valid-train/sample-059482.mp3   \n",
              "17996                   cv-valid-train/sample-040591.mp3   \n",
              "17997                   cv-valid-train/sample-195273.mp3   \n",
              "17998                   cv-valid-train/sample-013813.mp3   \n",
              "17999                   cv-valid-train/sample-026720.mp3   \n",
              "\n",
              "                                                    text accent  duration  \n",
              "0       Watching a movie or TV drama with the English...     KR  6.192000  \n",
              "1       I prefer to go to school rather than go to th...     KR  6.128000  \n",
              "2                Your handwriting is impossible to read.     KR  3.930625  \n",
              "3                               How high is Mt. Everest?     KR  4.250625  \n",
              "4        This idea helps them continue to live together.     KR  5.680000  \n",
              "...                                                  ...    ...       ...  \n",
              "17995                 may i borrow some of your cartoons     us  1.680000  \n",
              "17996  there were lights in the upper windows of the ...     us  4.944000  \n",
              "17997              strange images passed through my mind     us  3.144000  \n",
              "17998   what do you want here today the desert asked him     us  3.576000  \n",
              "17999  the alchemist told the boy to place the shell ...     us  5.544000  \n",
              "\n",
              "[18000 rows x 4 columns]"
            ]
          },
          "execution_count": 2,
          "metadata": {},
          "output_type": "execute_result"
        }
      ],
      "source": [
        "import pandas as pd\n",
        "df = pd.read_csv(\"preprocessed_csv\")\n",
        "df"
      ]
    },
    {
      "cell_type": "code",
      "execution_count": null,
      "metadata": {
        "id": "N2X04G2s4PBd",
        "outputId": "2cda189e-d268-40be-b0b2-180e4c3c5a5a"
      },
      "outputs": [
        {
          "data": {
            "text/plain": [
              "['KR', 'us', 'england', 'indian', 'australia', 'canada']"
            ]
          },
          "execution_count": 148,
          "metadata": {},
          "output_type": "execute_result"
        }
      ],
      "source": [
        "labels_list = ['KR','us', 'england', 'indian', 'australia', 'canada']\n",
        "labels_list"
      ]
    },
    {
      "cell_type": "code",
      "execution_count": null,
      "metadata": {
        "id": "k2oJfjhd4PBd",
        "outputId": "fa6de2c2-761f-4117-89b0-7a8fda93f985"
      },
      "outputs": [
        {
          "name": "stdout",
          "output_type": "stream",
          "text": [
            "Mapping of IDs to Labels: {0: 'KR', 1: 'us', 2: 'england', 3: 'indian', 4: 'australia', 5: 'canada'} \n",
            "\n",
            "Mapping of Labels to IDs: {'KR': 0, 'us': 1, 'england': 2, 'indian': 3, 'australia': 4, 'canada': 5}\n"
          ]
        }
      ],
      "source": [
        "# Initialize empty dictionaries to map labels to IDs and vice versa\n",
        "label2id, id2label = dict(), dict()\n",
        "\n",
        "# Iterate over the unique labels and assign each label an ID, and vice versa\n",
        "for i, label in enumerate(labels_list):\n",
        "    label2id[label] = i  # Map the label to its corresponding ID\n",
        "    id2label[i] = label  # Map the ID to its corresponding label\n",
        "\n",
        "# Print the resulting dictionaries for reference\n",
        "print(\"Mapping of IDs to Labels:\", id2label, '\\n')\n",
        "print(\"Mapping of Labels to IDs:\", label2id)"
      ]
    },
    {
      "cell_type": "code",
      "execution_count": null,
      "metadata": {
        "id": "vsZcEao24PBd"
      },
      "outputs": [],
      "source": [
        "\"\"\"# Creating classlabels to match labels to IDs\n",
        "ClassLabels = ClassLabel(num_classes=len(labels_list), names=labels_list)\n",
        "\n",
        "# Mapping labels to IDs\n",
        "def map_label2id(example):\n",
        "    example['label'] = ClassLabels.str2int(example['label'])\n",
        "    return example\n",
        "\n",
        "dataset = dataset.map(map_label2id, batched=True)\n",
        "\n",
        "# Casting label column to ClassLabel Object\n",
        "dataset = dataset.cast_column('label', ClassLabels)\"\"\""
      ]
    },
    {
      "cell_type": "code",
      "execution_count": null,
      "metadata": {
        "id": "AxuzC5Ff4PBd"
      },
      "outputs": [],
      "source": [
        "from sklearn.model_selection import train_test_split\n",
        "from datasets import Dataset, DatasetDict, Audio\n",
        "\n",
        "train_df, valid_test_df = train_test_split(df, test_size=0.3, random_state=42)\n",
        "valid_df, test_df = train_test_split(valid_test_df, test_size=0.33, random_state=42)\n",
        "\n",
        "train_dataset= Dataset.from_pandas(train_df)\n",
        "valid_dataset = Dataset.from_pandas(valid_df)\n",
        "test_dataset = Dataset.from_pandas(test_df)\n",
        "\n",
        "dataset_dict = DatasetDict({\n",
        "    \"train\" : train_dataset,\n",
        "    \"validatoin\" : valid_dataset,\n",
        "    \"test\" : test_dataset\n",
        "})"
      ]
    },
    {
      "cell_type": "code",
      "execution_count": null,
      "metadata": {
        "id": "7ALfW6Ea4PBd",
        "outputId": "7cec238c-13dc-40d9-d301-df46e816d48e"
      },
      "outputs": [
        {
          "data": {
            "text/plain": [
              "DatasetDict({\n",
              "    train: Dataset({\n",
              "        features: ['filename', 'text', 'accent', 'duration', '__index_level_0__'],\n",
              "        num_rows: 12600\n",
              "    })\n",
              "    validatoin: Dataset({\n",
              "        features: ['filename', 'text', 'accent', 'duration', '__index_level_0__'],\n",
              "        num_rows: 3618\n",
              "    })\n",
              "    test: Dataset({\n",
              "        features: ['filename', 'text', 'accent', 'duration', '__index_level_0__'],\n",
              "        num_rows: 1782\n",
              "    })\n",
              "})"
            ]
          },
          "execution_count": 9,
          "metadata": {},
          "output_type": "execute_result"
        }
      ],
      "source": [
        "dataset_dict"
      ]
    },
    {
      "cell_type": "code",
      "execution_count": null,
      "metadata": {
        "id": "r1xdDMyA4PBd",
        "outputId": "19e9b306-ef9b-478e-f5b4-fe2d159cf703"
      },
      "outputs": [
        {
          "data": {
            "text/plain": [
              "{'filename': 'cv-valid-train/sample-086904.mp3',\n",
              " 'text': 'so how will we name all these hurricanes',\n",
              " 'accent': 'australia',\n",
              " 'duration': 3.504,\n",
              " '__index_level_0__': 5553}"
            ]
          },
          "execution_count": 10,
          "metadata": {},
          "output_type": "execute_result"
        }
      ],
      "source": [
        "dataset_dict[\"train\"][0]"
      ]
    },
    {
      "cell_type": "code",
      "execution_count": null,
      "metadata": {
        "id": "LwGg-4y74PBd"
      },
      "outputs": [],
      "source": [
        "import librosa\n",
        "import soundfile"
      ]
    },
    {
      "cell_type": "code",
      "execution_count": null,
      "metadata": {
        "id": "OH8GFxgf4PBd"
      },
      "outputs": [],
      "source": [
        "dataset_dict = dataset_dict.cast_column(\"filename\", Audio())"
      ]
    },
    {
      "cell_type": "code",
      "execution_count": null,
      "metadata": {
        "id": "TH1Y1-4i4PBd",
        "outputId": "48471e8e-6739-46a3-8f44-1ba54a3c18af"
      },
      "outputs": [
        {
          "data": {
            "text/plain": [
              "{'filename': {'path': 'cv-valid-train/sample-086904.mp3',\n",
              "  'array': array([ 0.00000000e+00, -8.35234795e-15, -7.95494126e-15, ...,\n",
              "          3.18145794e-07,  1.51354584e-06, -1.63861614e-07]),\n",
              "  'sampling_rate': 48000},\n",
              " 'text': 'so how will we name all these hurricanes',\n",
              " 'accent': 'australia',\n",
              " 'duration': 3.504,\n",
              " '__index_level_0__': 5553}"
            ]
          },
          "execution_count": 13,
          "metadata": {},
          "output_type": "execute_result"
        }
      ],
      "source": [
        "dataset_dict[\"train\"][0]"
      ]
    },
    {
      "cell_type": "code",
      "execution_count": null,
      "metadata": {
        "id": "jzq4KwKu4PBe",
        "outputId": "e826c2ae-c21c-4543-bb57-2378e48b8002",
        "colab": {
          "referenced_widgets": [
            "47091024886a4dab8dee99e348441de8"
          ]
        }
      },
      "outputs": [
        {
          "data": {
            "application/vnd.jupyter.widget-view+json": {
              "model_id": "47091024886a4dab8dee99e348441de8",
              "version_major": 2,
              "version_minor": 0
            },
            "text/plain": [
              "VBox(children=(HTML(value='<center> <img\\nsrc=https://huggingface.co/front/assets/huggingface_logo-noborder.sv…"
            ]
          },
          "metadata": {},
          "output_type": "display_data"
        }
      ],
      "source": [
        "from huggingface_hub import notebook_login\n",
        "notebook_login()"
      ]
    },
    {
      "cell_type": "code",
      "execution_count": null,
      "metadata": {
        "id": "PuWgzurz4PBe",
        "outputId": "e07c0a51-7def-40f0-a6cd-6fef18ca6c7e",
        "colab": {
          "referenced_widgets": [
            "7ba35a27ad4f4109b4ef6d59fd758a12",
            "dbf2778bc27942858f8fa9def5176c76",
            "6bd10c2b469c4a31a5bd813aad201ab4",
            "46cf536e069c418cb0b3d0d7d8e075bd",
            "ccc2d018f14840abbde5b00358d801e4",
            "98e43c72b6e84c1dab8f615b906b6573",
            "f72bf0e0dd234c0987a0d3a40a61a8cc",
            "e65b9aa4e944409ba6d55dc60cce5a91",
            "bffb84c64b9144198775340cee4c3361",
            "f448d294a06f43ccb513ff530902a8bc",
            "d95987f6466f4ce980a716958f56079b",
            "065b07e31dcc46d0a35ee449aa312d2f"
          ]
        }
      },
      "outputs": [
        {
          "data": {
            "application/vnd.jupyter.widget-view+json": {
              "model_id": "7ba35a27ad4f4109b4ef6d59fd758a12",
              "version_major": 2,
              "version_minor": 0
            },
            "text/plain": [
              "Uploading the dataset shards:   0%|          | 0/2 [00:00<?, ?it/s]"
            ]
          },
          "metadata": {},
          "output_type": "display_data"
        },
        {
          "data": {
            "application/vnd.jupyter.widget-view+json": {
              "model_id": "dbf2778bc27942858f8fa9def5176c76",
              "version_major": 2,
              "version_minor": 0
            },
            "text/plain": [
              "Map:   0%|          | 0/6300 [00:00<?, ? examples/s]"
            ]
          },
          "metadata": {},
          "output_type": "display_data"
        },
        {
          "data": {
            "application/vnd.jupyter.widget-view+json": {
              "model_id": "6bd10c2b469c4a31a5bd813aad201ab4",
              "version_major": 2,
              "version_minor": 0
            },
            "text/plain": [
              "Creating parquet from Arrow format:   0%|          | 0/63 [00:00<?, ?ba/s]"
            ]
          },
          "metadata": {},
          "output_type": "display_data"
        },
        {
          "data": {
            "application/vnd.jupyter.widget-view+json": {
              "model_id": "46cf536e069c418cb0b3d0d7d8e075bd",
              "version_major": 2,
              "version_minor": 0
            },
            "text/plain": [
              "Map:   0%|          | 0/6300 [00:00<?, ? examples/s]"
            ]
          },
          "metadata": {},
          "output_type": "display_data"
        },
        {
          "data": {
            "application/vnd.jupyter.widget-view+json": {
              "model_id": "ccc2d018f14840abbde5b00358d801e4",
              "version_major": 2,
              "version_minor": 0
            },
            "text/plain": [
              "Creating parquet from Arrow format:   0%|          | 0/63 [00:00<?, ?ba/s]"
            ]
          },
          "metadata": {},
          "output_type": "display_data"
        },
        {
          "data": {
            "application/vnd.jupyter.widget-view+json": {
              "model_id": "98e43c72b6e84c1dab8f615b906b6573",
              "version_major": 2,
              "version_minor": 0
            },
            "text/plain": [
              "Uploading the dataset shards:   0%|          | 0/1 [00:00<?, ?it/s]"
            ]
          },
          "metadata": {},
          "output_type": "display_data"
        },
        {
          "data": {
            "application/vnd.jupyter.widget-view+json": {
              "model_id": "f72bf0e0dd234c0987a0d3a40a61a8cc",
              "version_major": 2,
              "version_minor": 0
            },
            "text/plain": [
              "Map:   0%|          | 0/3618 [00:00<?, ? examples/s]"
            ]
          },
          "metadata": {},
          "output_type": "display_data"
        },
        {
          "data": {
            "application/vnd.jupyter.widget-view+json": {
              "model_id": "e65b9aa4e944409ba6d55dc60cce5a91",
              "version_major": 2,
              "version_minor": 0
            },
            "text/plain": [
              "Creating parquet from Arrow format:   0%|          | 0/37 [00:00<?, ?ba/s]"
            ]
          },
          "metadata": {},
          "output_type": "display_data"
        },
        {
          "data": {
            "application/vnd.jupyter.widget-view+json": {
              "model_id": "bffb84c64b9144198775340cee4c3361",
              "version_major": 2,
              "version_minor": 0
            },
            "text/plain": [
              "Uploading the dataset shards:   0%|          | 0/1 [00:00<?, ?it/s]"
            ]
          },
          "metadata": {},
          "output_type": "display_data"
        },
        {
          "data": {
            "application/vnd.jupyter.widget-view+json": {
              "model_id": "f448d294a06f43ccb513ff530902a8bc",
              "version_major": 2,
              "version_minor": 0
            },
            "text/plain": [
              "Map:   0%|          | 0/1782 [00:00<?, ? examples/s]"
            ]
          },
          "metadata": {},
          "output_type": "display_data"
        },
        {
          "data": {
            "application/vnd.jupyter.widget-view+json": {
              "model_id": "d95987f6466f4ce980a716958f56079b",
              "version_major": 2,
              "version_minor": 0
            },
            "text/plain": [
              "Creating parquet from Arrow format:   0%|          | 0/18 [00:00<?, ?ba/s]"
            ]
          },
          "metadata": {},
          "output_type": "display_data"
        },
        {
          "data": {
            "application/vnd.jupyter.widget-view+json": {
              "model_id": "065b07e31dcc46d0a35ee449aa312d2f",
              "version_major": 2,
              "version_minor": 0
            },
            "text/plain": [
              "README.md:   0%|          | 0.00/635 [00:00<?, ?B/s]"
            ]
          },
          "metadata": {},
          "output_type": "display_data"
        },
        {
          "data": {
            "text/plain": [
              "CommitInfo(commit_url='https://huggingface.co/datasets/iisking/waccent/commit/7455ec796b4c6e52dff27a5e56c8ab6d35d3cf64', commit_message='Upload dataset', commit_description='', oid='7455ec796b4c6e52dff27a5e56c8ab6d35d3cf64', pr_url=None, pr_revision=None, pr_num=None)"
            ]
          },
          "execution_count": 17,
          "metadata": {},
          "output_type": "execute_result"
        }
      ],
      "source": [
        "dataset_dict.push_to_hub(repo_id=\"iisking/waccent\")"
      ]
    }
  ],
  "metadata": {
    "kernelspec": {
      "display_name": ".venv",
      "language": "python",
      "name": "python3"
    },
    "language_info": {
      "codemirror_mode": {
        "name": "ipython",
        "version": 3
      },
      "file_extension": ".py",
      "mimetype": "text/x-python",
      "name": "python",
      "nbconvert_exporter": "python",
      "pygments_lexer": "ipython3",
      "version": "3.11.8"
    },
    "colab": {
      "provenance": [],
      "include_colab_link": true
    }
  },
  "nbformat": 4,
  "nbformat_minor": 0
}