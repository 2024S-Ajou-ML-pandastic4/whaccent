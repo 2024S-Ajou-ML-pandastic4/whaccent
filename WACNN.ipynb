{
  "cells": [
    {
      "cell_type": "markdown",
      "metadata": {
        "id": "view-in-github",
        "colab_type": "text"
      },
      "source": [
        "<a href=\"https://colab.research.google.com/github/2024S-Ajou-ML-pandastic4/whaccent/blob/master/WACNN.ipynb\" target=\"_parent\"><img src=\"https://colab.research.google.com/assets/colab-badge.svg\" alt=\"Open In Colab\"/></a>"
      ]
    },
    {
      "cell_type": "code",
      "execution_count": null,
      "metadata": {
        "colab": {
          "base_uri": "https://localhost:8080/"
        },
        "id": "riWirmDV1Nuy",
        "outputId": "977afabd-c010-4df7-993a-cd06adefa64e"
      },
      "outputs": [
        {
          "output_type": "stream",
          "name": "stdout",
          "text": [
            "Requirement already satisfied: torchaudio in /usr/local/lib/python3.10/dist-packages (2.3.0+cu121)\n",
            "Requirement already satisfied: torch==2.3.0 in /usr/local/lib/python3.10/dist-packages (from torchaudio) (2.3.0+cu121)\n",
            "Requirement already satisfied: filelock in /usr/local/lib/python3.10/dist-packages (from torch==2.3.0->torchaudio) (3.14.0)\n",
            "Requirement already satisfied: typing-extensions>=4.8.0 in /usr/local/lib/python3.10/dist-packages (from torch==2.3.0->torchaudio) (4.11.0)\n",
            "Requirement already satisfied: sympy in /usr/local/lib/python3.10/dist-packages (from torch==2.3.0->torchaudio) (1.12)\n",
            "Requirement already satisfied: networkx in /usr/local/lib/python3.10/dist-packages (from torch==2.3.0->torchaudio) (3.3)\n",
            "Requirement already satisfied: jinja2 in /usr/local/lib/python3.10/dist-packages (from torch==2.3.0->torchaudio) (3.1.4)\n",
            "Requirement already satisfied: fsspec in /usr/local/lib/python3.10/dist-packages (from torch==2.3.0->torchaudio) (2023.6.0)\n",
            "Collecting nvidia-cuda-nvrtc-cu12==12.1.105 (from torch==2.3.0->torchaudio)\n",
            "  Using cached nvidia_cuda_nvrtc_cu12-12.1.105-py3-none-manylinux1_x86_64.whl (23.7 MB)\n",
            "Collecting nvidia-cuda-runtime-cu12==12.1.105 (from torch==2.3.0->torchaudio)\n",
            "  Using cached nvidia_cuda_runtime_cu12-12.1.105-py3-none-manylinux1_x86_64.whl (823 kB)\n",
            "Collecting nvidia-cuda-cupti-cu12==12.1.105 (from torch==2.3.0->torchaudio)\n",
            "  Using cached nvidia_cuda_cupti_cu12-12.1.105-py3-none-manylinux1_x86_64.whl (14.1 MB)\n",
            "Collecting nvidia-cudnn-cu12==8.9.2.26 (from torch==2.3.0->torchaudio)\n",
            "  Using cached nvidia_cudnn_cu12-8.9.2.26-py3-none-manylinux1_x86_64.whl (731.7 MB)\n",
            "Collecting nvidia-cublas-cu12==12.1.3.1 (from torch==2.3.0->torchaudio)\n",
            "  Using cached nvidia_cublas_cu12-12.1.3.1-py3-none-manylinux1_x86_64.whl (410.6 MB)\n",
            "Collecting nvidia-cufft-cu12==11.0.2.54 (from torch==2.3.0->torchaudio)\n",
            "  Using cached nvidia_cufft_cu12-11.0.2.54-py3-none-manylinux1_x86_64.whl (121.6 MB)\n",
            "Collecting nvidia-curand-cu12==10.3.2.106 (from torch==2.3.0->torchaudio)\n",
            "  Using cached nvidia_curand_cu12-10.3.2.106-py3-none-manylinux1_x86_64.whl (56.5 MB)\n",
            "Collecting nvidia-cusolver-cu12==11.4.5.107 (from torch==2.3.0->torchaudio)\n",
            "  Using cached nvidia_cusolver_cu12-11.4.5.107-py3-none-manylinux1_x86_64.whl (124.2 MB)\n",
            "Collecting nvidia-cusparse-cu12==12.1.0.106 (from torch==2.3.0->torchaudio)\n",
            "  Using cached nvidia_cusparse_cu12-12.1.0.106-py3-none-manylinux1_x86_64.whl (196.0 MB)\n",
            "Collecting nvidia-nccl-cu12==2.20.5 (from torch==2.3.0->torchaudio)\n",
            "  Using cached nvidia_nccl_cu12-2.20.5-py3-none-manylinux2014_x86_64.whl (176.2 MB)\n",
            "Collecting nvidia-nvtx-cu12==12.1.105 (from torch==2.3.0->torchaudio)\n",
            "  Using cached nvidia_nvtx_cu12-12.1.105-py3-none-manylinux1_x86_64.whl (99 kB)\n",
            "Requirement already satisfied: triton==2.3.0 in /usr/local/lib/python3.10/dist-packages (from torch==2.3.0->torchaudio) (2.3.0)\n",
            "Collecting nvidia-nvjitlink-cu12 (from nvidia-cusolver-cu12==11.4.5.107->torch==2.3.0->torchaudio)\n",
            "  Downloading nvidia_nvjitlink_cu12-12.5.40-py3-none-manylinux2014_x86_64.whl (21.3 MB)\n",
            "\u001b[2K     \u001b[90m━━━━━━━━━━━━━━━━━━━━━━━━━━━━━━━━━━━━━━━━\u001b[0m \u001b[32m21.3/21.3 MB\u001b[0m \u001b[31m54.8 MB/s\u001b[0m eta \u001b[36m0:00:00\u001b[0m\n",
            "\u001b[?25hRequirement already satisfied: MarkupSafe>=2.0 in /usr/local/lib/python3.10/dist-packages (from jinja2->torch==2.3.0->torchaudio) (2.1.5)\n",
            "Requirement already satisfied: mpmath>=0.19 in /usr/local/lib/python3.10/dist-packages (from sympy->torch==2.3.0->torchaudio) (1.3.0)\n",
            "Installing collected packages: nvidia-nvtx-cu12, nvidia-nvjitlink-cu12, nvidia-nccl-cu12, nvidia-curand-cu12, nvidia-cufft-cu12, nvidia-cuda-runtime-cu12, nvidia-cuda-nvrtc-cu12, nvidia-cuda-cupti-cu12, nvidia-cublas-cu12, nvidia-cusparse-cu12, nvidia-cudnn-cu12, nvidia-cusolver-cu12\n",
            "Successfully installed nvidia-cublas-cu12-12.1.3.1 nvidia-cuda-cupti-cu12-12.1.105 nvidia-cuda-nvrtc-cu12-12.1.105 nvidia-cuda-runtime-cu12-12.1.105 nvidia-cudnn-cu12-8.9.2.26 nvidia-cufft-cu12-11.0.2.54 nvidia-curand-cu12-10.3.2.106 nvidia-cusolver-cu12-11.4.5.107 nvidia-cusparse-cu12-12.1.0.106 nvidia-nccl-cu12-2.20.5 nvidia-nvjitlink-cu12-12.5.40 nvidia-nvtx-cu12-12.1.105\n"
          ]
        }
      ],
      "source": [
        "!pip install torchaudio\n",
        "\n",
        "import torch\n",
        "import torch.nn as nn\n",
        "import torchaudio\n",
        "import torchaudio.transforms as AT\n",
        "import matplotlib.pyplot as plt"
      ]
    },
    {
      "cell_type": "code",
      "execution_count": null,
      "metadata": {
        "colab": {
          "base_uri": "https://localhost:8080/",
          "height": 1000,
          "referenced_widgets": [
            "5a5b11424a9b40c49b91c62a4609ed81",
            "331e7e0384a14b309cb1615bc558f7eb",
            "cb3021c8438f41f48609f8eb56f46908",
            "e3d41d47ebdb431f9b367a86966ff408",
            "2a0db802f1ac4e84b2ecad6bdf12c8a8",
            "6fda9bc4f44644dc8fcb5e4a4a736bda",
            "f56b286e5b4f43d8a500852ed01ab10d",
            "45026b74ea85436f8cf366f7703c9d6c",
            "c1ce2271b06741ff85f30574bbab7fac",
            "394933fb8d6b47908665d2bf1bb99f29",
            "4848d93021e4499ea0db581b5f63ebf6",
            "b70ed7020033441a8698c8ce5fc3e8a6",
            "1a6e2390444e4f4caacdf37558191e2f",
            "1e47a4986caa4143a65b5219f04f7054",
            "8adda1fd68a741f5a377ec3e325d7175",
            "d15273a5c1184098a280470b70d4757f",
            "c5ac9c4386ba4f2bac66bd681ab5d488",
            "de8281520f894b71b5002c94868f3852",
            "2c84eda0750c463ba4d0b2fb053293bf",
            "2fcf70f3be644fa888a3abb133c99d95",
            "68072c050ccd4900a5152b8c87555292",
            "16e7243ae1774eaf8049991969b4a802",
            "6db869a57b28465cb8e29762d4c5a1b1",
            "7fcfed5ad7fe4922b07fefe9683c6c9c",
            "eb5779615f6d464d8ecd7b445af3964e",
            "6d1fc850946641e99e41d2c2967cddac",
            "52a8675bf5bd416180ba44a6b287fd54",
            "f4bd00ad627f45f29bbef1707071a9aa",
            "9c4bd4016865423e928fa4e4cffb6015",
            "936fd37383a94444b9faa2141ace3921",
            "4a8e5443a5334992bafa743b6dace1a2",
            "10baf18fc19e47648c915555ba1128d2",
            "2ab204ddc42f47228d4777176c3e0e24",
            "18e913fa5d7441a4943ef37325096d57",
            "e2e6098e446f4ff89dca5002c1e137ea",
            "f6f90ff0b4c543dca5fe0870d3f70dea",
            "1172b9097857487f90c854174659b1c7",
            "72a0a708ba8147168f075023245ee3c2",
            "49a1ef53fc42455581c3606e03f6d440",
            "a451f2ff0ee44ce793f0e012cd3fd607",
            "f4e709eb25e543b99ccb84cdcdcee485",
            "0ddb4ad8eeb04b2eaf4420baf8198150",
            "f787ddc2ef8f4f77ac2e98bad5993385",
            "c0b6a9dc56e94240a912aa77737d7a80",
            "3cf957bffae5426cb83ff967d846d4a5",
            "3b06b55dca4d46db9b9d5f0421dbcda1",
            "35b3f1e6e47944b490922d2d2a8076a7",
            "b56b0f4bf552419eaca843a2ed95f930",
            "b8d47b6617754e7dbef210b61ae86678",
            "0c86fa89ac8941558b31d1fca5d0ebfb",
            "f446e81cc7a541818b585af6a05384cc",
            "468b708cc8444c2184e121a3e1b43c24",
            "261c4fcfb6d34415b8db951e064d1a1e",
            "32142b53cd1548859bace5cd60adf4ce",
            "082471853e1842659da104fdc8f13b2e",
            "80a42d7da22141ceaf6a5b21d80a6230",
            "7e0c55fd4fb24a5796808519855c9154",
            "79e5c8b4f98f40fe9d3694143853e28b",
            "c16dd3d0cf2f4023a8f1e446f54531bf",
            "f756aaa75f21434984f7e78d08108a56",
            "bf0d2266a0f64acfb7432a2c394bd133",
            "b06342bab2f142f384d2f6ac8370d0e6",
            "57a1675a8c744f40ac61c287d332b96c",
            "82fb95d8988c4da8ad24cddbd2bcea46",
            "1d2df48dda72436da4c88b6e8e4d10a2",
            "98c0623ebd5d4a67af8aa57adab05d8b",
            "b85d0dbae6884a8baac2e15d49b0e5dc",
            "229db9aa311346c6ae7a3aa7fd573a5b",
            "2940b53163fb4333964f0c21dc6b5215",
            "911d828aff50435891f7e9f7e59cc9a9",
            "4a9a880060dd409585fe04ea1e43f559",
            "319262e7b98f48d98207733e98908d2a",
            "80e798f949d84d35b7e6a5e7cd476660",
            "86688b4d324342fa94a89400ffdc9dea",
            "8cf9c57918244948b8ec9aa8bf4f9b08",
            "e9603e13048d4e21baf29b739d67cf9b",
            "c3fc7a4aa57e475daa635235ff7fd54c",
            "f7dfd316cbf2495aaa9b50ca644f8c8f",
            "128f3b98f4e34107bc4d8e973ae2856a",
            "b2ba4358ef5c49daa78b7127d301abf4",
            "244357c8f7414244b4ca42a7823dffc6",
            "a687055cbe604bebad4d325770f8f464",
            "bd55fe4a401b4335a3dfe6f5a8c40d68",
            "73cec4bf59994971999272eff465bda5",
            "d4e2d9f19b0f44dab5e1cf4fb8a873bc",
            "772ea6780e9b4e0295ffaef07847fc34",
            "78cd15bde2a54c46986bdea69f275b41",
            "71c8c0f420174a589e9e74a9cf15ebdb"
          ]
        },
        "id": "KQP_P8PWVwao",
        "outputId": "58907f7a-3e17-42b7-ae06-933720dfc757"
      },
      "outputs": [
        {
          "output_type": "stream",
          "name": "stdout",
          "text": [
            "Collecting datasets\n",
            "  Downloading datasets-2.19.1-py3-none-any.whl (542 kB)\n",
            "\u001b[?25l     \u001b[90m━━━━━━━━━━━━━━━━━━━━━━━━━━━━━━━━━━━━━━━━\u001b[0m \u001b[32m0.0/542.0 kB\u001b[0m \u001b[31m?\u001b[0m eta \u001b[36m-:--:--\u001b[0m\r\u001b[2K     \u001b[91m━━━━━━━━━━━━━━━━\u001b[0m\u001b[91m╸\u001b[0m\u001b[90m━━━━━━━━━━━━━━━━━━━━━━━\u001b[0m \u001b[32m225.3/542.0 kB\u001b[0m \u001b[31m6.6 MB/s\u001b[0m eta \u001b[36m0:00:01\u001b[0m\r\u001b[2K     \u001b[91m━━━━━━━━━━━━━━━━━━━━━━━━━━━━━━━━━━━━━━━\u001b[0m\u001b[90m╺\u001b[0m \u001b[32m532.5/542.0 kB\u001b[0m \u001b[31m8.5 MB/s\u001b[0m eta \u001b[36m0:00:01\u001b[0m\r\u001b[2K     \u001b[90m━━━━━━━━━━━━━━━━━━━━━━━━━━━━━━━━━━━━━━━━\u001b[0m \u001b[32m542.0/542.0 kB\u001b[0m \u001b[31m7.3 MB/s\u001b[0m eta \u001b[36m0:00:00\u001b[0m\n",
            "\u001b[?25hRequirement already satisfied: librosa in /usr/local/lib/python3.10/dist-packages (0.10.2.post1)\n",
            "Requirement already satisfied: filelock in /usr/local/lib/python3.10/dist-packages (from datasets) (3.14.0)\n",
            "Requirement already satisfied: numpy>=1.17 in /usr/local/lib/python3.10/dist-packages (from datasets) (1.25.2)\n",
            "Requirement already satisfied: pyarrow>=12.0.0 in /usr/local/lib/python3.10/dist-packages (from datasets) (14.0.2)\n",
            "Requirement already satisfied: pyarrow-hotfix in /usr/local/lib/python3.10/dist-packages (from datasets) (0.6)\n",
            "Collecting dill<0.3.9,>=0.3.0 (from datasets)\n",
            "  Downloading dill-0.3.8-py3-none-any.whl (116 kB)\n",
            "\u001b[2K     \u001b[90m━━━━━━━━━━━━━━━━━━━━━━━━━━━━━━━━━━━━━━━━\u001b[0m \u001b[32m116.3/116.3 kB\u001b[0m \u001b[31m7.8 MB/s\u001b[0m eta \u001b[36m0:00:00\u001b[0m\n",
            "\u001b[?25hRequirement already satisfied: pandas in /usr/local/lib/python3.10/dist-packages (from datasets) (2.0.3)\n",
            "Requirement already satisfied: requests>=2.19.0 in /usr/local/lib/python3.10/dist-packages (from datasets) (2.31.0)\n",
            "Requirement already satisfied: tqdm>=4.62.1 in /usr/local/lib/python3.10/dist-packages (from datasets) (4.66.4)\n",
            "Collecting xxhash (from datasets)\n",
            "  Downloading xxhash-3.4.1-cp310-cp310-manylinux_2_17_x86_64.manylinux2014_x86_64.whl (194 kB)\n",
            "\u001b[2K     \u001b[90m━━━━━━━━━━━━━━━━━━━━━━━━━━━━━━━━━━━━━━━━\u001b[0m \u001b[32m194.1/194.1 kB\u001b[0m \u001b[31m9.6 MB/s\u001b[0m eta \u001b[36m0:00:00\u001b[0m\n",
            "\u001b[?25hCollecting multiprocess (from datasets)\n",
            "  Downloading multiprocess-0.70.16-py310-none-any.whl (134 kB)\n",
            "\u001b[2K     \u001b[90m━━━━━━━━━━━━━━━━━━━━━━━━━━━━━━━━━━━━━━━━\u001b[0m \u001b[32m134.8/134.8 kB\u001b[0m \u001b[31m9.3 MB/s\u001b[0m eta \u001b[36m0:00:00\u001b[0m\n",
            "\u001b[?25hRequirement already satisfied: fsspec[http]<=2024.3.1,>=2023.1.0 in /usr/local/lib/python3.10/dist-packages (from datasets) (2023.6.0)\n",
            "Requirement already satisfied: aiohttp in /usr/local/lib/python3.10/dist-packages (from datasets) (3.9.5)\n",
            "Requirement already satisfied: huggingface-hub>=0.21.2 in /usr/local/lib/python3.10/dist-packages (from datasets) (0.23.1)\n",
            "Requirement already satisfied: packaging in /usr/local/lib/python3.10/dist-packages (from datasets) (24.0)\n",
            "Requirement already satisfied: pyyaml>=5.1 in /usr/local/lib/python3.10/dist-packages (from datasets) (6.0.1)\n",
            "Requirement already satisfied: audioread>=2.1.9 in /usr/local/lib/python3.10/dist-packages (from librosa) (3.0.1)\n",
            "Requirement already satisfied: scipy>=1.2.0 in /usr/local/lib/python3.10/dist-packages (from librosa) (1.11.4)\n",
            "Requirement already satisfied: scikit-learn>=0.20.0 in /usr/local/lib/python3.10/dist-packages (from librosa) (1.2.2)\n",
            "Requirement already satisfied: joblib>=0.14 in /usr/local/lib/python3.10/dist-packages (from librosa) (1.4.2)\n",
            "Requirement already satisfied: decorator>=4.3.0 in /usr/local/lib/python3.10/dist-packages (from librosa) (4.4.2)\n",
            "Requirement already satisfied: numba>=0.51.0 in /usr/local/lib/python3.10/dist-packages (from librosa) (0.58.1)\n",
            "Requirement already satisfied: soundfile>=0.12.1 in /usr/local/lib/python3.10/dist-packages (from librosa) (0.12.1)\n",
            "Requirement already satisfied: pooch>=1.1 in /usr/local/lib/python3.10/dist-packages (from librosa) (1.8.1)\n",
            "Requirement already satisfied: soxr>=0.3.2 in /usr/local/lib/python3.10/dist-packages (from librosa) (0.3.7)\n",
            "Requirement already satisfied: typing-extensions>=4.1.1 in /usr/local/lib/python3.10/dist-packages (from librosa) (4.11.0)\n",
            "Requirement already satisfied: lazy-loader>=0.1 in /usr/local/lib/python3.10/dist-packages (from librosa) (0.4)\n",
            "Requirement already satisfied: msgpack>=1.0 in /usr/local/lib/python3.10/dist-packages (from librosa) (1.0.8)\n",
            "Requirement already satisfied: aiosignal>=1.1.2 in /usr/local/lib/python3.10/dist-packages (from aiohttp->datasets) (1.3.1)\n",
            "Requirement already satisfied: attrs>=17.3.0 in /usr/local/lib/python3.10/dist-packages (from aiohttp->datasets) (23.2.0)\n",
            "Requirement already satisfied: frozenlist>=1.1.1 in /usr/local/lib/python3.10/dist-packages (from aiohttp->datasets) (1.4.1)\n",
            "Requirement already satisfied: multidict<7.0,>=4.5 in /usr/local/lib/python3.10/dist-packages (from aiohttp->datasets) (6.0.5)\n",
            "Requirement already satisfied: yarl<2.0,>=1.0 in /usr/local/lib/python3.10/dist-packages (from aiohttp->datasets) (1.9.4)\n",
            "Requirement already satisfied: async-timeout<5.0,>=4.0 in /usr/local/lib/python3.10/dist-packages (from aiohttp->datasets) (4.0.3)\n",
            "Requirement already satisfied: llvmlite<0.42,>=0.41.0dev0 in /usr/local/lib/python3.10/dist-packages (from numba>=0.51.0->librosa) (0.41.1)\n",
            "Requirement already satisfied: platformdirs>=2.5.0 in /usr/local/lib/python3.10/dist-packages (from pooch>=1.1->librosa) (4.2.2)\n",
            "Requirement already satisfied: charset-normalizer<4,>=2 in /usr/local/lib/python3.10/dist-packages (from requests>=2.19.0->datasets) (3.3.2)\n",
            "Requirement already satisfied: idna<4,>=2.5 in /usr/local/lib/python3.10/dist-packages (from requests>=2.19.0->datasets) (3.7)\n",
            "Requirement already satisfied: urllib3<3,>=1.21.1 in /usr/local/lib/python3.10/dist-packages (from requests>=2.19.0->datasets) (2.0.7)\n",
            "Requirement already satisfied: certifi>=2017.4.17 in /usr/local/lib/python3.10/dist-packages (from requests>=2.19.0->datasets) (2024.2.2)\n",
            "Requirement already satisfied: threadpoolctl>=2.0.0 in /usr/local/lib/python3.10/dist-packages (from scikit-learn>=0.20.0->librosa) (3.5.0)\n",
            "Requirement already satisfied: cffi>=1.0 in /usr/local/lib/python3.10/dist-packages (from soundfile>=0.12.1->librosa) (1.16.0)\n",
            "Requirement already satisfied: python-dateutil>=2.8.2 in /usr/local/lib/python3.10/dist-packages (from pandas->datasets) (2.8.2)\n",
            "Requirement already satisfied: pytz>=2020.1 in /usr/local/lib/python3.10/dist-packages (from pandas->datasets) (2023.4)\n",
            "Requirement already satisfied: tzdata>=2022.1 in /usr/local/lib/python3.10/dist-packages (from pandas->datasets) (2024.1)\n",
            "Requirement already satisfied: pycparser in /usr/local/lib/python3.10/dist-packages (from cffi>=1.0->soundfile>=0.12.1->librosa) (2.22)\n",
            "Requirement already satisfied: six>=1.5 in /usr/local/lib/python3.10/dist-packages (from python-dateutil>=2.8.2->pandas->datasets) (1.16.0)\n",
            "Installing collected packages: xxhash, dill, multiprocess, datasets\n",
            "Successfully installed datasets-2.19.1 dill-0.3.8 multiprocess-0.70.16 xxhash-3.4.1\n"
          ]
        },
        {
          "output_type": "stream",
          "name": "stderr",
          "text": [
            "/usr/local/lib/python3.10/dist-packages/huggingface_hub/utils/_token.py:89: UserWarning: \n",
            "The secret `HF_TOKEN` does not exist in your Colab secrets.\n",
            "To authenticate with the Hugging Face Hub, create a token in your settings tab (https://huggingface.co/settings/tokens), set it as secret in your Google Colab and restart your session.\n",
            "You will be able to reuse this secret in all of your notebooks.\n",
            "Please note that authentication is recommended but still optional to access public models or datasets.\n",
            "  warnings.warn(\n"
          ]
        },
        {
          "output_type": "display_data",
          "data": {
            "text/plain": [
              "Downloading readme:   0%|          | 0.00/667 [00:00<?, ?B/s]"
            ],
            "application/vnd.jupyter.widget-view+json": {
              "version_major": 2,
              "version_minor": 0,
              "model_id": "5a5b11424a9b40c49b91c62a4609ed81"
            }
          },
          "metadata": {}
        },
        {
          "output_type": "display_data",
          "data": {
            "text/plain": [
              "Downloading data:   0%|          | 0.00/264M [00:00<?, ?B/s]"
            ],
            "application/vnd.jupyter.widget-view+json": {
              "version_major": 2,
              "version_minor": 0,
              "model_id": "b70ed7020033441a8698c8ce5fc3e8a6"
            }
          },
          "metadata": {}
        },
        {
          "output_type": "display_data",
          "data": {
            "text/plain": [
              "Downloading data:   0%|          | 0.00/263M [00:00<?, ?B/s]"
            ],
            "application/vnd.jupyter.widget-view+json": {
              "version_major": 2,
              "version_minor": 0,
              "model_id": "6db869a57b28465cb8e29762d4c5a1b1"
            }
          },
          "metadata": {}
        },
        {
          "output_type": "display_data",
          "data": {
            "text/plain": [
              "Downloading data:   0%|          | 0.00/150M [00:00<?, ?B/s]"
            ],
            "application/vnd.jupyter.widget-view+json": {
              "version_major": 2,
              "version_minor": 0,
              "model_id": "18e913fa5d7441a4943ef37325096d57"
            }
          },
          "metadata": {}
        },
        {
          "output_type": "display_data",
          "data": {
            "text/plain": [
              "Downloading data:   0%|          | 0.00/73.1M [00:00<?, ?B/s]"
            ],
            "application/vnd.jupyter.widget-view+json": {
              "version_major": 2,
              "version_minor": 0,
              "model_id": "3cf957bffae5426cb83ff967d846d4a5"
            }
          },
          "metadata": {}
        },
        {
          "output_type": "display_data",
          "data": {
            "text/plain": [
              "Generating train split:   0%|          | 0/12600 [00:00<?, ? examples/s]"
            ],
            "application/vnd.jupyter.widget-view+json": {
              "version_major": 2,
              "version_minor": 0,
              "model_id": "80a42d7da22141ceaf6a5b21d80a6230"
            }
          },
          "metadata": {}
        },
        {
          "output_type": "display_data",
          "data": {
            "text/plain": [
              "Generating validatoin split:   0%|          | 0/3618 [00:00<?, ? examples/s]"
            ],
            "application/vnd.jupyter.widget-view+json": {
              "version_major": 2,
              "version_minor": 0,
              "model_id": "b85d0dbae6884a8baac2e15d49b0e5dc"
            }
          },
          "metadata": {}
        },
        {
          "output_type": "display_data",
          "data": {
            "text/plain": [
              "Generating test split:   0%|          | 0/1782 [00:00<?, ? examples/s]"
            ],
            "application/vnd.jupyter.widget-view+json": {
              "version_major": 2,
              "version_minor": 0,
              "model_id": "f7dfd316cbf2495aaa9b50ca644f8c8f"
            }
          },
          "metadata": {}
        },
        {
          "output_type": "stream",
          "name": "stdout",
          "text": [
            "DatasetDict({\n",
            "    train: Dataset({\n",
            "        features: ['filename', 'text', 'accent', 'duration', '__index_level_0__'],\n",
            "        num_rows: 12600\n",
            "    })\n",
            "    validation: Dataset({\n",
            "        features: ['filename', 'text', 'accent', 'duration', '__index_level_0__'],\n",
            "        num_rows: 3618\n",
            "    })\n",
            "    test: Dataset({\n",
            "        features: ['filename', 'text', 'accent', 'duration', '__index_level_0__'],\n",
            "        num_rows: 1782\n",
            "    })\n",
            "})\n"
          ]
        }
      ],
      "source": [
        "!pip install datasets librosa\n",
        "\n",
        "from datasets import load_dataset, DatasetDict, Audio\n",
        "import torch\n",
        "from torch.utils.data import Dataset, DataLoader\n",
        "from torch.nn.utils.rnn import pad_sequence\n",
        "import librosa\n",
        "import numpy as np\n",
        "\n",
        "# 데이터셋 로드\n",
        "dataset_name = \"iisking/waccent\"\n",
        "dataset = DatasetDict()\n",
        "\n",
        "dataset[\"train\"] = load_dataset(dataset_name, split=\"train\")\n",
        "dataset[\"validation\"] = load_dataset(dataset_name, split=\"validatoin\") # 오타 수정\n",
        "dataset[\"test\"] = load_dataset(dataset_name, split=\"test\")\n",
        "print(dataset)"
      ]
    },
    {
      "cell_type": "code",
      "execution_count": null,
      "metadata": {
        "id": "fFXJSCkCt6MW"
      },
      "outputs": [],
      "source": [
        "import os\n",
        "import time\n",
        "import shutil\n",
        "import pandas as pd\n",
        "from tqdm import tqdm"
      ]
    },
    {
      "cell_type": "code",
      "execution_count": null,
      "metadata": {
        "id": "AqPPuxOUBX89"
      },
      "outputs": [],
      "source": [
        "\n",
        "from torchvision import datasets\n",
        "from torchvision.transforms import v2"
      ]
    },
    {
      "cell_type": "code",
      "execution_count": null,
      "metadata": {
        "colab": {
          "base_uri": "https://localhost:8080/"
        },
        "id": "Gmk55eLaDfr6",
        "outputId": "db2d2443-2b28-4677-8f73-b3166cc43d14"
      },
      "outputs": [
        {
          "output_type": "stream",
          "name": "stdout",
          "text": [
            "{'path': 'sample-086904.mp3', 'array': array([ 0.00000000e+00, -8.35235134e-15, -7.95493872e-15, ...,\n",
            "        3.18146078e-07,  1.51354641e-06, -1.63861444e-07]), 'sampling_rate': 48000}\n",
            "168192\n"
          ]
        }
      ],
      "source": [
        "print(dataset[\"train\"][0][\"filename\"])\n",
        "print(len(dataset[\"train\"][0][\"filename\"][\"array\"]))"
      ]
    },
    {
      "cell_type": "code",
      "execution_count": null,
      "metadata": {
        "id": "yoGF7jbK4qJL"
      },
      "outputs": [],
      "source": [
        "# 오디오 데이터셋으로 변환\n",
        "dataset = dataset.cast_column(\"filename\", Audio(sampling_rate=16000))\n",
        "\n",
        "# 라벨을 숫자로 변환하기 위한 맵핑\n",
        "accent_to_label = {accent: idx for idx, accent in enumerate(set(dataset[\"train\"][\"accent\"]))}"
      ]
    },
    {
      "cell_type": "code",
      "source": [
        "print(accent_to_label)"
      ],
      "metadata": {
        "colab": {
          "base_uri": "https://localhost:8080/"
        },
        "id": "BqVKzhShvold",
        "outputId": "b34c7236-db33-4b10-8446-6328dbbe668e"
      },
      "execution_count": null,
      "outputs": [
        {
          "output_type": "stream",
          "name": "stdout",
          "text": [
            "{'KR': 0, 'indian': 1, 'us': 2, 'canada': 3, 'england': 4, 'australia': 5}\n"
          ]
        }
      ]
    },
    {
      "cell_type": "code",
      "execution_count": null,
      "metadata": {
        "colab": {
          "base_uri": "https://localhost:8080/",
          "height": 367
        },
        "id": "CmmGriwNvyPa",
        "outputId": "6ff6b5f7-4cef-4cd8-9b62-467e02d13329"
      },
      "outputs": [
        {
          "output_type": "display_data",
          "data": {
            "text/plain": [
              "<Figure size 800x400 with 1 Axes>"
            ],
            "image/png": "[encoded data removed]"
          },
          "metadata": {}
        }
      ],
      "source": [
        "\n",
        "#하나의 음성데이터 시각화\n",
        "\n",
        "audio = dataset[\"train\"][0][\"filename\"][\"array\"]\n",
        "audio = torch.tensor(audio).float()\n",
        "\n",
        "#패딩\n",
        "pad_size = 160000 - audio.shape[0]\n",
        "audio = torch.nn.functional.pad(audio, (0, pad_size))\n",
        "\n",
        "audio = audio.reshape(1, -1) #torch.tensor (1,n)\n",
        "\n",
        "_, ax = plt.subplots(1,1, figsize = (8,4))\n",
        "ax.plot(audio[0, :])\n",
        "plt.show()\n"
      ]
    },
    {
      "cell_type": "code",
      "execution_count": null,
      "metadata": {
        "colab": {
          "base_uri": "https://localhost:8080/",
          "height": 367
        },
        "id": "z9wWZbR-Hp0S",
        "outputId": "62257dc3-9fe0-4ec1-acef-67a5bc3e080b"
      },
      "outputs": [
        {
          "output_type": "display_data",
          "data": {
            "text/plain": [
              "<Figure size 800x400 with 1 Axes>"
            ],
            "image/png": "[encoded data removed]"
          },
          "metadata": {}
        }
      ],
      "source": [
        "#data augmentation 1: # 위상을 뒤집는 것으로서 원래 소리와 똑같이 들린다.\n",
        "temp_numpy = (-1)*audio\n",
        "\n",
        "_, ax = plt.subplots(1,1, figsize = (8,4))\n",
        "ax.plot(temp_numpy[0, :])\n",
        "plt.show()\n"
      ]
    },
    {
      "cell_type": "code",
      "execution_count": null,
      "metadata": {
        "colab": {
          "base_uri": "https://localhost:8080/"
        },
        "id": "bqeyNi2y0v7R",
        "outputId": "816700e8-c1bf-481d-eec4-3f60a454c9c3"
      },
      "outputs": [
        {
          "output_type": "stream",
          "name": "stderr",
          "text": [
            "/usr/local/lib/python3.10/dist-packages/torchaudio/functional/functional.py:584: UserWarning: At least one mel filterbank has all zero values. The value for `n_mels` (120) may be set too high. Or, the value for `n_freqs` (257) may be set too low.\n",
            "  warnings.warn(\n"
          ]
        }
      ],
      "source": [
        "#멜 스펙트로그램 변환기\n",
        "sr = 16000\n",
        "win_length = int(np.ceil(0.025 * sr))\n",
        "#n_fft = int(np.ceil(0.025 * sr))\n",
        "n_fft=512\n",
        "hop_length = int(np.ceil(0.01 * sr))\n",
        "\n",
        "melspectrogram = nn.Sequential(\n",
        "     AT.MelSpectrogram(\n",
        "     sample_rate=sr,\n",
        "     n_fft=n_fft,\n",
        "     win_length=win_length,\n",
        "     hop_length=hop_length,\n",
        "     n_mels=120 #주파수 방향 성분수\n",
        "     ),\n",
        "     AT.AmplitudeToDB()\n",
        ")\n"
      ]
    },
    {
      "cell_type": "code",
      "execution_count": null,
      "metadata": {
        "id": "VukThBX3VnAg"
      },
      "outputs": [],
      "source": [
        "\n",
        "class CustomDataset(Dataset):\n",
        "    def __init__(self, hf_dataset, accent_to_label, max_length=16000 * 8):\n",
        "        self.dataset = hf_dataset\n",
        "        self.accent_to_label = accent_to_label\n",
        "        self.max_length = max_length  # 최대 길이를 설정\n",
        "\n",
        "    def __len__(self):\n",
        "        return len(self.dataset)\n",
        "\n",
        "    def __getitem__(self, idx):\n",
        "        item = self.dataset[idx]\n",
        "        audio = item[\"filename\"][\"array\"]\n",
        "        accent = item[\"accent\"]\n",
        "\n",
        "        # 라벨을 숫자로 변환\n",
        "        label = self.accent_to_label[accent]\n",
        "\n",
        "        # 오디오 데이터를 텐서로 변환\n",
        "        audio = torch.tensor(audio).float()\n",
        "\n",
        "        # 오디오 길이를 max_length로 패딩 또는 잘라내기\n",
        "        if audio.shape[0] > self.max_length:\n",
        "            audio = audio[:self.max_length]\n",
        "        else:\n",
        "            pad_size = self.max_length - audio.shape[0]\n",
        "            audio = torch.nn.functional.pad(audio, (0, pad_size))\n",
        "\n",
        "        # 오디오 데이터를 전치\n",
        "        audio = audio.reshape(1, -1)\n",
        "        # 오디오 데이터를 멜 스펙트로그램으로 변환\n",
        "        mel = melspectrogram(audio)\n",
        "\n",
        "        return mel, label\n",
        "\n"
      ]
    },
    {
      "cell_type": "code",
      "execution_count": null,
      "metadata": {
        "id": "fcjiUuKfZsDy"
      },
      "outputs": [],
      "source": [
        "\n",
        "# 데이터셋 및 데이터로더 생성\n",
        "train_dataset = CustomDataset(dataset[\"train\"], accent_to_label)\n",
        "val_dataset = CustomDataset(dataset[\"validation\"], accent_to_label)\n",
        "test_dataset = CustomDataset(dataset[\"test\"], accent_to_label)\n",
        "\n",
        "train_loader = DataLoader(train_dataset, batch_size=64, shuffle=True)\n",
        "val_loader = DataLoader(val_dataset, batch_size=64, shuffle=False)\n",
        "test_loader = DataLoader(test_dataset, batch_size=64, shuffle=False)\n",
        "\n",
        "#train_loader = DataLoader(train_dataset, batch_size=32, shuffle=True, collate_fn=collate_fn)\n",
        "#val_loader = DataLoader(val_dataset, batch_size=32, shuffle=False, collate_fn=collate_fn)\n",
        "#test_loader = DataLoader(test_dataset, batch_size=32, shuffle=False, collate_fn=collate_fn)\n"
      ]
    },
    {
      "cell_type": "code",
      "execution_count": null,
      "metadata": {
        "colab": {
          "base_uri": "https://localhost:8080/"
        },
        "id": "z0GGtkMqZsPz",
        "outputId": "568b865e-2246-4270-9114-a15e2eed4cf3"
      },
      "outputs": [
        {
          "output_type": "stream",
          "name": "stdout",
          "text": [
            "Feature batch shape: torch.Size([64, 1, 120, 801])\n",
            "Labels batch shape: torch.Size([64])\n"
          ]
        }
      ],
      "source": [
        "\n",
        "sample_features, sample_labels = next(iter(train_loader))\n",
        "print(f\"Feature batch shape: {sample_features.size()}\")\n",
        "print(f\"Labels batch shape: {sample_labels.size()}\")"
      ]
    },
    {
      "cell_type": "code",
      "execution_count": null,
      "metadata": {
        "colab": {
          "base_uri": "https://localhost:8080/"
        },
        "id": "6ojH4bJwdVaj",
        "outputId": "437c88a9-84c5-430f-96c2-3efb9d9a8228"
      },
      "outputs": [
        {
          "output_type": "stream",
          "name": "stdout",
          "text": [
            "tensor([[[-100.0000, -100.0000, -100.0000,  ..., -100.0000, -100.0000,\n",
            "          -100.0000],\n",
            "         [-100.0000,  -98.8573,  -78.0017,  ..., -100.0000, -100.0000,\n",
            "          -100.0000],\n",
            "         [-100.0000, -100.0000,  -87.7314,  ..., -100.0000, -100.0000,\n",
            "          -100.0000],\n",
            "         ...,\n",
            "         [-100.0000, -100.0000,  -98.0350,  ..., -100.0000, -100.0000,\n",
            "          -100.0000],\n",
            "         [-100.0000, -100.0000, -100.0000,  ..., -100.0000, -100.0000,\n",
            "          -100.0000],\n",
            "         [-100.0000, -100.0000,  -96.9462,  ..., -100.0000, -100.0000,\n",
            "          -100.0000]]])\n"
          ]
        }
      ],
      "source": [
        "print(sample_features[31])"
      ]
    },
    {
      "cell_type": "code",
      "execution_count": null,
      "metadata": {
        "id": "1HS4wUmXez1Z"
      },
      "outputs": [],
      "source": [
        "#cnn 모델 구축\n",
        "import torch\n",
        "import torch.nn as nn\n",
        "import torch.nn.functional as F\n",
        "\n",
        "class WaCNN(nn.Module):\n",
        "    def __init__(self):\n",
        "        super(WaCNN, self).__init__()\n",
        "\n",
        "        #===============================================#\n",
        "\n",
        "        #데이터가 channel이 1개인 음성파일이므로 input channel 수 1\n",
        "        self.conv1 = nn.Conv2d(1, 64, kernel_size=3)\n",
        "\n",
        "        self.pool = nn.MaxPool2d(2,2)\n",
        "\n",
        "        self.conv2 = nn.Conv2d(64,128,kernel_size=3)\n",
        "\n",
        "        self.conv3 = nn.Conv2d(128,128,kernel_size=3)\n",
        "\n",
        "        self.fc1 = nn.Linear(128 * 13 * 98, 512)\n",
        "        self.fc2 = nn.Linear(512, 128)\n",
        "        self.fc3 = nn.Linear(128, 6)\n",
        "\n",
        "        #===============================================#\n",
        "\n",
        "        #conv1 layer뒤에 배치될 batch normalization\n",
        "        self.bn1 = nn.BatchNorm2d(64)\n",
        "\n",
        "        #conv2 layer뒤에 배치될 batch normalization\n",
        "        self.bn2 = nn.BatchNorm2d(128)\n",
        "\n",
        "        #conv3 layer뒤에 배치될 batch normalization\n",
        "        self.bn3 = nn.BatchNorm2d(128)\n",
        "\n",
        "        #dropout은 conv layer보다 fc layer에서 더 효과적이므로 여기다만 배치\n",
        "        #fc1과 fc2뒤에 각각 배치될 droupout\n",
        "        self.dropout1 = nn.Dropout(0.5)\n",
        "        self.dropout2 = nn.Dropout(0.3)\n",
        "\n",
        "        #===============================================#\n",
        "\n",
        "    def forward(self, x):\n",
        "\n",
        "        #===============================================#\n",
        "        x = self.pool(self.bn1(self.conv1(x)))\n",
        "        x = self.pool(self.bn2(self.conv2(x)))\n",
        "        x = self.pool(self.bn3(self.conv3(x)))\n",
        "        x = torch.flatten(x,1)\n",
        "\n",
        "        x = F.relu(self.fc1(x))\n",
        "        x = self.dropout1(x)\n",
        "\n",
        "        x = F.relu(self.fc2(x))\n",
        "        x = self.dropout2(x)\n",
        "\n",
        "        #x = F.softmax(self.fc3(x))\n",
        "        x = self.fc3(x)\n",
        "        #===============================================#\n",
        "\n",
        "        return x"
      ]
    },
    {
      "cell_type": "code",
      "execution_count": null,
      "metadata": {
        "id": "CLNmX8J6oNuS"
      },
      "outputs": [],
      "source": [
        "WaCNNmodel = WaCNN()"
      ]
    },
    {
      "cell_type": "code",
      "execution_count": null,
      "metadata": {
        "id": "JRRJ7rqgoMXN"
      },
      "outputs": [],
      "source": [
        "device = torch.device('cuda' if torch.cuda.is_available() else 'cpu')\n",
        "#WaCNNmodel.to(device) # GPU로 올리기\n",
        "#print(WaCNNmodel)"
      ]
    },
    {
      "cell_type": "code",
      "execution_count": null,
      "metadata": {
        "colab": {
          "base_uri": "https://localhost:8080/"
        },
        "id": "4ZVchUicnxL3",
        "outputId": "a3a30738-f292-43e3-c34c-92251918aed7"
      },
      "outputs": [
        {
          "output_type": "execute_result",
          "data": {
            "text/plain": [
              "WaCNN(\n",
              "  (conv1): Conv2d(1, 64, kernel_size=(3, 3), stride=(1, 1))\n",
              "  (pool): MaxPool2d(kernel_size=2, stride=2, padding=0, dilation=1, ceil_mode=False)\n",
              "  (conv2): Conv2d(64, 128, kernel_size=(3, 3), stride=(1, 1))\n",
              "  (conv3): Conv2d(128, 128, kernel_size=(3, 3), stride=(1, 1))\n",
              "  (fc1): Linear(in_features=163072, out_features=512, bias=True)\n",
              "  (fc2): Linear(in_features=512, out_features=128, bias=True)\n",
              "  (fc3): Linear(in_features=128, out_features=6, bias=True)\n",
              "  (bn1): BatchNorm2d(64, eps=1e-05, momentum=0.1, affine=True, track_running_stats=True)\n",
              "  (bn2): BatchNorm2d(128, eps=1e-05, momentum=0.1, affine=True, track_running_stats=True)\n",
              "  (bn3): BatchNorm2d(128, eps=1e-05, momentum=0.1, affine=True, track_running_stats=True)\n",
              "  (dropout1): Dropout(p=0.5, inplace=False)\n",
              "  (dropout2): Dropout(p=0.3, inplace=False)\n",
              ")"
            ]
          },
          "metadata": {},
          "execution_count": 28
        }
      ],
      "source": [
        "WaCNNmodel.cuda()"
      ]
    },
    {
      "cell_type": "code",
      "execution_count": null,
      "metadata": {
        "id": "-VK8OgJ7fKKM"
      },
      "outputs": [],
      "source": [
        "#hyperparameter 설정\n",
        "import torch.optim as optim\n",
        "\n",
        "EPOCHS = 50\n",
        "logs = {\"train_loss\":[] , \"train_acc\":[] , \"val_loss\":[] , \"val_acc\":[]}\n",
        "\n",
        "if os.path.exists('checkpoints') == False:\n",
        "    os.mkdir('checkpoints')\n",
        "\n",
        "criterion = nn.CrossEntropyLoss() # loss function\n",
        "\n",
        "#==============================#\n",
        "optimizer = optim.Adam(WaCNNmodel.parameters(), lr=0.001)\n",
        "#optimizer = optim.SGD(WaCNNmodel.parameters(), lr=0.001, momentum=0.9) # optimizer\n",
        "Cosine_lr_scheduler = optim.lr_scheduler.LambdaLR(optimizer=optimizer,\n",
        "                                        lr_lambda=lambda epoch: 0.95 ** epoch)\n",
        "#==============================#\n",
        "\n",
        "patience = 10\n",
        "counter = 0\n",
        "best_loss = np.inf\n",
        "\n"
      ]
    },
    {
      "cell_type": "code",
      "execution_count": null,
      "metadata": {
        "id": "_aMKRn4KfMQ0"
      },
      "outputs": [],
      "source": [
        "#학습\n",
        "def train(dataloader , model , loss_fn , optimizer , lr_scheduler=None):\n",
        "    size = 0\n",
        "    num_batches = len(dataloader)\n",
        "\n",
        "    model.train()\n",
        "    epoch_loss , epoch_correct = 0 , 0\n",
        "\n",
        "    for i ,(data_ , target_) in enumerate(dataloader):\n",
        "\n",
        "        #===================================================#\n",
        "        #gpu로 데이터 이동\n",
        "        data_, target_ = data_.cuda(), target_.cuda()\n",
        "\n",
        "        #gradient 초기화\n",
        "        optimizer.zero_grad()\n",
        "\n",
        "        #predict 수행\n",
        "        pred = model(data_)\n",
        "\n",
        "        #loss function 값 계산\n",
        "        loss = loss_fn(pred, target_)\n",
        "\n",
        "        #backpropagation 수행해 gradient 계산\n",
        "        loss.backward()\n",
        "\n",
        "        #weight와 bias update\n",
        "        optimizer.step()\n",
        "\n",
        "        #전체 training data 갯수 구하기 위해 현재 batch의 data 갯수를 size에 누적\n",
        "        size += len(data_)\n",
        "\n",
        "        #epoch_correct값 update\n",
        "        prednums = pred.max(1)[1] #pred에서 행별로 가장 값이 큰 인덱스 뽑아내기. 그게 곧 예상하는 숫자 label\n",
        "        epoch_correct += prednums.eq(target_).sum().item() #예상한 숫자 label tensor와 실제 정답 label tensor를 비교해 true의 갯수를 세서 누적\n",
        "\n",
        "        #epoch_loss값 update\n",
        "        epoch_loss += loss.item()\n",
        "\n",
        "        #===================================================#\n",
        "\n",
        "    if lr_scheduler != None:\n",
        "        lr_scheduler.step()\n",
        "\n",
        "    return epoch_correct/size , epoch_loss / num_batches"
      ]
    },
    {
      "cell_type": "code",
      "execution_count": null,
      "metadata": {
        "id": "QzBX_Zqo66Kw"
      },
      "outputs": [],
      "source": [
        "#test\n",
        "from sklearn.metrics import confusion_matrix\n",
        "\n",
        "\n",
        "def test(dataloader , model , loss_fn):\n",
        "    size = 0\n",
        "    num_baches = len(dataloader)\n",
        "    epoch_loss , epoch_correct= 0 ,0\n",
        "\n",
        "    # 클래스 개수 정의 (6개의 클래스)\n",
        "    num_classes = 6\n",
        "    conf_matrix = np.zeros((num_classes, num_classes), dtype=int)\n",
        "\n",
        "    with torch.no_grad(): # grad 연산 X\n",
        "        model.eval() # evaluation dropout 연산시\n",
        "        for i, (data_ , target_) in enumerate(dataloader):\n",
        "\n",
        "            #========================================#\n",
        "            #gpu로 데이터 이동\n",
        "            data_, target_ = data_.cuda(), target_.cuda()\n",
        "\n",
        "            #predict 수행\n",
        "            pred = model(data_)\n",
        "\n",
        "            softmaxpred = F.softmax(pred, dim=1)\n",
        "            softmaxpred *= 100\n",
        "\n",
        "            #loss function 값 계산\n",
        "            loss = loss_fn(pred, target_)\n",
        "\n",
        "            #전체 validation data 갯수 구하기 위해 현재 batch의 data 갯수를 size에 누적\n",
        "            size += len(data_)\n",
        "\n",
        "            #epoch_correct값 update\n",
        "            prednums = pred.max(1)[1] #pred에서 행별로 가장 값이 큰 인덱스 뽑아내기. 그게 곧 예상하는 숫자 label\n",
        "            epoch_correct += prednums.eq(target_).sum().item() #예상한 숫자 label tensor와 실제 정답 label tensor를 비교해 true의 갯수를 세서 누적\n",
        "\n",
        "            #epoch_loss값 update\n",
        "            epoch_loss += loss.item()\n",
        "\n",
        "            # Confusion Matrix 업데이트\n",
        "            conf_matrix += confusion_matrix(target_.cpu(), prednums.cpu(), labels=np.arange(num_classes))\n",
        "\n",
        "            #========================================#\n",
        "\n",
        "    return epoch_correct/size  , epoch_loss / num_baches, conf_matrix"
      ]
    },
    {
      "cell_type": "code",
      "source": [
        "for epoch in tqdm(range(EPOCHS)):\n",
        "    train_acc , train_loss = train(train_loader ,\n",
        "                                   WaCNNmodel ,\n",
        "                                   criterion ,\n",
        "                                   optimizer ,\n",
        "                                   Cosine_lr_scheduler)\n",
        "\n",
        "    val_acc , val_loss , valimatrix= test(val_loader , WaCNNmodel , criterion)\n",
        "    print(f'epoch:{epoch} \\\n",
        "    train_loss = {train_loss:.4f} , train_acc:{train_acc:.4f} \\\n",
        "    val_loss = {val_loss:.4f} , val_acc:{val_acc:.4f} \\\n",
        "    learning rate: {optimizer.param_groups[0][\"lr\"]}')\n",
        "    print(valimatrix)\n",
        "\n",
        "    logs['train_loss'].append(train_loss)\n",
        "    logs['train_acc'].append(train_acc)\n",
        "    logs['val_loss'].append(val_loss)\n",
        "    logs['val_acc'].append(val_acc)\n",
        "\n",
        "    if val_loss < best_loss:\n",
        "        counter = 0\n",
        "        best_loss = val_loss\n",
        "        torch.save(WaCNNmodel.state_dict() , \"checkpoints/Improved_CNN_best.pth\")\n",
        "    else:\n",
        "        counter+=1\n",
        "    if counter >= patience:\n",
        "        test_acc , test_loss, testmatrix = test(test_loader , WaCNNmodel , criterion)\n",
        "        print(\"Early stop !\")\n",
        "        print(test_acc)\n",
        "        print(testmatrix)\n",
        "        break"
      ],
      "metadata": {
        "colab": {
          "base_uri": "https://localhost:8080/"
        },
        "id": "6SkmKXDkvub6",
        "outputId": "b1318ead-27ab-4271-de41-594f118cb4e4",
        "collapsed": true
      },
      "execution_count": null,
      "outputs": [
        {
          "output_type": "stream",
          "name": "stderr",
          "text": [
            "  2%|▏         | 1/50 [05:27<4:27:40, 327.77s/it]"
          ]
        },
        {
          "output_type": "stream",
          "name": "stdout",
          "text": [
            "epoch:0     train_loss = 1.3112 , train_acc:0.3725     val_loss = 1.3245 , val_acc:0.4024     learning rate: 0.00044012666865176535\n",
            "[[109 418  62   0   0   3]\n",
            " [ 81 497  21   2   0   2]\n",
            " [ 87 268 249   0   0   1]\n",
            " [ 83 504  20   2   0   0]\n",
            " [ 97 476  33   1   0   0]\n",
            " [  0   0   0   3   0 599]]\n",
            "epoch:1     train_loss = 1.2998 , train_acc:0.3760     val_loss = 1.2875 , val_acc:0.4074     learning rate: 0.0004181203352191771\n",
            "[[ 45 474  71   0   0   2]\n",
            " [ 20 540  41   1   1   0]\n",
            " [ 43 274 287   0   0   1]\n",
            " [ 35 543  30   1   0   0]\n",
            " [ 21 539  47   0   0   0]\n",
            " [  0   1   0   0   0 601]]\n"
          ]
        },
        {
          "output_type": "stream",
          "name": "stderr",
          "text": [
            "\r  4%|▍         | 2/50 [10:51<4:20:19, 325.40s/it]"
          ]
        },
        {
          "output_type": "stream",
          "name": "stdout",
          "text": [
            "epoch:2     train_loss = 1.2882 , train_acc:0.3853     val_loss = 1.2664 , val_acc:0.4052     learning rate: 0.0003972143184582182\n",
            "[[ 48 444  59   1  39   1]\n",
            " [ 33 510  34   0  26   0]\n",
            " [ 63 233 285   1  23   0]\n",
            " [ 46 496  36   0  31   0]\n",
            " [ 34 508  38   0  27   0]\n",
            " [  0   6   0   0   0 596]]\n"
          ]
        },
        {
          "output_type": "stream",
          "name": "stderr",
          "text": [
            "  8%|▊         | 4/50 [21:19<4:03:24, 317.48s/it]"
          ]
        },
        {
          "output_type": "stream",
          "name": "stdout",
          "text": [
            "epoch:3     train_loss = 1.2947 , train_acc:0.3838     val_loss = 1.3058 , val_acc:0.3809     learning rate: 0.00037735360253530727\n",
            "[[  5   0  14   7 565   1]\n",
            " [  1   0   4   5 593   0]\n",
            " [ 10   1 185   5 404   0]\n",
            " [  2   0   7   4 596   0]\n",
            " [  3   0   8   5 591   0]\n",
            " [  2   6   0   0   1 593]]\n"
          ]
        },
        {
          "output_type": "stream",
          "name": "stderr",
          "text": [
            "\r 10%|█         | 5/50 [26:29<3:56:11, 314.93s/it]"
          ]
        },
        {
          "output_type": "stream",
          "name": "stdout",
          "text": [
            "epoch:4     train_loss = 1.2792 , train_acc:0.3930     val_loss = 1.2695 , val_acc:0.4027     learning rate: 0.0003584859224085419\n",
            "[[ 46 498  45   0   0   3]\n",
            " [ 23 564  14   0   0   2]\n",
            " [ 69 289 246   0   0   1]\n",
            " [ 20 576  13   0   0   0]\n",
            " [ 32 558  17   0   0   0]\n",
            " [  0   1   0   0   0 601]]\n"
          ]
        },
        {
          "output_type": "stream",
          "name": "stderr",
          "text": [
            "\r 12%|█▏        | 6/50 [31:41<3:50:14, 313.96s/it]"
          ]
        },
        {
          "output_type": "stream",
          "name": "stdout",
          "text": [
            "epoch:5     train_loss = 1.2748 , train_acc:0.3937     val_loss = 1.2825 , val_acc:0.4002     learning rate: 0.0003405616262881148\n",
            "[[ 14  31  47   0 498   2]\n",
            " [  4  16  18   1 563   1]\n",
            " [ 31  32 256   0 285   1]\n",
            " [  9  21  16   0 563   0]\n",
            " [  7  13  26   0 561   0]\n",
            " [  0   0   0   0   1 601]]\n"
          ]
        },
        {
          "output_type": "stream",
          "name": "stderr",
          "text": [
            "\r 14%|█▍        | 7/50 [36:55<3:44:48, 313.70s/it]"
          ]
        },
        {
          "output_type": "stream",
          "name": "stdout",
          "text": [
            "epoch:6     train_loss = 1.2650 , train_acc:0.3925     val_loss = 1.2694 , val_acc:0.4113     learning rate: 0.000323533544973709\n",
            "[[ 62   0  48   1 479   2]\n",
            " [ 52   0  16   0 533   2]\n",
            " [ 92   0 280   0 232   1]\n",
            " [ 54   0  19   0 536   0]\n",
            " [ 38   0  23   0 546   0]\n",
            " [  0   0   0   1   1 600]]\n",
            "epoch:7     train_loss = 1.2625 , train_acc:0.3990     val_loss = 1.2577 , val_acc:0.4196     learning rate: 0.00030735686772502356\n",
            "[[ 48  29  92   0 420   3]\n",
            " [ 41  26  48   0 487   1]\n",
            " [ 54  25 348   0 177   1]\n",
            " [ 39  27  46   0 497   0]\n",
            " [ 29  22  61   0 495   0]\n",
            " [  0   0   0   0   1 601]]\n"
          ]
        },
        {
          "output_type": "stream",
          "name": "stderr",
          "text": [
            " 18%|█▊        | 9/50 [47:22<3:34:09, 313.41s/it]"
          ]
        },
        {
          "output_type": "stream",
          "name": "stdout",
          "text": [
            "epoch:8     train_loss = 1.2543 , train_acc:0.4048     val_loss = 1.2703 , val_acc:0.4093     learning rate: 0.0002919890243387724\n",
            "[[ 56  13  30   0 490   3]\n",
            " [ 20  13  10   0 557   3]\n",
            " [ 87  15 260   0 242   1]\n",
            " [ 22  11  12   0 564   0]\n",
            " [ 34   8  14   0 551   0]\n",
            " [  1   0   0   0   0 601]]\n"
          ]
        },
        {
          "output_type": "stream",
          "name": "stderr",
          "text": [
            "\r 20%|██        | 10/50 [52:32<3:28:20, 312.52s/it]"
          ]
        },
        {
          "output_type": "stream",
          "name": "stdout",
          "text": [
            "epoch:9     train_loss = 1.2360 , train_acc:0.4071     val_loss = 1.2580 , val_acc:0.4234     learning rate: 0.00027738957312183375\n",
            "[[ 93   0  69   0 427   3]\n",
            " [ 66   0  32   3 501   1]\n",
            " [109   0 322   0 173   1]\n",
            " [ 83   0  19   2 505   0]\n",
            " [ 63   0  29   1 514   0]\n",
            " [  0   0   0   0   1 601]]\n"
          ]
        },
        {
          "output_type": "stream",
          "name": "stderr",
          "text": [
            "\r 22%|██▏       | 11/50 [57:43<3:22:45, 311.93s/it]"
          ]
        },
        {
          "output_type": "stream",
          "name": "stdout",
          "text": [
            "epoch:10     train_loss = 1.2381 , train_acc:0.4133     val_loss = 1.2690 , val_acc:0.4218     learning rate: 0.00026352009446574203\n",
            "[[102  41 109   0 337   3]\n",
            " [ 92  31  58   0 420   2]\n",
            " [ 88  33 373   0 110   1]\n",
            " [102  45  42   1 419   0]\n",
            " [106  37  46   0 418   0]\n",
            " [  0   0   0   0   1 601]]\n",
            "epoch:11     train_loss = 1.2154 , train_acc:0.4171     val_loss = 1.2421 , val_acc:0.4279     learning rate: 0.00025034408974245495\n",
            "[[ 88 386 115   1   0   2]\n",
            " [ 67 469  65   0   1   1]\n",
            " [ 79 135 390   0   0   1]\n",
            " [ 69 481  59   0   0   0]\n",
            " [ 61 481  65   0   0   0]\n",
            " [  0   1   0   0   0 601]]\n"
          ]
        },
        {
          "output_type": "stream",
          "name": "stderr",
          "text": [
            " 26%|██▌       | 13/50 [1:08:08<3:12:18, 311.85s/it]"
          ]
        },
        {
          "output_type": "stream",
          "name": "stdout",
          "text": [
            "epoch:12     train_loss = 1.2162 , train_acc:0.4209     val_loss = 1.2448 , val_acc:0.4284     learning rate: 0.00023782688525533216\n",
            "[[ 80  25  61   1 423   2]\n",
            " [ 48  21  19   0 515   0]\n",
            " [ 89  13 324   0 178   1]\n",
            " [ 54  19  21   0 515   0]\n",
            " [ 30  21  30   0 526   0]\n",
            " [  2   0   0   0   1 599]]\n"
          ]
        },
        {
          "output_type": "stream",
          "name": "stderr",
          "text": [
            "\r 28%|██▊       | 14/50 [1:13:18<3:06:50, 311.40s/it]"
          ]
        },
        {
          "output_type": "stream",
          "name": "stdout",
          "text": [
            "epoch:13     train_loss = 1.2193 , train_acc:0.4232     val_loss = 1.2440 , val_acc:0.4315     learning rate: 0.00022593554099256555\n",
            "[[ 95  24 109   2 361   1]\n",
            " [ 74  20  51   0 457   1]\n",
            " [ 87  11 378   0 128   1]\n",
            " [ 89  21  48   0 451   0]\n",
            " [ 66  19  54   0 468   0]\n",
            " [  0   1   0   0   1 600]]\n",
            "epoch:14     train_loss = 1.1976 , train_acc:0.4343     val_loss = 1.2354 , val_acc:0.4306     learning rate: 0.00021463876394293727\n",
            "[[ 76   8  48   2 457   1]\n",
            " [ 47   5  19   0 532   0]\n",
            " [ 90   5 326   0 183   1]\n",
            " [ 45   7  14   0 543   0]\n",
            " [ 32   4  21   0 550   0]\n",
            " [  0   0   0   0   1 601]]\n"
          ]
        },
        {
          "output_type": "stream",
          "name": "stderr",
          "text": [
            "\r 30%|███       | 15/50 [1:18:32<3:02:10, 312.31s/it]"
          ]
        },
        {
          "output_type": "stream",
          "name": "stdout",
          "text": [
            "epoch:15     train_loss = 1.1930 , train_acc:0.4343     val_loss = 1.2344 , val_acc:0.4348     learning rate: 0.00020390682574579038\n",
            "[[ 87   0  70   2 432   1]\n",
            " [ 44   2  34   0 523   0]\n",
            " [ 78   0 355   0 171   1]\n",
            " [ 55   0  22   0 532   0]\n",
            " [ 49   0  30   0 528   0]\n",
            " [  0   0   0   0   1 601]]\n"
          ]
        },
        {
          "output_type": "stream",
          "name": "stderr",
          "text": [
            " 34%|███▍      | 17/50 [1:29:01<2:52:12, 313.09s/it]"
          ]
        },
        {
          "output_type": "stream",
          "name": "stdout",
          "text": [
            "epoch:16     train_loss = 1.1909 , train_acc:0.4339     val_loss = 1.2351 , val_acc:0.4265     learning rate: 0.00019371148445850088\n",
            "[[ 88   1  37   1 464   1]\n",
            " [ 52   1  16   0 534   0]\n",
            " [101   0 305   0 198   1]\n",
            " [ 52   0   7   0 550   0]\n",
            " [ 38   0  17   0 552   0]\n",
            " [  0   4   0   0   1 597]]\n",
            "epoch:17     train_loss = 1.1828 , train_acc:0.4385     val_loss = 1.2208 , val_acc:0.4342     learning rate: 0.00018402591023557584\n",
            "[[105   3  45   0 438   1]\n",
            " [ 55  12  15   0 521   0]\n",
            " [119   0 318   0 167   1]\n",
            " [ 72   0  12   0 525   0]\n",
            " [ 49   0  19   0 539   0]\n",
            " [  0   4   0   0   1 597]]\n"
          ]
        },
        {
          "output_type": "stream",
          "name": "stderr",
          "text": [
            " 38%|███▊      | 19/50 [1:40:06<2:45:48, 320.93s/it]"
          ]
        },
        {
          "output_type": "stream",
          "name": "stdout",
          "text": [
            "epoch:18     train_loss = 1.1723 , train_acc:0.4452     val_loss = 1.2219 , val_acc:0.4386     learning rate: 0.000174824614723797\n",
            "[[100   9  51   7 424   1]\n",
            " [ 60  26  18   3 495   1]\n",
            " [ 99   0 338   2 165   1]\n",
            " [ 69   3  17   2 518   0]\n",
            " [ 56   4  26   0 521   0]\n",
            " [  0   1   0   0   1 600]]\n",
            "epoch:19     train_loss = 1.1693 , train_acc:0.4458     val_loss = 1.2192 , val_acc:0.4428     learning rate: 0.00016608338398760718\n",
            "[[131   7  51   0 402   1]\n",
            " [ 72  27  19   0 484   1]\n",
            " [130   0 336   0 138   1]\n",
            " [ 92   2  15   0 500   0]\n",
            " [ 76   3  21   0 507   0]\n",
            " [  0   0   0   0   1 601]]\n"
          ]
        },
        {
          "output_type": "stream",
          "name": "stderr",
          "text": [
            " 42%|████▏     | 21/50 [1:50:32<2:32:58, 316.50s/it]"
          ]
        },
        {
          "output_type": "stream",
          "name": "stdout",
          "text": [
            "epoch:20     train_loss = 1.1603 , train_acc:0.4487     val_loss = 1.2252 , val_acc:0.4514     learning rate: 0.0001577792147882268\n",
            "[[138   8  89   0 356   1]\n",
            " [ 88  25  33   0 457   0]\n",
            " [107   0 388   0 109   1]\n",
            " [ 92   1  36   0 480   0]\n",
            " [ 88   3  34   0 482   0]\n",
            " [  0   1   0   0   1 600]]\n"
          ]
        },
        {
          "output_type": "stream",
          "name": "stderr",
          "text": [
            "\r 44%|████▍     | 22/50 [1:55:44<2:27:02, 315.08s/it]"
          ]
        },
        {
          "output_type": "stream",
          "name": "stdout",
          "text": [
            "epoch:21     train_loss = 1.1498 , train_acc:0.4558     val_loss = 1.2193 , val_acc:0.4577     learning rate: 0.00014989025404881545\n",
            "[[158  13  68   0 352   1]\n",
            " [104  36  21   0 442   0]\n",
            " [117   0 376   0 111   1]\n",
            " [132   2  25   0 450   0]\n",
            " [ 87   4  30   0 486   0]\n",
            " [  0   1   0   0   1 600]]\n",
            "epoch:22     train_loss = 1.1469 , train_acc:0.4551     val_loss = 1.2191 , val_acc:0.4450     learning rate: 0.00014239574134637466\n",
            "[[ 94  11  52   0 434   1]\n",
            " [ 50  35  13   0 505   0]\n",
            " [ 95   0 340   0 169   1]\n",
            " [ 64   4  14   0 527   0]\n",
            " [ 42   3  20   0 542   0]\n",
            " [  0   2   0   0   1 599]]\n"
          ]
        },
        {
          "output_type": "stream",
          "name": "stderr",
          "text": [
            " 48%|████▊     | 24/50 [2:06:10<2:16:07, 314.13s/it]"
          ]
        },
        {
          "output_type": "stream",
          "name": "stdout",
          "text": [
            "epoch:23     train_loss = 1.1396 , train_acc:0.4586     val_loss = 1.3166 , val_acc:0.4514     learning rate: 0.00013527595427905592\n",
            "[[143  14  71   0 362   2]\n",
            " [ 85  38  29   0 449   2]\n",
            " [ 98   1 374   0 131   1]\n",
            " [132   5  30   1 441   0]\n",
            " [ 99   2  28   0 476   2]\n",
            " [  0   1   0   0   0 601]]\n"
          ]
        },
        {
          "output_type": "stream",
          "name": "stderr",
          "text": [
            "\r 50%|█████     | 25/50 [2:11:19<2:10:15, 312.63s/it]"
          ]
        },
        {
          "output_type": "stream",
          "name": "stdout",
          "text": [
            "epoch:24     train_loss = 1.1387 , train_acc:0.4629     val_loss = 1.2484 , val_acc:0.4533     learning rate: 0.00012851215656510312\n",
            "[[166   8  71   4 342   1]\n",
            " [ 95  40  19   2 447   0]\n",
            " [135   0 363   1 105   1]\n",
            " [127   1  22   5 454   0]\n",
            " [103   2  30   6 466   0]\n",
            " [  0   1   0   0   1 600]]\n"
          ]
        },
        {
          "output_type": "stream",
          "name": "stderr",
          "text": [
            "\r 52%|█████▏    | 26/50 [2:16:29<2:04:43, 311.80s/it]"
          ]
        },
        {
          "output_type": "stream",
          "name": "stdout",
          "text": [
            "epoch:25     train_loss = 1.1181 , train_acc:0.4725     val_loss = 1.2397 , val_acc:0.4544     learning rate: 0.00012208654873684796\n",
            "[[139  12  46   0 394   1]\n",
            " [ 61  52  14   0 476   0]\n",
            " [119   0 336   0 149   1]\n",
            " [ 79   3  13   0 514   0]\n",
            " [ 67   2  20   0 518   0]\n",
            " [  0   2   0   0   1 599]]\n"
          ]
        },
        {
          "output_type": "stream",
          "name": "stderr",
          "text": [
            "\r 54%|█████▍    | 27/50 [2:21:40<1:59:26, 311.57s/it]"
          ]
        },
        {
          "output_type": "stream",
          "name": "stdout",
          "text": [
            "epoch:26     train_loss = 1.1089 , train_acc:0.4802     val_loss = 1.2401 , val_acc:0.4511     learning rate: 0.00011598222130000556\n",
            "[[128  11  48   0 404   1]\n",
            " [ 66  63  12   0 462   0]\n",
            " [138   1 325   0 140   1]\n",
            " [ 89   4  12   0 504   0]\n",
            " [ 70   3  17   0 517   0]\n",
            " [  0   2   0   0   1 599]]\n"
          ]
        },
        {
          "output_type": "stream",
          "name": "stderr",
          "text": [
            "\r 56%|█████▌    | 28/50 [2:26:50<1:54:06, 311.18s/it]"
          ]
        },
        {
          "output_type": "stream",
          "name": "stdout",
          "text": [
            "epoch:27     train_loss = 1.0899 , train_acc:0.4902     val_loss = 1.2385 , val_acc:0.4608     learning rate: 0.00011018311023500529\n",
            "[[141  20  49   2 379   1]\n",
            " [ 59  77  13   1 452   1]\n",
            " [134   1 335   3 131   1]\n",
            " [ 82   9  14   2 502   0]\n",
            " [ 67   8  18   3 511   0]\n",
            " [  0   0   0   0   1 601]]\n"
          ]
        },
        {
          "output_type": "stream",
          "name": "stderr",
          "text": [
            "\r 58%|█████▊    | 29/50 [2:31:59<1:48:38, 310.40s/it]"
          ]
        },
        {
          "output_type": "stream",
          "name": "stdout",
          "text": [
            "epoch:28     train_loss = 1.0767 , train_acc:0.4975     val_loss = 1.2402 , val_acc:0.4690     learning rate: 0.00010467395472325501\n",
            "[[177  43  43   0 328   1]\n",
            " [ 79 114  14   0 396   0]\n",
            " [151   7 335   0 111   1]\n",
            " [102  21  13   0 473   0]\n",
            " [ 80  38  18   0 471   0]\n",
            " [  0   1   0   0   1 600]]\n"
          ]
        },
        {
          "output_type": "stream",
          "name": "stderr",
          "text": [
            "\r 60%|██████    | 30/50 [2:37:12<1:43:43, 311.18s/it]"
          ]
        },
        {
          "output_type": "stream",
          "name": "stdout",
          "text": [
            "epoch:29     train_loss = 1.0498 , train_acc:0.5064     val_loss = 1.2695 , val_acc:0.4679     learning rate: 9.944025698709225e-05\n",
            "[[148  27  65   0 351   1]\n",
            " [ 71  98  21   1 412   0]\n",
            " [130   1 365   0 108   1]\n",
            " [ 92   8  22   0 487   0]\n",
            " [ 78  21  26   0 482   0]\n",
            " [  0   1   0   0   1 600]]\n"
          ]
        },
        {
          "output_type": "stream",
          "name": "stderr",
          "text": [
            "\r 62%|██████▏   | 31/50 [2:42:21<1:38:21, 310.63s/it]"
          ]
        },
        {
          "output_type": "stream",
          "name": "stdout",
          "text": [
            "epoch:30     train_loss = 1.0316 , train_acc:0.5140     val_loss = 1.2657 , val_acc:0.4688     learning rate: 9.446824413773763e-05\n",
            "[[160  44  46   9 332   1]\n",
            " [ 73 112  14  11 392   1]\n",
            " [140   3 350   5 106   1]\n",
            " [100  16  17  13 463   0]\n",
            " [ 82  38  20   7 460   0]\n",
            " [  0   0   0   0   1 601]]\n"
          ]
        },
        {
          "output_type": "stream",
          "name": "stderr",
          "text": [
            "\r 64%|██████▍   | 32/50 [2:47:31<1:33:06, 310.36s/it]"
          ]
        },
        {
          "output_type": "stream",
          "name": "stdout",
          "text": [
            "epoch:31     train_loss = 1.0221 , train_acc:0.5284     val_loss = 1.3269 , val_acc:0.4787     learning rate: 8.974483193085076e-05\n",
            "[[163  55  77 263  33   1]\n",
            " [ 96 130  23 322  31   1]\n",
            " [118   8 387  82   9   1]\n",
            " [106  28  33 407  35   0]\n",
            " [ 96  48  31 387  45   0]\n",
            " [  0   1   0   1   0 600]]\n",
            "epoch:32     train_loss = 1.0026 , train_acc:0.5428     val_loss = 1.2891 , val_acc:0.4831     learning rate: 8.52575903343082e-05\n",
            "[[156  71  58 284  22   1]\n",
            " [ 78 152  17 324  31   1]\n",
            " [132  11 361  92   8   1]\n",
            " [ 97  38  20 433  21   0]\n",
            " [ 81  65  27 388  46   0]\n",
            " [  0   1   0   1   0 600]]\n"
          ]
        },
        {
          "output_type": "stream",
          "name": "stderr",
          "text": [
            "\r 64%|██████▍   | 32/50 [2:53:06<1:37:22, 324.57s/it]"
          ]
        },
        {
          "output_type": "stream",
          "name": "stdout",
          "text": [
            "Early stop !\n",
            "0.4837261503928171\n",
            "[[ 80  38  23 145  14   0]\n",
            " [ 37  79   2 153  19   1]\n",
            " [ 60   9 186  39   7   0]\n",
            " [ 53  15  12 222  14   0]\n",
            " [ 41  36   7 193  11   0]\n",
            " [  1   1   0   0   0 284]]\n"
          ]
        },
        {
          "output_type": "stream",
          "name": "stderr",
          "text": [
            "\n"
          ]
        }
      ]
    },
    {
      "cell_type": "code",
      "source": [
        "for epoch in tqdm(range(EPOCHS)):\n",
        "    train_acc , train_loss = train(train_loader ,\n",
        "                                   WaCNNmodel ,\n",
        "                                   criterion ,\n",
        "                                   optimizer ,\n",
        "                                   Cosine_lr_scheduler)\n",
        "\n",
        "    val_acc , val_loss , valimatrix= test(val_loader , WaCNNmodel , criterion)\n",
        "    print(f'epoch:{epoch} \\\n",
        "    train_loss = {train_loss:.4f} , train_acc:{train_acc:.4f} \\\n",
        "    val_loss = {val_loss:.4f} , val_acc:{val_acc:.4f} \\\n",
        "    learning rate: {optimizer.param_groups[0][\"lr\"]}')\n",
        "    print(valimatrix)\n",
        "\n",
        "    logs['train_loss'].append(train_loss)\n",
        "    logs['train_acc'].append(train_acc)\n",
        "    logs['val_loss'].append(val_loss)\n",
        "    logs['val_acc'].append(val_acc)\n",
        "\n",
        "    if val_loss < best_loss:\n",
        "        counter = 0\n",
        "        best_loss = val_loss\n",
        "        torch.save(WaCNNmodel.state_dict() , \"checkpoints/waccn_best.pth\")\n",
        "    else:\n",
        "        counter+=1\n",
        "    if counter >= patience:\n",
        "        test_acc , test_loss, testmatrix = test(test_loader , WaCNNmodel , criterion)\n",
        "        print(\"Early stop !\")\n",
        "        print(test_acc)\n",
        "        print(testmatrix)\n",
        "        break"
      ],
      "metadata": {
        "colab": {
          "base_uri": "https://localhost:8080/"
        },
        "id": "GDqcu2qezgIb",
        "outputId": "bd75e6c4-cdd6-4a0b-885c-4344dbade29e"
      },
      "execution_count": null,
      "outputs": [
        {
          "output_type": "stream",
          "name": "stderr",
          "text": [
            "\r  0%|          | 0/50 [00:00<?, ?it/s]/usr/local/lib/python3.10/dist-packages/torch/autograd/graph.py:744: UserWarning: Plan failed with a cudnnException: CUDNN_BACKEND_EXECUTION_PLAN_DESCRIPTOR: cudnnFinalize Descriptor Failed cudnn_status: CUDNN_STATUS_NOT_SUPPORTED (Triggered internally at ../aten/src/ATen/native/cudnn/Conv_v8.cpp:919.)\n",
            "  return Variable._execution_engine.run_backward(  # Calls into the C++ engine to run the backward pass\n"
          ]
        },
        {
          "output_type": "stream",
          "name": "stdout",
          "text": [
            "epoch:0     train_loss = 2.6985 , train_acc:0.2742     val_loss = 1.5082 , val_acc:0.3198     learning rate: 0.00095\n",
            "[[561   0   0   5   0  36]\n",
            " [  5   0   0   0   0 600]\n",
            " [  6   0   0   2   0 584]\n",
            " [  2   0   0   3   0 604]\n",
            " [  4   0   0   2   0 601]\n",
            " [ 10   0   0   0   0 593]]\n"
          ]
        },
        {
          "output_type": "stream",
          "name": "stderr",
          "text": [
            "\r  2%|▏         | 1/50 [04:53<3:59:38, 293.44s/it]"
          ]
        },
        {
          "output_type": "stream",
          "name": "stdout",
          "text": [
            "epoch:1     train_loss = 1.5139 , train_acc:0.3084     val_loss = 1.4285 , val_acc:0.3192     learning rate: 0.0009025\n",
            "[[570   0   2   0   0  30]\n",
            " [  5  44 396   0   0 160]\n",
            " [  6  34 402   0   0 150]\n",
            " [  9  47 376   0   0 177]\n",
            " [  6  43 397   0   0 161]\n",
            " [ 12  41 411   0   0 139]]\n"
          ]
        },
        {
          "output_type": "stream",
          "name": "stderr",
          "text": [
            "\r  4%|▍         | 2/50 [09:42<3:52:49, 291.03s/it]"
          ]
        },
        {
          "output_type": "stream",
          "name": "stdout",
          "text": [
            "epoch:2     train_loss = 1.4407 , train_acc:0.3194     val_loss = 1.3728 , val_acc:0.3261     learning rate: 0.000857375\n",
            "[[578   0   0  10   1  13]\n",
            " [  2 592   0   0   0  11]\n",
            " [  2 586   0   0   0   4]\n",
            " [  1 595   0   1   0  12]\n",
            " [  0 593   0   0   0  14]\n",
            " [  1 592   0   1   0   9]]\n"
          ]
        },
        {
          "output_type": "stream",
          "name": "stderr",
          "text": [
            "\r  6%|▌         | 3/50 [14:34<3:48:10, 291.29s/it]"
          ]
        },
        {
          "output_type": "stream",
          "name": "stdout",
          "text": [
            "epoch:3     train_loss = 1.4165 , train_acc:0.3298     val_loss = 1.3690 , val_acc:0.3328     learning rate: 0.0008145062499999999\n",
            "[[589   7   0   0   0   6]\n",
            " [  2  21   0   0   0 582]\n",
            " [  2  11   0   0   0 579]\n",
            " [  1  13   0   1   0 594]\n",
            " [  0  12   0   0   0 595]\n",
            " [  2   8   0   0   0 593]]\n"
          ]
        },
        {
          "output_type": "stream",
          "name": "stderr",
          "text": [
            "\r  8%|▊         | 4/50 [19:29<3:44:26, 292.75s/it]"
          ]
        },
        {
          "output_type": "stream",
          "name": "stdout",
          "text": [
            "epoch:4     train_loss = 1.3959 , train_acc:0.3364     val_loss = 1.3660 , val_acc:0.3281     learning rate: 0.0007737809374999998\n",
            "[[586   0   0   0   8   8]\n",
            " [  0   0   0   0   0 605]\n",
            " [  2   0   0   0   0 590]\n",
            " [  0   0   0   0   0 609]\n",
            " [  0   0   0   0   0 607]\n",
            " [  1   0   0   0   1 601]]\n"
          ]
        },
        {
          "output_type": "stream",
          "name": "stderr",
          "text": [
            "\r 10%|█         | 5/50 [24:24<3:40:08, 293.53s/it]"
          ]
        },
        {
          "output_type": "stream",
          "name": "stdout",
          "text": [
            "epoch:5     train_loss = 1.3814 , train_acc:0.3362     val_loss = 1.3575 , val_acc:0.3270     learning rate: 0.0007350918906249999\n",
            "[[590   0   3   0   2   7]\n",
            " [  0   0 600   0   0   5]\n",
            " [  2   0 587   0   1   2]\n",
            " [  0   0 600   0   0   9]\n",
            " [  0   0 602   0   1   4]\n",
            " [  1   0 596   0   1   5]]\n"
          ]
        },
        {
          "output_type": "stream",
          "name": "stderr",
          "text": [
            "\r 12%|█▏        | 6/50 [29:17<3:35:07, 293.35s/it]"
          ]
        },
        {
          "output_type": "stream",
          "name": "stdout",
          "text": [
            "epoch:6     train_loss = 1.3754 , train_acc:0.3421     val_loss = 1.3546 , val_acc:0.3483     learning rate: 0.0006983372960937497\n",
            "[[601   0   0   0   0   1]\n",
            " [  1   0 523   0  20  61]\n",
            " [  2   0 514   0  12  64]\n",
            " [  0   0 492   0  26  91]\n",
            " [  0   0 479   1  26 101]\n",
            " [  3   0 453   1  27 119]]\n"
          ]
        },
        {
          "output_type": "stream",
          "name": "stderr",
          "text": [
            " 16%|█▌        | 8/50 [38:56<3:23:44, 291.06s/it]"
          ]
        },
        {
          "output_type": "stream",
          "name": "stdout",
          "text": [
            "epoch:7     train_loss = 1.3805 , train_acc:0.3460     val_loss = 1.3706 , val_acc:0.3480     learning rate: 0.0006634204312890623\n",
            "[[591   0   0   0   0  11]\n",
            " [  2   0 473   0   0 130]\n",
            " [  2   0 401   0   0 189]\n",
            " [  0   0 397   0   0 212]\n",
            " [  1   0 362   0   0 244]\n",
            " [  3   0 333   0   0 267]]\n"
          ]
        },
        {
          "output_type": "stream",
          "name": "stderr",
          "text": [
            "\r 18%|█▊        | 9/50 [43:48<3:18:55, 291.12s/it]"
          ]
        },
        {
          "output_type": "stream",
          "name": "stdout",
          "text": [
            "epoch:8     train_loss = 1.3685 , train_acc:0.3438     val_loss = 1.3560 , val_acc:0.3460     learning rate: 0.0006302494097246091\n",
            "[[602   0   0   0   0   0]\n",
            " [  2   0 550   0   0  53]\n",
            " [  4   0 526   0   0  62]\n",
            " [  0   0 540   0   4  65]\n",
            " [  1   0 500   1   2 103]\n",
            " [  4   0 476   1   0 122]]\n"
          ]
        },
        {
          "output_type": "stream",
          "name": "stderr",
          "text": [
            "\r 20%|██        | 10/50 [48:41<3:14:27, 291.70s/it]"
          ]
        },
        {
          "output_type": "stream",
          "name": "stdout",
          "text": [
            "epoch:9     train_loss = 1.3653 , train_acc:0.3485     val_loss = 1.3556 , val_acc:0.3419     learning rate: 0.0005987369392383787\n",
            "[[596   0   0   0   0   6]\n",
            " [  0  44   0   0   0 561]\n",
            " [  2   5   0   0   0 585]\n",
            " [  0   9   0   0   0 600]\n",
            " [  0   4   0   0   0 603]\n",
            " [  1   5   0   0   0 597]]\n"
          ]
        },
        {
          "output_type": "stream",
          "name": "stderr",
          "text": [
            "\r 22%|██▏       | 11/50 [53:40<3:11:05, 293.98s/it]"
          ]
        },
        {
          "output_type": "stream",
          "name": "stdout",
          "text": [
            "epoch:10     train_loss = 1.3560 , train_acc:0.3517     val_loss = 1.3690 , val_acc:0.3444     learning rate: 0.0005688000922764596\n",
            "[[541   0  41   0   0  20]\n",
            " [  0 540   0   0   0  65]\n",
            " [  0 494   0   0   1  97]\n",
            " [  0 525   0   2   0  82]\n",
            " [  0 476   0   1   0 130]\n",
            " [  0 435   0   5   0 163]]\n",
            "epoch:11     train_loss = 1.3463 , train_acc:0.3610     val_loss = 1.3242 , val_acc:0.3980     learning rate: 0.0005403600876626366\n",
            "[[602   0   0   0   0   0]\n",
            " [  2 299   0   0   0 304]\n",
            " [  3  94   0   0   0 495]\n",
            " [  1 112   0   0   0 496]\n",
            " [  1  74   0   0   0 532]\n",
            " [  4  60   0   0   0 539]]\n"
          ]
        },
        {
          "output_type": "stream",
          "name": "stderr",
          "text": [
            "\r 24%|██▍       | 12/50 [58:40<3:07:28, 296.02s/it]"
          ]
        },
        {
          "output_type": "stream",
          "name": "stdout",
          "text": [
            "epoch:12     train_loss = 1.3278 , train_acc:0.3656     val_loss = 1.3076 , val_acc:0.3988     learning rate: 0.0005133420832795048\n",
            "[[585   0   0   1   3  13]\n",
            " [  0 357   0   0   0 248]\n",
            " [  1 143   0   0   0 448]\n",
            " [  0 145   0   0   0 464]\n",
            " [  0 119   0   0   0 488]\n",
            " [  0 102   0   0   0 501]]\n"
          ]
        },
        {
          "output_type": "stream",
          "name": "stderr",
          "text": [
            "\r 26%|██▌       | 13/50 [1:04:14<3:09:32, 307.37s/it]"
          ]
        },
        {
          "output_type": "stream",
          "name": "stdout",
          "text": [
            "epoch:13     train_loss = 1.3186 , train_acc:0.3715     val_loss = 1.3061 , val_acc:0.3958     learning rate: 0.00048767497911552955\n",
            "[[601   0   1   0   0   0]\n",
            " [  1 270   3   0 204 127]\n",
            " [  3  58   4   0 272 255]\n",
            " [  0  50   6   0 258 295]\n",
            " [  0  31   1   0 236 339]\n",
            " [  2  42   2   0 236 321]]\n"
          ]
        },
        {
          "output_type": "stream",
          "name": "stderr",
          "text": [
            "\r 28%|██▊       | 14/50 [1:09:45<3:08:39, 314.44s/it]"
          ]
        },
        {
          "output_type": "stream",
          "name": "stdout",
          "text": [
            "epoch:14     train_loss = 1.3071 , train_acc:0.3775     val_loss = 1.2730 , val_acc:0.4121     learning rate: 0.000463291230159753\n",
            "[[598   0   0   0   0   4]\n",
            " [  0 291 108   0  81 125]\n",
            " [  1  87 109   0 131 264]\n",
            " [  0  51 106   0 127 325]\n",
            " [  0  63 107   0 116 321]\n",
            " [  1  52  87   0  86 377]]\n"
          ]
        },
        {
          "output_type": "stream",
          "name": "stderr",
          "text": [
            " 32%|███▏      | 16/50 [1:20:02<2:55:38, 309.95s/it]"
          ]
        },
        {
          "output_type": "stream",
          "name": "stdout",
          "text": [
            "epoch:15     train_loss = 1.3051 , train_acc:0.3792     val_loss = 1.2772 , val_acc:0.4132     learning rate: 0.00044012666865176535\n",
            "[[600   0   0   0   0   2]\n",
            " [  1 381 160   0   0  63]\n",
            " [  2 172 292   0   0 126]\n",
            " [  0 139 307   0   0 163]\n",
            " [  3 132 271   0   0 201]\n",
            " [  2 122 257   0   0 222]]\n",
            "epoch:16     train_loss = 1.2970 , train_acc:0.3908     val_loss = 1.2671 , val_acc:0.4157     learning rate: 0.0004181203352191771\n",
            "[[600   0   1   0   1   0]\n",
            " [  0 291 204   0   1 109]\n",
            " [  2  57 259   0   1 273]\n",
            " [  0  42 249   0   0 318]\n",
            " [  0  38 221   0   0 348]\n",
            " [  0  31 217   0   1 354]]\n"
          ]
        },
        {
          "output_type": "stream",
          "name": "stderr",
          "text": [
            " 36%|███▌      | 18/50 [1:29:43<2:39:52, 299.76s/it]"
          ]
        },
        {
          "output_type": "stream",
          "name": "stdout",
          "text": [
            "epoch:17     train_loss = 1.3018 , train_acc:0.3884     val_loss = 1.2885 , val_acc:0.4171     learning rate: 0.0003972143184582182\n",
            "[[601   0   0   0   0   1]\n",
            " [  1 370  97   0   0 137]\n",
            " [  3 139 148   0   0 302]\n",
            " [  0 121 151   0   0 337]\n",
            " [  0  92 134   0   1 380]\n",
            " [  1  90 123   0   0 389]]\n"
          ]
        },
        {
          "output_type": "stream",
          "name": "stderr",
          "text": [
            "\r 38%|███▊      | 19/50 [1:34:29<2:32:43, 295.59s/it]"
          ]
        },
        {
          "output_type": "stream",
          "name": "stdout",
          "text": [
            "epoch:18     train_loss = 1.2980 , train_acc:0.3855     val_loss = 1.2968 , val_acc:0.4057     learning rate: 0.00037735360253530727\n",
            "[[601   0   0   0   0   1]\n",
            " [  1 289 110   0   0 205]\n",
            " [  2  53 104   0   0 433]\n",
            " [  0  59 119   0   0 431]\n",
            " [  0  39  77   0   0 491]\n",
            " [  2  35  91   0   1 474]]\n"
          ]
        },
        {
          "output_type": "stream",
          "name": "stderr",
          "text": [
            "\r 40%|████      | 20/50 [1:39:15<2:26:18, 292.63s/it]"
          ]
        },
        {
          "output_type": "stream",
          "name": "stdout",
          "text": [
            "epoch:19     train_loss = 1.2932 , train_acc:0.3910     val_loss = 1.2679 , val_acc:0.4185     learning rate: 0.0003584859224085419\n",
            "[[601   0   0   0   1   0]\n",
            " [  1 322 192   0  90   0]\n",
            " [  2  84 228   0 278   0]\n",
            " [  0  44 265   0 300   0]\n",
            " [  0  53 191   0 363   0]\n",
            " [  1  41 195   0 366   0]]\n",
            "epoch:20     train_loss = 1.2908 , train_acc:0.3963     val_loss = 1.2594 , val_acc:0.4193     learning rate: 0.0003405616262881148\n",
            "[[601   0   0   0   1   0]\n",
            " [  1 393 120  11  11  69]\n",
            " [  2 132 171  34  38 215]\n",
            " [  0  89 206  39  47 228]\n",
            " [  0  73 154  35  85 260]\n",
            " [  1  80 150  38 106 228]]\n"
          ]
        },
        {
          "output_type": "stream",
          "name": "stderr",
          "text": [
            "\r 42%|████▏     | 21/50 [1:44:07<2:21:20, 292.43s/it]"
          ]
        },
        {
          "output_type": "stream",
          "name": "stdout",
          "text": [
            "epoch:21     train_loss = 1.2709 , train_acc:0.4056     val_loss = 1.2473 , val_acc:0.4251     learning rate: 0.000323533544973709\n",
            "[[601   0   0   0   0   1]\n",
            " [  1 355 136   0  62  51]\n",
            " [  2 111 170   0 191 118]\n",
            " [  0  59 165   0 229 156]\n",
            " [  0  62 139   0 278 128]\n",
            " [  0  49 148   0 272 134]]\n"
          ]
        },
        {
          "output_type": "stream",
          "name": "stderr",
          "text": [
            " 46%|████▌     | 23/50 [1:53:50<2:11:16, 291.72s/it]"
          ]
        },
        {
          "output_type": "stream",
          "name": "stdout",
          "text": [
            "epoch:22     train_loss = 1.2664 , train_acc:0.4077     val_loss = 1.2629 , val_acc:0.4104     learning rate: 0.00030735686772502356\n",
            "[[599   0   1   1   1   0]\n",
            " [  0 290 122   1 119  73]\n",
            " [  3  46  90   0 336 117]\n",
            " [  0  26  82   0 392 109]\n",
            " [  0  22  70   0 424  91]\n",
            " [  0  12  56   0 453  82]]\n",
            "epoch:23     train_loss = 1.2641 , train_acc:0.4102     val_loss = 1.2380 , val_acc:0.4251     learning rate: 0.0002919890243387724\n",
            "[[601   0   0   0   0   1]\n",
            " [  1 359 123   0 121   1]\n",
            " [  1 116 147   1 325   2]\n",
            " [  0  55 154   0 400   0]\n",
            " [  0  59 119   0 427   2]\n",
            " [  0  41 121   0 437   4]]\n"
          ]
        },
        {
          "output_type": "stream",
          "name": "stderr",
          "text": [
            " 50%|█████     | 25/50 [2:03:41<2:02:23, 293.75s/it]"
          ]
        },
        {
          "output_type": "stream",
          "name": "stdout",
          "text": [
            "epoch:24     train_loss = 1.2532 , train_acc:0.4202     val_loss = 1.2557 , val_acc:0.4140     learning rate: 0.00027738957312183375\n",
            "[[601   0   0   0   1   0]\n",
            " [  1 264 146   0 155  39]\n",
            " [  3  28  91   0 414  56]\n",
            " [  0  10  85   0 456  58]\n",
            " [  0  15  45   0 503  44]\n",
            " [  0  10  39   0 515  39]]\n",
            "epoch:25     train_loss = 1.2455 , train_acc:0.4247     val_loss = 1.2186 , val_acc:0.4395     learning rate: 0.00026352009446574203\n",
            "[[601   0   0   0   1   0]\n",
            " [  1 394 111  18  81   0]\n",
            " [  1 110 147  38 295   1]\n",
            " [  0  59 151  34 365   0]\n",
            " [  0  44 113  36 412   2]\n",
            " [  0  38 107  27 429   2]]\n"
          ]
        },
        {
          "output_type": "stream",
          "name": "stderr",
          "text": [
            "\r 52%|█████▏    | 26/50 [2:08:45<1:58:39, 296.66s/it]"
          ]
        },
        {
          "output_type": "stream",
          "name": "stdout",
          "text": [
            "epoch:26     train_loss = 1.2361 , train_acc:0.4253     val_loss = 1.2086 , val_acc:0.4500     learning rate: 0.00025034408974245495\n",
            "[[601   0   0   0   1   0]\n",
            " [  1 429 113   4  58   0]\n",
            " [  1 134 185   6 265   1]\n",
            " [  0  77 211   8 312   1]\n",
            " [  0  56 142   4 402   3]\n",
            " [  0  51 142   8 399   3]]\n"
          ]
        },
        {
          "output_type": "stream",
          "name": "stderr",
          "text": [
            " 56%|█████▌    | 28/50 [2:19:06<1:50:45, 302.05s/it]"
          ]
        },
        {
          "output_type": "stream",
          "name": "stdout",
          "text": [
            "epoch:27     train_loss = 1.2345 , train_acc:0.4313     val_loss = 1.2161 , val_acc:0.4472     learning rate: 0.00023782688525533216\n",
            "[[600   0   0   0   1   1]\n",
            " [  1 340 180   0  65  19]\n",
            " [  1  64 214   0 282  31]\n",
            " [  0  26 192   0 337  54]\n",
            " [  0  25 127   0 428  27]\n",
            " [  0  22 147   0 398  36]]\n"
          ]
        },
        {
          "output_type": "stream",
          "name": "stderr",
          "text": [
            "\r 58%|█████▊    | 29/50 [2:23:56<1:44:21, 298.18s/it]"
          ]
        },
        {
          "output_type": "stream",
          "name": "stdout",
          "text": [
            "epoch:28     train_loss = 1.2234 , train_acc:0.4334     val_loss = 1.2424 , val_acc:0.4373     learning rate: 0.00022593554099256555\n",
            "[[563   0   0   0   1  38]\n",
            " [  1 358 126   3  87  30]\n",
            " [  0  57 163   7 317  48]\n",
            " [  0  28 144   8 379  50]\n",
            " [  0  26  97   2 453  29]\n",
            " [  0  19  89   3 455  37]]\n",
            "epoch:29     train_loss = 1.2158 , train_acc:0.4384     val_loss = 1.2038 , val_acc:0.4569     learning rate: 0.00021463876394293727\n",
            "[[601   0   0   0   1   0]\n",
            " [  1 391 109  16  76  12]\n",
            " [  1  74 161  17 317  22]\n",
            " [  0  38 139  16 379  37]\n",
            " [  0  35  77  19 465  11]\n",
            " [  0  28  85  15 456  19]]\n"
          ]
        },
        {
          "output_type": "stream",
          "name": "stderr",
          "text": [
            " 62%|██████▏   | 31/50 [2:34:04<1:34:57, 299.86s/it]"
          ]
        },
        {
          "output_type": "stream",
          "name": "stdout",
          "text": [
            "epoch:30     train_loss = 1.2021 , train_acc:0.4450     val_loss = 1.2121 , val_acc:0.4574     learning rate: 0.00020390682574579038\n",
            "[[601   0   0   0   0   1]\n",
            " [  1 426 110   9  59   0]\n",
            " [  2 126 164  18 275   7]\n",
            " [  0  87 186  24 309   3]\n",
            " [  0  50 122  25 401   9]\n",
            " [  0  55 117  19 373  39]]\n"
          ]
        },
        {
          "output_type": "stream",
          "name": "stderr",
          "text": [
            "\r 64%|██████▍   | 32/50 [2:38:54<1:29:07, 297.09s/it]"
          ]
        },
        {
          "output_type": "stream",
          "name": "stdout",
          "text": [
            "epoch:31     train_loss = 1.1983 , train_acc:0.4499     val_loss = 1.2203 , val_acc:0.4619     learning rate: 0.00019371148445850088\n",
            "[[601   0   0   0   0   1]\n",
            " [  1 449 106  11  38   0]\n",
            " [  3 145 211  28 202   3]\n",
            " [  0  95 247  40 227   0]\n",
            " [  0  62 171  35 335   4]\n",
            " [  0  56 137  30 345  35]]\n",
            "epoch:32     train_loss = 1.1760 , train_acc:0.4597     val_loss = 1.1874 , val_acc:0.4688     learning rate: 0.00018402591023557584\n",
            "[[601   0   0   0   0   1]\n",
            " [  1 348 152  16  77  11]\n",
            " [  3  50 163  22 302  52]\n",
            " [  0  21 154  21 378  35]\n",
            " [  0  22  77  17 418  73]\n",
            " [  1  16  64   9 368 145]]\n"
          ]
        },
        {
          "output_type": "stream",
          "name": "stderr",
          "text": [
            "\r 66%|██████▌   | 33/50 [2:43:49<1:23:57, 296.35s/it]"
          ]
        },
        {
          "output_type": "stream",
          "name": "stdout",
          "text": [
            "epoch:33     train_loss = 1.1707 , train_acc:0.4614     val_loss = 1.1868 , val_acc:0.4704     learning rate: 0.000174824614723797\n",
            "[[599   0   2   0   0   1]\n",
            " [  1 389 131  13  37  34]\n",
            " [  2  83 194  23 162 128]\n",
            " [  0  50 181  26 221 131]\n",
            " [  0  30 126  12 198 241]\n",
            " [  0  24 100  12 171 296]]\n"
          ]
        },
        {
          "output_type": "stream",
          "name": "stderr",
          "text": [
            "\r 68%|██████▊   | 34/50 [2:48:50<1:19:24, 297.76s/it]"
          ]
        },
        {
          "output_type": "stream",
          "name": "stdout",
          "text": [
            "epoch:34     train_loss = 1.1229 , train_acc:0.4840     val_loss = 1.1857 , val_acc:0.4776     learning rate: 0.00016608338398760718\n",
            "[[601   0   1   0   0   0]\n",
            " [  1 399 139   8  57   1]\n",
            " [  1  93 201  16 270  11]\n",
            " [  0  56 177  30 342   4]\n",
            " [  0  40 120  16 422   9]\n",
            " [  0  34  91  14 389  75]]\n"
          ]
        },
        {
          "output_type": "stream",
          "name": "stderr",
          "text": [
            " 72%|███████▏  | 36/50 [2:58:36<1:08:49, 294.94s/it]"
          ]
        },
        {
          "output_type": "stream",
          "name": "stdout",
          "text": [
            "epoch:35     train_loss = 1.0887 , train_acc:0.4957     val_loss = 1.1937 , val_acc:0.4876     learning rate: 0.0001577792147882268\n",
            "[[601   0   0   0   1   0]\n",
            " [  1 362 145  14  58  25]\n",
            " [  3  67 156  48 204 114]\n",
            " [  0  34 116  49 318  92]\n",
            " [  0  31  70  31 272 203]\n",
            " [  1  15  57  19 187 324]]\n",
            "epoch:36     train_loss = 1.0439 , train_acc:0.5217     val_loss = 1.1666 , val_acc:0.5044     learning rate: 0.00014989025404881545\n",
            "[[600   0   0   0   0   2]\n",
            " [  1 358 169  28  17  32]\n",
            " [  3  58 211  90 106 124]\n",
            " [  0  28 166 124 172 119]\n",
            " [  0  27 128  56 200 196]\n",
            " [  1   9  94  43 124 332]]\n"
          ]
        },
        {
          "output_type": "stream",
          "name": "stderr",
          "text": [
            " 76%|███████▌  | 38/50 [3:08:10<58:06, 290.54s/it]  "
          ]
        },
        {
          "output_type": "stream",
          "name": "stdout",
          "text": [
            "epoch:37     train_loss = 0.9990 , train_acc:0.5456     val_loss = 1.1914 , val_acc:0.4961     learning rate: 0.00014239574134637466\n",
            "[[601   0   0   0   0   1]\n",
            " [  1 368 133  39  61   3]\n",
            " [  2  92 148  60 268  22]\n",
            " [  0  33 146  97 325   8]\n",
            " [  0  30  82  35 443  17]\n",
            " [  0  18  61  30 356 138]]\n"
          ]
        },
        {
          "output_type": "stream",
          "name": "stderr",
          "text": [
            "\r 78%|███████▊  | 39/50 [3:12:53<52:49, 288.14s/it]"
          ]
        },
        {
          "output_type": "stream",
          "name": "stdout",
          "text": [
            "epoch:38     train_loss = 0.9705 , train_acc:0.5640     val_loss = 1.1749 , val_acc:0.5290     learning rate: 0.00013527595427905592\n",
            "[[601   0   0   0   1   0]\n",
            " [  1 350 141  42  56  15]\n",
            " [  3  47 148 103 214  77]\n",
            " [  0  21 108 176 243  61]\n",
            " [  0  26  50  52 393  86]\n",
            " [  0  15  47  44 251 246]]\n"
          ]
        },
        {
          "output_type": "stream",
          "name": "stderr",
          "text": [
            "\r 80%|████████  | 40/50 [3:17:35<47:44, 286.46s/it]"
          ]
        },
        {
          "output_type": "stream",
          "name": "stdout",
          "text": [
            "epoch:39     train_loss = 0.9345 , train_acc:0.5831     val_loss = 1.1864 , val_acc:0.5274     learning rate: 0.00012851215656510312\n",
            "[[601   0   0   0   0   1]\n",
            " [  1 376 154  31  41   2]\n",
            " [  2  64 190 106 210  20]\n",
            " [  0  32 151 196 220  10]\n",
            " [  0  29  89  78 394  17]\n",
            " [  0  15  73  74 290 151]]\n",
            "epoch:40     train_loss = 0.9082 , train_acc:0.6043     val_loss = 1.1551 , val_acc:0.5586     learning rate: 0.00012208654873684796\n",
            "[[600   0   0   0   0   2]\n",
            " [  1 355 175  27  32  15]\n",
            " [  2  40 223 105 145  77]\n",
            " [  0  20 155 227 153  54]\n",
            " [  0  22 114  72 315  84]\n",
            " [  0  11  76  50 165 301]]\n"
          ]
        },
        {
          "output_type": "stream",
          "name": "stderr",
          "text": [
            " 84%|████████▍ | 42/50 [3:27:42<39:06, 293.26s/it]"
          ]
        },
        {
          "output_type": "stream",
          "name": "stdout",
          "text": [
            "epoch:41     train_loss = 0.8623 , train_acc:0.6283     val_loss = 1.2000 , val_acc:0.5498     learning rate: 0.00011598222130000556\n",
            "[[601   0   0   0   0   1]\n",
            " [  1 373 162  29  33   7]\n",
            " [  3  56 227  95 179  32]\n",
            " [  0  25 181 214 172  17]\n",
            " [  0  28 127  66 369  17]\n",
            " [  2  18  82  45 251 205]]\n"
          ]
        },
        {
          "output_type": "stream",
          "name": "stderr",
          "text": [
            "\r 86%|████████▌ | 43/50 [3:32:25<33:50, 290.02s/it]"
          ]
        },
        {
          "output_type": "stream",
          "name": "stdout",
          "text": [
            "epoch:42     train_loss = 0.8470 , train_acc:0.6486     val_loss = 1.1873 , val_acc:0.5583     learning rate: 0.00011018311023500529\n",
            "[[601   0   0   0   0   1]\n",
            " [  1 366 165  39  27   7]\n",
            " [  3  58 222 148 118  43]\n",
            " [  0  27 148 301 117  16]\n",
            " [  0  27 126 116 309  29]\n",
            " [  1  17  88  80 196 221]]\n"
          ]
        },
        {
          "output_type": "stream",
          "name": "stderr",
          "text": [
            "\r 88%|████████▊ | 44/50 [3:37:11<28:53, 288.95s/it]"
          ]
        },
        {
          "output_type": "stream",
          "name": "stdout",
          "text": [
            "epoch:43     train_loss = 0.7932 , train_acc:0.6651     val_loss = 1.2087 , val_acc:0.5688     learning rate: 0.00010467395472325501\n",
            "[[601   0   0   0   0   1]\n",
            " [  1 362 167  33  34   8]\n",
            " [  3  52 238 105 152  42]\n",
            " [  0  22 166 258 147  16]\n",
            " [  0  23 119  75 372  18]\n",
            " [  2  15  83  57 219 227]]\n"
          ]
        },
        {
          "output_type": "stream",
          "name": "stderr",
          "text": [
            "\r 90%|█████████ | 45/50 [3:42:00<24:03, 288.77s/it]"
          ]
        },
        {
          "output_type": "stream",
          "name": "stdout",
          "text": [
            "epoch:44     train_loss = 0.7635 , train_acc:0.6818     val_loss = 1.2091 , val_acc:0.5708     learning rate: 9.944025698709225e-05\n",
            "[[601   0   0   0   0   1]\n",
            " [  1 369 172  27  28   8]\n",
            " [  2  43 249  88 159  51]\n",
            " [  0  19 163 239 170  18]\n",
            " [  0  23 136  61 348  39]\n",
            " [  1  19  79  42 203 259]]\n"
          ]
        },
        {
          "output_type": "stream",
          "name": "stderr",
          "text": [
            "\r 92%|█████████▏| 46/50 [3:46:45<19:10, 287.70s/it]"
          ]
        },
        {
          "output_type": "stream",
          "name": "stdout",
          "text": [
            "epoch:45     train_loss = 0.7275 , train_acc:0.7009     val_loss = 1.2544 , val_acc:0.5727     learning rate: 9.446824413773763e-05\n",
            "[[601   0   0   0   0   1]\n",
            " [  1 406 137  32  26   3]\n",
            " [  3  75 238  99 130  47]\n",
            " [  0  45 156 267 120  21]\n",
            " [  2  28 150  78 326  23]\n",
            " [  1  26  93  57 192 234]]\n"
          ]
        },
        {
          "output_type": "stream",
          "name": "stderr",
          "text": [
            "\r 94%|█████████▍| 47/50 [3:51:31<14:21, 287.22s/it]"
          ]
        },
        {
          "output_type": "stream",
          "name": "stdout",
          "text": [
            "epoch:46     train_loss = 0.6854 , train_acc:0.7187     val_loss = 1.2760 , val_acc:0.5840     learning rate: 8.974483193085076e-05\n",
            "[[601   0   0   0   1   0]\n",
            " [  1 403 142  33  18   8]\n",
            " [  2  72 223 129 113  53]\n",
            " [  0  38 140 315  97  19]\n",
            " [  0  30 137 105 311  24]\n",
            " [  1  18  94  70 160 260]]\n"
          ]
        },
        {
          "output_type": "stream",
          "name": "stderr",
          "text": [
            "\r 96%|█████████▌| 48/50 [3:56:19<09:34, 287.47s/it]"
          ]
        },
        {
          "output_type": "stream",
          "name": "stdout",
          "text": [
            "epoch:47     train_loss = 0.6590 , train_acc:0.7314     val_loss = 1.2308 , val_acc:0.5904     learning rate: 8.52575903343082e-05\n",
            "[[601   0   0   0   0   1]\n",
            " [  1 376 161  28  29  10]\n",
            " [  3  52 267  86 100  84]\n",
            " [  0  26 159 272 120  32]\n",
            " [  0  20 159  58 305  65]\n",
            " [  2  15  97  29 145 315]]\n"
          ]
        },
        {
          "output_type": "stream",
          "name": "stderr",
          "text": [
            "\r 98%|█████████▊| 49/50 [4:01:06<04:47, 287.32s/it]"
          ]
        },
        {
          "output_type": "stream",
          "name": "stdout",
          "text": [
            "epoch:48     train_loss = 0.6256 , train_acc:0.7442     val_loss = 1.2768 , val_acc:0.5956     learning rate: 8.099471081759279e-05\n",
            "[[601   0   0   0   0   1]\n",
            " [  1 378 152  32  31  11]\n",
            " [  2  42 257 116 133  42]\n",
            " [  0  27 145 310 107  20]\n",
            " [  0  21 139  85 335  27]\n",
            " [  1  13  95  48 172 274]]\n"
          ]
        },
        {
          "output_type": "stream",
          "name": "stderr",
          "text": [
            "100%|██████████| 50/50 [4:05:55<00:00, 295.10s/it]"
          ]
        },
        {
          "output_type": "stream",
          "name": "stdout",
          "text": [
            "epoch:49     train_loss = 0.5976 , train_acc:0.7614     val_loss = 1.3043 , val_acc:0.5965     learning rate: 7.694497527671315e-05\n",
            "[[601   0   0   0   1   0]\n",
            " [  1 386 162  21  25  10]\n",
            " [  3  48 286  89  99  67]\n",
            " [  1  31 182 281  89  25]\n",
            " [  0  24 163  60 315  45]\n",
            " [  2  17 115  29 151 289]]\n"
          ]
        },
        {
          "output_type": "stream",
          "name": "stderr",
          "text": [
            "\n"
          ]
        }
      ]
    },
    {
      "cell_type": "code",
      "source": [
        "model_state_dict = torch.load(\"checkpoints/waccn_best.pth\")\n",
        "WACNNM = WaCNN()\n",
        "WACNNM.load_state_dict(model_state_dict)"
      ],
      "metadata": {
        "id": "RUKvAaasngqy"
      },
      "execution_count": null,
      "outputs": []
    },
    {
      "cell_type": "code",
      "source": [
        "#=================================#\n",
        "\n",
        "WACNNM.cuda()\n",
        "\n",
        "ltest_acc , ltest_loss, ltestmatrix = test(test_loader , WACNNM , criterion)\n",
        "#imp_test_acc = itest_acc\n",
        "#vgg_test_acc = mtest_acc\n",
        "\n",
        "#=================================#\n",
        "print(f\"accuracy: {ltest_acc}\")\n",
        "print(f\"test loss: {ltest_loss}\")\n",
        "print(ltestmatrix)"
      ],
      "metadata": {
        "id": "mThdXT4MoRsB"
      },
      "execution_count": null,
      "outputs": []
    },
    {
      "cell_type": "code",
      "source": [
        "mt = ltestmatrix"
      ],
      "metadata": {
        "id": "5whavLmutFO7",
        "colab": {
          "base_uri": "https://localhost:8080/",
          "height": 135
        },
        "outputId": "af0c6d62-5fa6-4689-e2b9-4fe4c5c81f16"
      },
      "execution_count": null,
      "outputs": [
        {
          "output_type": "error",
          "ename": "NameError",
          "evalue": "name 'ltestmatrix' is not defined",
          "traceback": [
            "\u001b[0;31m---------------------------------------------------------------------------\u001b[0m",
            "\u001b[0;31mNameError\u001b[0m                                 Traceback (most recent call last)",
            "\u001b[0;32m<ipython-input-6-b9f57688b5fd>\u001b[0m in \u001b[0;36m<cell line: 1>\u001b[0;34m()\u001b[0m\n\u001b[0;32m----> 1\u001b[0;31m \u001b[0mmt\u001b[0m \u001b[0;34m=\u001b[0m \u001b[0mltestmatrix\u001b[0m\u001b[0;34m\u001b[0m\u001b[0;34m\u001b[0m\u001b[0m\n\u001b[0m",
            "\u001b[0;31mNameError\u001b[0m: name 'ltestmatrix' is not defined"
          ]
        }
      ]
    },
    {
      "cell_type": "code",
      "source": [
        "import numpy as np\n",
        "import matplotlib.pyplot as plt\n",
        "import seaborn as sns\n",
        "\n",
        "labels = ['australia', 'us','indian','canada', 'england', 'KR']\n",
        "\n",
        "# 그래프 설정\n",
        "plt.figure(figsize=(10, 8))\n",
        "sns.heatmap(mt, annot=True, fmt='d', cmap='Blues', xticklabels=labels, yticklabels=labels)\n",
        "\n",
        "print(f\"test accuracy: {ltest_acc}\")\n",
        "print(f\"test loss: {ltest_loss}\")\n",
        "\n",
        "# 축 레이블 설정\n",
        "plt.xlabel('Predicted Label')\n",
        "plt.ylabel('True Label')\n",
        "plt.title('Confusion Matrix')\n",
        "plt.show()\n"
      ],
      "metadata": {
        "colab": {
          "base_uri": "https://localhost:8080/",
          "height": 750
        },
        "id": "4fN3RYZpo-Yr",
        "outputId": "91cd74ba-0a74-455f-ad61-182764a97773"
      },
      "execution_count": null,
      "outputs": [
        {
          "output_type": "stream",
          "name": "stdout",
          "text": [
            "test accuracy: 0.5493827160493827\n",
            "test loss: 1.0806201142924172\n"
          ]
        },
        {
          "output_type": "display_data",
          "data": {
            "text/plain": [
              "<Figure size 1000x800 with 2 Axes>"
            ],
            "image/png": "[encoded data removed]"
          },
          "metadata": {}
        }
      ]
    }
  ],
  "metadata": {
    "accelerator": "GPU",
    "colab": {
      "gpuType": "T4",
      "provenance": [],
      "authorship_tag": "ABX9TyPzaji7TGFHg9rka1Jgjdf0",
      "include_colab_link": true
    },
    "kernelspec": {
      "display_name": "Python 3",
      "name": "python3"
    },
    "language_info": {
      "name": "python"
    },
    "widgets": {
      "application/vnd.jupyter.widget-state+json": {
        "5a5b11424a9b40c49b91c62a4609ed81": {
          "model_module": "@jupyter-widgets/controls",
          "model_name": "HBoxModel",
          "model_module_version": "1.5.0",
          "state": {
            "_dom_classes": [],
            "_model_module": "@jupyter-widgets/controls",
            "_model_module_version": "1.5.0",
            "_model_name": "HBoxModel",
            "_view_count": null,
            "_view_module": "@jupyter-widgets/controls",
            "_view_module_version": "1.5.0",
            "_view_name": "HBoxView",
            "box_style": "",
            "children": [
              "IPY_MODEL_331e7e0384a14b309cb1615bc558f7eb",
              "IPY_MODEL_cb3021c8438f41f48609f8eb56f46908",
              "IPY_MODEL_e3d41d47ebdb431f9b367a86966ff408"
            ],
            "layout": "IPY_MODEL_2a0db802f1ac4e84b2ecad6bdf12c8a8"
          }
        },
        "331e7e0384a14b309cb1615bc558f7eb": {
          "model_module": "@jupyter-widgets/controls",
          "model_name": "HTMLModel",
          "model_module_version": "1.5.0",
          "state": {
            "_dom_classes": [],
            "_model_module": "@jupyter-widgets/controls",
            "_model_module_version": "1.5.0",
            "_model_name": "HTMLModel",
            "_view_count": null,
            "_view_module": "@jupyter-widgets/controls",
            "_view_module_version": "1.5.0",
            "_view_name": "HTMLView",
            "description": "",
            "description_tooltip": null,
            "layout": "IPY_MODEL_6fda9bc4f44644dc8fcb5e4a4a736bda",
            "placeholder": "​",
            "style": "IPY_MODEL_f56b286e5b4f43d8a500852ed01ab10d",
            "value": "Downloading readme: 100%"
          }
        },
        "cb3021c8438f41f48609f8eb56f46908": {
          "model_module": "@jupyter-widgets/controls",
          "model_name": "FloatProgressModel",
          "model_module_version": "1.5.0",
          "state": {
            "_dom_classes": [],
            "_model_module": "@jupyter-widgets/controls",
            "_model_module_version": "1.5.0",
            "_model_name": "FloatProgressModel",
            "_view_count": null,
            "_view_module": "@jupyter-widgets/controls",
            "_view_module_version": "1.5.0",
            "_view_name": "ProgressView",
            "bar_style": "success",
            "description": "",
            "description_tooltip": null,
            "layout": "IPY_MODEL_45026b74ea85436f8cf366f7703c9d6c",
            "max": 667,
            "min": 0,
            "orientation": "horizontal",
            "style": "IPY_MODEL_c1ce2271b06741ff85f30574bbab7fac",
            "value": 667
          }
        },
        "e3d41d47ebdb431f9b367a86966ff408": {
          "model_module": "@jupyter-widgets/controls",
          "model_name": "HTMLModel",
          "model_module_version": "1.5.0",
          "state": {
            "_dom_classes": [],
            "_model_module": "@jupyter-widgets/controls",
            "_model_module_version": "1.5.0",
            "_model_name": "HTMLModel",
            "_view_count": null,
            "_view_module": "@jupyter-widgets/controls",
            "_view_module_version": "1.5.0",
            "_view_name": "HTMLView",
            "description": "",
            "description_tooltip": null,
            "layout": "IPY_MODEL_394933fb8d6b47908665d2bf1bb99f29",
            "placeholder": "​",
            "style": "IPY_MODEL_4848d93021e4499ea0db581b5f63ebf6",
            "value": " 667/667 [00:00&lt;00:00, 43.6kB/s]"
          }
        },
        "2a0db802f1ac4e84b2ecad6bdf12c8a8": {
          "model_module": "@jupyter-widgets/base",
          "model_name": "LayoutModel",
          "model_module_version": "1.2.0",
          "state": {
            "_model_module": "@jupyter-widgets/base",
            "_model_module_version": "1.2.0",
            "_model_name": "LayoutModel",
            "_view_count": null,
            "_view_module": "@jupyter-widgets/base",
            "_view_module_version": "1.2.0",
            "_view_name": "LayoutView",
            "align_content": null,
            "align_items": null,
            "align_self": null,
            "border": null,
            "bottom": null,
            "display": null,
            "flex": null,
            "flex_flow": null,
            "grid_area": null,
            "grid_auto_columns": null,
            "grid_auto_flow": null,
            "grid_auto_rows": null,
            "grid_column": null,
            "grid_gap": null,
            "grid_row": null,
            "grid_template_areas": null,
            "grid_template_columns": null,
            "grid_template_rows": null,
            "height": null,
            "justify_content": null,
            "justify_items": null,
            "left": null,
            "margin": null,
            "max_height": null,
            "max_width": null,
            "min_height": null,
            "min_width": null,
            "object_fit": null,
            "object_position": null,
            "order": null,
            "overflow": null,
            "overflow_x": null,
            "overflow_y": null,
            "padding": null,
            "right": null,
            "top": null,
            "visibility": null,
            "width": null
          }
        },
        "6fda9bc4f44644dc8fcb5e4a4a736bda": {
          "model_module": "@jupyter-widgets/base",
          "model_name": "LayoutModel",
          "model_module_version": "1.2.0",
          "state": {
            "_model_module": "@jupyter-widgets/base",
            "_model_module_version": "1.2.0",
            "_model_name": "LayoutModel",
            "_view_count": null,
            "_view_module": "@jupyter-widgets/base",
            "_view_module_version": "1.2.0",
            "_view_name": "LayoutView",
            "align_content": null,
            "align_items": null,
            "align_self": null,
            "border": null,
            "bottom": null,
            "display": null,
            "flex": null,
            "flex_flow": null,
            "grid_area": null,
            "grid_auto_columns": null,
            "grid_auto_flow": null,
            "grid_auto_rows": null,
            "grid_column": null,
            "grid_gap": null,
            "grid_row": null,
            "grid_template_areas": null,
            "grid_template_columns": null,
            "grid_template_rows": null,
            "height": null,
            "justify_content": null,
            "justify_items": null,
            "left": null,
            "margin": null,
            "max_height": null,
            "max_width": null,
            "min_height": null,
            "min_width": null,
            "object_fit": null,
            "object_position": null,
            "order": null,
            "overflow": null,
            "overflow_x": null,
            "overflow_y": null,
            "padding": null,
            "right": null,
            "top": null,
            "visibility": null,
            "width": null
          }
        },
        "f56b286e5b4f43d8a500852ed01ab10d": {
          "model_module": "@jupyter-widgets/controls",
          "model_name": "DescriptionStyleModel",
          "model_module_version": "1.5.0",
          "state": {
            "_model_module": "@jupyter-widgets/controls",
            "_model_module_version": "1.5.0",
            "_model_name": "DescriptionStyleModel",
            "_view_count": null,
            "_view_module": "@jupyter-widgets/base",
            "_view_module_version": "1.2.0",
            "_view_name": "StyleView",
            "description_width": ""
          }
        },
        "45026b74ea85436f8cf366f7703c9d6c": {
          "model_module": "@jupyter-widgets/base",
          "model_name": "LayoutModel",
          "model_module_version": "1.2.0",
          "state": {
            "_model_module": "@jupyter-widgets/base",
            "_model_module_version": "1.2.0",
            "_model_name": "LayoutModel",
            "_view_count": null,
            "_view_module": "@jupyter-widgets/base",
            "_view_module_version": "1.2.0",
            "_view_name": "LayoutView",
            "align_content": null,
            "align_items": null,
            "align_self": null,
            "border": null,
            "bottom": null,
            "display": null,
            "flex": null,
            "flex_flow": null,
            "grid_area": null,
            "grid_auto_columns": null,
            "grid_auto_flow": null,
            "grid_auto_rows": null,
            "grid_column": null,
            "grid_gap": null,
            "grid_row": null,
            "grid_template_areas": null,
            "grid_template_columns": null,
            "grid_template_rows": null,
            "height": null,
            "justify_content": null,
            "justify_items": null,
            "left": null,
            "margin": null,
            "max_height": null,
            "max_width": null,
            "min_height": null,
            "min_width": null,
            "object_fit": null,
            "object_position": null,
            "order": null,
            "overflow": null,
            "overflow_x": null,
            "overflow_y": null,
            "padding": null,
            "right": null,
            "top": null,
            "visibility": null,
            "width": null
          }
        },
        "c1ce2271b06741ff85f30574bbab7fac": {
          "model_module": "@jupyter-widgets/controls",
          "model_name": "ProgressStyleModel",
          "model_module_version": "1.5.0",
          "state": {
            "_model_module": "@jupyter-widgets/controls",
            "_model_module_version": "1.5.0",
            "_model_name": "ProgressStyleModel",
            "_view_count": null,
            "_view_module": "@jupyter-widgets/base",
            "_view_module_version": "1.2.0",
            "_view_name": "StyleView",
            "bar_color": null,
            "description_width": ""
          }
        },
        "394933fb8d6b47908665d2bf1bb99f29": {
          "model_module": "@jupyter-widgets/base",
          "model_name": "LayoutModel",
          "model_module_version": "1.2.0",
          "state": {
            "_model_module": "@jupyter-widgets/base",
            "_model_module_version": "1.2.0",
            "_model_name": "LayoutModel",
            "_view_count": null,
            "_view_module": "@jupyter-widgets/base",
            "_view_module_version": "1.2.0",
            "_view_name": "LayoutView",
            "align_content": null,
            "align_items": null,
            "align_self": null,
            "border": null,
            "bottom": null,
            "display": null,
            "flex": null,
            "flex_flow": null,
            "grid_area": null,
            "grid_auto_columns": null,
            "grid_auto_flow": null,
            "grid_auto_rows": null,
            "grid_column": null,
            "grid_gap": null,
            "grid_row": null,
            "grid_template_areas": null,
            "grid_template_columns": null,
            "grid_template_rows": null,
            "height": null,
            "justify_content": null,
            "justify_items": null,
            "left": null,
            "margin": null,
            "max_height": null,
            "max_width": null,
            "min_height": null,
            "min_width": null,
            "object_fit": null,
            "object_position": null,
            "order": null,
            "overflow": null,
            "overflow_x": null,
            "overflow_y": null,
            "padding": null,
            "right": null,
            "top": null,
            "visibility": null,
            "width": null
          }
        },
        "4848d93021e4499ea0db581b5f63ebf6": {
          "model_module": "@jupyter-widgets/controls",
          "model_name": "DescriptionStyleModel",
          "model_module_version": "1.5.0",
          "state": {
            "_model_module": "@jupyter-widgets/controls",
            "_model_module_version": "1.5.0",
            "_model_name": "DescriptionStyleModel",
            "_view_count": null,
            "_view_module": "@jupyter-widgets/base",
            "_view_module_version": "1.2.0",
            "_view_name": "StyleView",
            "description_width": ""
          }
        },
        "b70ed7020033441a8698c8ce5fc3e8a6": {
          "model_module": "@jupyter-widgets/controls",
          "model_name": "HBoxModel",
          "model_module_version": "1.5.0",
          "state": {
            "_dom_classes": [],
            "_model_module": "@jupyter-widgets/controls",
            "_model_module_version": "1.5.0",
            "_model_name": "HBoxModel",
            "_view_count": null,
            "_view_module": "@jupyter-widgets/controls",
            "_view_module_version": "1.5.0",
            "_view_name": "HBoxView",
            "box_style": "",
            "children": [
              "IPY_MODEL_1a6e2390444e4f4caacdf37558191e2f",
              "IPY_MODEL_1e47a4986caa4143a65b5219f04f7054",
              "IPY_MODEL_8adda1fd68a741f5a377ec3e325d7175"
            ],
            "layout": "IPY_MODEL_d15273a5c1184098a280470b70d4757f"
          }
        },
        "1a6e2390444e4f4caacdf37558191e2f": {
          "model_module": "@jupyter-widgets/controls",
          "model_name": "HTMLModel",
          "model_module_version": "1.5.0",
          "state": {
            "_dom_classes": [],
            "_model_module": "@jupyter-widgets/controls",
            "_model_module_version": "1.5.0",
            "_model_name": "HTMLModel",
            "_view_count": null,
            "_view_module": "@jupyter-widgets/controls",
            "_view_module_version": "1.5.0",
            "_view_name": "HTMLView",
            "description": "",
            "description_tooltip": null,
            "layout": "IPY_MODEL_c5ac9c4386ba4f2bac66bd681ab5d488",
            "placeholder": "​",
            "style": "IPY_MODEL_de8281520f894b71b5002c94868f3852",
            "value": "Downloading data: 100%"
          }
        },
        "1e47a4986caa4143a65b5219f04f7054": {
          "model_module": "@jupyter-widgets/controls",
          "model_name": "FloatProgressModel",
          "model_module_version": "1.5.0",
          "state": {
            "_dom_classes": [],
            "_model_module": "@jupyter-widgets/controls",
            "_model_module_version": "1.5.0",
            "_model_name": "FloatProgressModel",
            "_view_count": null,
            "_view_module": "@jupyter-widgets/controls",
            "_view_module_version": "1.5.0",
            "_view_name": "ProgressView",
            "bar_style": "success",
            "description": "",
            "description_tooltip": null,
            "layout": "IPY_MODEL_2c84eda0750c463ba4d0b2fb053293bf",
            "max": 264363179,
            "min": 0,
            "orientation": "horizontal",
            "style": "IPY_MODEL_2fcf70f3be644fa888a3abb133c99d95",
            "value": 264363179
          }
        },
        "8adda1fd68a741f5a377ec3e325d7175": {
          "model_module": "@jupyter-widgets/controls",
          "model_name": "HTMLModel",
          "model_module_version": "1.5.0",
          "state": {
            "_dom_classes": [],
            "_model_module": "@jupyter-widgets/controls",
            "_model_module_version": "1.5.0",
            "_model_name": "HTMLModel",
            "_view_count": null,
            "_view_module": "@jupyter-widgets/controls",
            "_view_module_version": "1.5.0",
            "_view_name": "HTMLView",
            "description": "",
            "description_tooltip": null,
            "layout": "IPY_MODEL_68072c050ccd4900a5152b8c87555292",
            "placeholder": "​",
            "style": "IPY_MODEL_16e7243ae1774eaf8049991969b4a802",
            "value": " 264M/264M [00:01&lt;00:00, 210MB/s]"
          }
        },
        "d15273a5c1184098a280470b70d4757f": {
          "model_module": "@jupyter-widgets/base",
          "model_name": "LayoutModel",
          "model_module_version": "1.2.0",
          "state": {
            "_model_module": "@jupyter-widgets/base",
            "_model_module_version": "1.2.0",
            "_model_name": "LayoutModel",
            "_view_count": null,
            "_view_module": "@jupyter-widgets/base",
            "_view_module_version": "1.2.0",
            "_view_name": "LayoutView",
            "align_content": null,
            "align_items": null,
            "align_self": null,
            "border": null,
            "bottom": null,
            "display": null,
            "flex": null,
            "flex_flow": null,
            "grid_area": null,
            "grid_auto_columns": null,
            "grid_auto_flow": null,
            "grid_auto_rows": null,
            "grid_column": null,
            "grid_gap": null,
            "grid_row": null,
            "grid_template_areas": null,
            "grid_template_columns": null,
            "grid_template_rows": null,
            "height": null,
            "justify_content": null,
            "justify_items": null,
            "left": null,
            "margin": null,
            "max_height": null,
            "max_width": null,
            "min_height": null,
            "min_width": null,
            "object_fit": null,
            "object_position": null,
            "order": null,
            "overflow": null,
            "overflow_x": null,
            "overflow_y": null,
            "padding": null,
            "right": null,
            "top": null,
            "visibility": null,
            "width": null
          }
        },
        "c5ac9c4386ba4f2bac66bd681ab5d488": {
          "model_module": "@jupyter-widgets/base",
          "model_name": "LayoutModel",
          "model_module_version": "1.2.0",
          "state": {
            "_model_module": "@jupyter-widgets/base",
            "_model_module_version": "1.2.0",
            "_model_name": "LayoutModel",
            "_view_count": null,
            "_view_module": "@jupyter-widgets/base",
            "_view_module_version": "1.2.0",
            "_view_name": "LayoutView",
            "align_content": null,
            "align_items": null,
            "align_self": null,
            "border": null,
            "bottom": null,
            "display": null,
            "flex": null,
            "flex_flow": null,
            "grid_area": null,
            "grid_auto_columns": null,
            "grid_auto_flow": null,
            "grid_auto_rows": null,
            "grid_column": null,
            "grid_gap": null,
            "grid_row": null,
            "grid_template_areas": null,
            "grid_template_columns": null,
            "grid_template_rows": null,
            "height": null,
            "justify_content": null,
            "justify_items": null,
            "left": null,
            "margin": null,
            "max_height": null,
            "max_width": null,
            "min_height": null,
            "min_width": null,
            "object_fit": null,
            "object_position": null,
            "order": null,
            "overflow": null,
            "overflow_x": null,
            "overflow_y": null,
            "padding": null,
            "right": null,
            "top": null,
            "visibility": null,
            "width": null
          }
        },
        "de8281520f894b71b5002c94868f3852": {
          "model_module": "@jupyter-widgets/controls",
          "model_name": "DescriptionStyleModel",
          "model_module_version": "1.5.0",
          "state": {
            "_model_module": "@jupyter-widgets/controls",
            "_model_module_version": "1.5.0",
            "_model_name": "DescriptionStyleModel",
            "_view_count": null,
            "_view_module": "@jupyter-widgets/base",
            "_view_module_version": "1.2.0",
            "_view_name": "StyleView",
            "description_width": ""
          }
        },
        "2c84eda0750c463ba4d0b2fb053293bf": {
          "model_module": "@jupyter-widgets/base",
          "model_name": "LayoutModel",
          "model_module_version": "1.2.0",
          "state": {
            "_model_module": "@jupyter-widgets/base",
            "_model_module_version": "1.2.0",
            "_model_name": "LayoutModel",
            "_view_count": null,
            "_view_module": "@jupyter-widgets/base",
            "_view_module_version": "1.2.0",
            "_view_name": "LayoutView",
            "align_content": null,
            "align_items": null,
            "align_self": null,
            "border": null,
            "bottom": null,
            "display": null,
            "flex": null,
            "flex_flow": null,
            "grid_area": null,
            "grid_auto_columns": null,
            "grid_auto_flow": null,
            "grid_auto_rows": null,
            "grid_column": null,
            "grid_gap": null,
            "grid_row": null,
            "grid_template_areas": null,
            "grid_template_columns": null,
            "grid_template_rows": null,
            "height": null,
            "justify_content": null,
            "justify_items": null,
            "left": null,
            "margin": null,
            "max_height": null,
            "max_width": null,
            "min_height": null,
            "min_width": null,
            "object_fit": null,
            "object_position": null,
            "order": null,
            "overflow": null,
            "overflow_x": null,
            "overflow_y": null,
            "padding": null,
            "right": null,
            "top": null,
            "visibility": null,
            "width": null
          }
        },
        "2fcf70f3be644fa888a3abb133c99d95": {
          "model_module": "@jupyter-widgets/controls",
          "model_name": "ProgressStyleModel",
          "model_module_version": "1.5.0",
          "state": {
            "_model_module": "@jupyter-widgets/controls",
            "_model_module_version": "1.5.0",
            "_model_name": "ProgressStyleModel",
            "_view_count": null,
            "_view_module": "@jupyter-widgets/base",
            "_view_module_version": "1.2.0",
            "_view_name": "StyleView",
            "bar_color": null,
            "description_width": ""
          }
        },
        "68072c050ccd4900a5152b8c87555292": {
          "model_module": "@jupyter-widgets/base",
          "model_name": "LayoutModel",
          "model_module_version": "1.2.0",
          "state": {
            "_model_module": "@jupyter-widgets/base",
            "_model_module_version": "1.2.0",
            "_model_name": "LayoutModel",
            "_view_count": null,
            "_view_module": "@jupyter-widgets/base",
            "_view_module_version": "1.2.0",
            "_view_name": "LayoutView",
            "align_content": null,
            "align_items": null,
            "align_self": null,
            "border": null,
            "bottom": null,
            "display": null,
            "flex": null,
            "flex_flow": null,
            "grid_area": null,
            "grid_auto_columns": null,
            "grid_auto_flow": null,
            "grid_auto_rows": null,
            "grid_column": null,
            "grid_gap": null,
            "grid_row": null,
            "grid_template_areas": null,
            "grid_template_columns": null,
            "grid_template_rows": null,
            "height": null,
            "justify_content": null,
            "justify_items": null,
            "left": null,
            "margin": null,
            "max_height": null,
            "max_width": null,
            "min_height": null,
            "min_width": null,
            "object_fit": null,
            "object_position": null,
            "order": null,
            "overflow": null,
            "overflow_x": null,
            "overflow_y": null,
            "padding": null,
            "right": null,
            "top": null,
            "visibility": null,
            "width": null
          }
        },
        "16e7243ae1774eaf8049991969b4a802": {
          "model_module": "@jupyter-widgets/controls",
          "model_name": "DescriptionStyleModel",
          "model_module_version": "1.5.0",
          "state": {
            "_model_module": "@jupyter-widgets/controls",
            "_model_module_version": "1.5.0",
            "_model_name": "DescriptionStyleModel",
            "_view_count": null,
            "_view_module": "@jupyter-widgets/base",
            "_view_module_version": "1.2.0",
            "_view_name": "StyleView",
            "description_width": ""
          }
        },
        "6db869a57b28465cb8e29762d4c5a1b1": {
          "model_module": "@jupyter-widgets/controls",
          "model_name": "HBoxModel",
          "model_module_version": "1.5.0",
          "state": {
            "_dom_classes": [],
            "_model_module": "@jupyter-widgets/controls",
            "_model_module_version": "1.5.0",
            "_model_name": "HBoxModel",
            "_view_count": null,
            "_view_module": "@jupyter-widgets/controls",
            "_view_module_version": "1.5.0",
            "_view_name": "HBoxView",
            "box_style": "",
            "children": [
              "IPY_MODEL_7fcfed5ad7fe4922b07fefe9683c6c9c",
              "IPY_MODEL_eb5779615f6d464d8ecd7b445af3964e",
              "IPY_MODEL_6d1fc850946641e99e41d2c2967cddac"
            ],
            "layout": "IPY_MODEL_52a8675bf5bd416180ba44a6b287fd54"
          }
        },
        "7fcfed5ad7fe4922b07fefe9683c6c9c": {
          "model_module": "@jupyter-widgets/controls",
          "model_name": "HTMLModel",
          "model_module_version": "1.5.0",
          "state": {
            "_dom_classes": [],
            "_model_module": "@jupyter-widgets/controls",
            "_model_module_version": "1.5.0",
            "_model_name": "HTMLModel",
            "_view_count": null,
            "_view_module": "@jupyter-widgets/controls",
            "_view_module_version": "1.5.0",
            "_view_name": "HTMLView",
            "description": "",
            "description_tooltip": null,
            "layout": "IPY_MODEL_f4bd00ad627f45f29bbef1707071a9aa",
            "placeholder": "​",
            "style": "IPY_MODEL_9c4bd4016865423e928fa4e4cffb6015",
            "value": "Downloading data: 100%"
          }
        },
        "eb5779615f6d464d8ecd7b445af3964e": {
          "model_module": "@jupyter-widgets/controls",
          "model_name": "FloatProgressModel",
          "model_module_version": "1.5.0",
          "state": {
            "_dom_classes": [],
            "_model_module": "@jupyter-widgets/controls",
            "_model_module_version": "1.5.0",
            "_model_name": "FloatProgressModel",
            "_view_count": null,
            "_view_module": "@jupyter-widgets/controls",
            "_view_module_version": "1.5.0",
            "_view_name": "ProgressView",
            "bar_style": "success",
            "description": "",
            "description_tooltip": null,
            "layout": "IPY_MODEL_936fd37383a94444b9faa2141ace3921",
            "max": 262753563,
            "min": 0,
            "orientation": "horizontal",
            "style": "IPY_MODEL_4a8e5443a5334992bafa743b6dace1a2",
            "value": 262753563
          }
        },
        "6d1fc850946641e99e41d2c2967cddac": {
          "model_module": "@jupyter-widgets/controls",
          "model_name": "HTMLModel",
          "model_module_version": "1.5.0",
          "state": {
            "_dom_classes": [],
            "_model_module": "@jupyter-widgets/controls",
            "_model_module_version": "1.5.0",
            "_model_name": "HTMLModel",
            "_view_count": null,
            "_view_module": "@jupyter-widgets/controls",
            "_view_module_version": "1.5.0",
            "_view_name": "HTMLView",
            "description": "",
            "description_tooltip": null,
            "layout": "IPY_MODEL_10baf18fc19e47648c915555ba1128d2",
            "placeholder": "​",
            "style": "IPY_MODEL_2ab204ddc42f47228d4777176c3e0e24",
            "value": " 263M/263M [00:05&lt;00:00, 28.7MB/s]"
          }
        },
        "52a8675bf5bd416180ba44a6b287fd54": {
          "model_module": "@jupyter-widgets/base",
          "model_name": "LayoutModel",
          "model_module_version": "1.2.0",
          "state": {
            "_model_module": "@jupyter-widgets/base",
            "_model_module_version": "1.2.0",
            "_model_name": "LayoutModel",
            "_view_count": null,
            "_view_module": "@jupyter-widgets/base",
            "_view_module_version": "1.2.0",
            "_view_name": "LayoutView",
            "align_content": null,
            "align_items": null,
            "align_self": null,
            "border": null,
            "bottom": null,
            "display": null,
            "flex": null,
            "flex_flow": null,
            "grid_area": null,
            "grid_auto_columns": null,
            "grid_auto_flow": null,
            "grid_auto_rows": null,
            "grid_column": null,
            "grid_gap": null,
            "grid_row": null,
            "grid_template_areas": null,
            "grid_template_columns": null,
            "grid_template_rows": null,
            "height": null,
            "justify_content": null,
            "justify_items": null,
            "left": null,
            "margin": null,
            "max_height": null,
            "max_width": null,
            "min_height": null,
            "min_width": null,
            "object_fit": null,
            "object_position": null,
            "order": null,
            "overflow": null,
            "overflow_x": null,
            "overflow_y": null,
            "padding": null,
            "right": null,
            "top": null,
            "visibility": null,
            "width": null
          }
        },
        "f4bd00ad627f45f29bbef1707071a9aa": {
          "model_module": "@jupyter-widgets/base",
          "model_name": "LayoutModel",
          "model_module_version": "1.2.0",
          "state": {
            "_model_module": "@jupyter-widgets/base",
            "_model_module_version": "1.2.0",
            "_model_name": "LayoutModel",
            "_view_count": null,
            "_view_module": "@jupyter-widgets/base",
            "_view_module_version": "1.2.0",
            "_view_name": "LayoutView",
            "align_content": null,
            "align_items": null,
            "align_self": null,
            "border": null,
            "bottom": null,
            "display": null,
            "flex": null,
            "flex_flow": null,
            "grid_area": null,
            "grid_auto_columns": null,
            "grid_auto_flow": null,
            "grid_auto_rows": null,
            "grid_column": null,
            "grid_gap": null,
            "grid_row": null,
            "grid_template_areas": null,
            "grid_template_columns": null,
            "grid_template_rows": null,
            "height": null,
            "justify_content": null,
            "justify_items": null,
            "left": null,
            "margin": null,
            "max_height": null,
            "max_width": null,
            "min_height": null,
            "min_width": null,
            "object_fit": null,
            "object_position": null,
            "order": null,
            "overflow": null,
            "overflow_x": null,
            "overflow_y": null,
            "padding": null,
            "right": null,
            "top": null,
            "visibility": null,
            "width": null
          }
        },
        "9c4bd4016865423e928fa4e4cffb6015": {
          "model_module": "@jupyter-widgets/controls",
          "model_name": "DescriptionStyleModel",
          "model_module_version": "1.5.0",
          "state": {
            "_model_module": "@jupyter-widgets/controls",
            "_model_module_version": "1.5.0",
            "_model_name": "DescriptionStyleModel",
            "_view_count": null,
            "_view_module": "@jupyter-widgets/base",
            "_view_module_version": "1.2.0",
            "_view_name": "StyleView",
            "description_width": ""
          }
        },
        "936fd37383a94444b9faa2141ace3921": {
          "model_module": "@jupyter-widgets/base",
          "model_name": "LayoutModel",
          "model_module_version": "1.2.0",
          "state": {
            "_model_module": "@jupyter-widgets/base",
            "_model_module_version": "1.2.0",
            "_model_name": "LayoutModel",
            "_view_count": null,
            "_view_module": "@jupyter-widgets/base",
            "_view_module_version": "1.2.0",
            "_view_name": "LayoutView",
            "align_content": null,
            "align_items": null,
            "align_self": null,
            "border": null,
            "bottom": null,
            "display": null,
            "flex": null,
            "flex_flow": null,
            "grid_area": null,
            "grid_auto_columns": null,
            "grid_auto_flow": null,
            "grid_auto_rows": null,
            "grid_column": null,
            "grid_gap": null,
            "grid_row": null,
            "grid_template_areas": null,
            "grid_template_columns": null,
            "grid_template_rows": null,
            "height": null,
            "justify_content": null,
            "justify_items": null,
            "left": null,
            "margin": null,
            "max_height": null,
            "max_width": null,
            "min_height": null,
            "min_width": null,
            "object_fit": null,
            "object_position": null,
            "order": null,
            "overflow": null,
            "overflow_x": null,
            "overflow_y": null,
            "padding": null,
            "right": null,
            "top": null,
            "visibility": null,
            "width": null
          }
        },
        "4a8e5443a5334992bafa743b6dace1a2": {
          "model_module": "@jupyter-widgets/controls",
          "model_name": "ProgressStyleModel",
          "model_module_version": "1.5.0",
          "state": {
            "_model_module": "@jupyter-widgets/controls",
            "_model_module_version": "1.5.0",
            "_model_name": "ProgressStyleModel",
            "_view_count": null,
            "_view_module": "@jupyter-widgets/base",
            "_view_module_version": "1.2.0",
            "_view_name": "StyleView",
            "bar_color": null,
            "description_width": ""
          }
        },
        "10baf18fc19e47648c915555ba1128d2": {
          "model_module": "@jupyter-widgets/base",
          "model_name": "LayoutModel",
          "model_module_version": "1.2.0",
          "state": {
            "_model_module": "@jupyter-widgets/base",
            "_model_module_version": "1.2.0",
            "_model_name": "LayoutModel",
            "_view_count": null,
            "_view_module": "@jupyter-widgets/base",
            "_view_module_version": "1.2.0",
            "_view_name": "LayoutView",
            "align_content": null,
            "align_items": null,
            "align_self": null,
            "border": null,
            "bottom": null,
            "display": null,
            "flex": null,
            "flex_flow": null,
            "grid_area": null,
            "grid_auto_columns": null,
            "grid_auto_flow": null,
            "grid_auto_rows": null,
            "grid_column": null,
            "grid_gap": null,
            "grid_row": null,
            "grid_template_areas": null,
            "grid_template_columns": null,
            "grid_template_rows": null,
            "height": null,
            "justify_content": null,
            "justify_items": null,
            "left": null,
            "margin": null,
            "max_height": null,
            "max_width": null,
            "min_height": null,
            "min_width": null,
            "object_fit": null,
            "object_position": null,
            "order": null,
            "overflow": null,
            "overflow_x": null,
            "overflow_y": null,
            "padding": null,
            "right": null,
            "top": null,
            "visibility": null,
            "width": null
          }
        },
        "2ab204ddc42f47228d4777176c3e0e24": {
          "model_module": "@jupyter-widgets/controls",
          "model_name": "DescriptionStyleModel",
          "model_module_version": "1.5.0",
          "state": {
            "_model_module": "@jupyter-widgets/controls",
            "_model_module_version": "1.5.0",
            "_model_name": "DescriptionStyleModel",
            "_view_count": null,
            "_view_module": "@jupyter-widgets/base",
            "_view_module_version": "1.2.0",
            "_view_name": "StyleView",
            "description_width": ""
          }
        },
        "18e913fa5d7441a4943ef37325096d57": {
          "model_module": "@jupyter-widgets/controls",
          "model_name": "HBoxModel",
          "model_module_version": "1.5.0",
          "state": {
            "_dom_classes": [],
            "_model_module": "@jupyter-widgets/controls",
            "_model_module_version": "1.5.0",
            "_model_name": "HBoxModel",
            "_view_count": null,
            "_view_module": "@jupyter-widgets/controls",
            "_view_module_version": "1.5.0",
            "_view_name": "HBoxView",
            "box_style": "",
            "children": [
              "IPY_MODEL_e2e6098e446f4ff89dca5002c1e137ea",
              "IPY_MODEL_f6f90ff0b4c543dca5fe0870d3f70dea",
              "IPY_MODEL_1172b9097857487f90c854174659b1c7"
            ],
            "layout": "IPY_MODEL_72a0a708ba8147168f075023245ee3c2"
          }
        },
        "e2e6098e446f4ff89dca5002c1e137ea": {
          "model_module": "@jupyter-widgets/controls",
          "model_name": "HTMLModel",
          "model_module_version": "1.5.0",
          "state": {
            "_dom_classes": [],
            "_model_module": "@jupyter-widgets/controls",
            "_model_module_version": "1.5.0",
            "_model_name": "HTMLModel",
            "_view_count": null,
            "_view_module": "@jupyter-widgets/controls",
            "_view_module_version": "1.5.0",
            "_view_name": "HTMLView",
            "description": "",
            "description_tooltip": null,
            "layout": "IPY_MODEL_49a1ef53fc42455581c3606e03f6d440",
            "placeholder": "​",
            "style": "IPY_MODEL_a451f2ff0ee44ce793f0e012cd3fd607",
            "value": "Downloading data: 100%"
          }
        },
        "f6f90ff0b4c543dca5fe0870d3f70dea": {
          "model_module": "@jupyter-widgets/controls",
          "model_name": "FloatProgressModel",
          "model_module_version": "1.5.0",
          "state": {
            "_dom_classes": [],
            "_model_module": "@jupyter-widgets/controls",
            "_model_module_version": "1.5.0",
            "_model_name": "FloatProgressModel",
            "_view_count": null,
            "_view_module": "@jupyter-widgets/controls",
            "_view_module_version": "1.5.0",
            "_view_name": "ProgressView",
            "bar_style": "success",
            "description": "",
            "description_tooltip": null,
            "layout": "IPY_MODEL_f4e709eb25e543b99ccb84cdcdcee485",
            "max": 149715340,
            "min": 0,
            "orientation": "horizontal",
            "style": "IPY_MODEL_0ddb4ad8eeb04b2eaf4420baf8198150",
            "value": 149715340
          }
        },
        "1172b9097857487f90c854174659b1c7": {
          "model_module": "@jupyter-widgets/controls",
          "model_name": "HTMLModel",
          "model_module_version": "1.5.0",
          "state": {
            "_dom_classes": [],
            "_model_module": "@jupyter-widgets/controls",
            "_model_module_version": "1.5.0",
            "_model_name": "HTMLModel",
            "_view_count": null,
            "_view_module": "@jupyter-widgets/controls",
            "_view_module_version": "1.5.0",
            "_view_name": "HTMLView",
            "description": "",
            "description_tooltip": null,
            "layout": "IPY_MODEL_f787ddc2ef8f4f77ac2e98bad5993385",
            "placeholder": "​",
            "style": "IPY_MODEL_c0b6a9dc56e94240a912aa77737d7a80",
            "value": " 150M/150M [00:02&lt;00:00, 84.3MB/s]"
          }
        },
        "72a0a708ba8147168f075023245ee3c2": {
          "model_module": "@jupyter-widgets/base",
          "model_name": "LayoutModel",
          "model_module_version": "1.2.0",
          "state": {
            "_model_module": "@jupyter-widgets/base",
            "_model_module_version": "1.2.0",
            "_model_name": "LayoutModel",
            "_view_count": null,
            "_view_module": "@jupyter-widgets/base",
            "_view_module_version": "1.2.0",
            "_view_name": "LayoutView",
            "align_content": null,
            "align_items": null,
            "align_self": null,
            "border": null,
            "bottom": null,
            "display": null,
            "flex": null,
            "flex_flow": null,
            "grid_area": null,
            "grid_auto_columns": null,
            "grid_auto_flow": null,
            "grid_auto_rows": null,
            "grid_column": null,
            "grid_gap": null,
            "grid_row": null,
            "grid_template_areas": null,
            "grid_template_columns": null,
            "grid_template_rows": null,
            "height": null,
            "justify_content": null,
            "justify_items": null,
            "left": null,
            "margin": null,
            "max_height": null,
            "max_width": null,
            "min_height": null,
            "min_width": null,
            "object_fit": null,
            "object_position": null,
            "order": null,
            "overflow": null,
            "overflow_x": null,
            "overflow_y": null,
            "padding": null,
            "right": null,
            "top": null,
            "visibility": null,
            "width": null
          }
        },
        "49a1ef53fc42455581c3606e03f6d440": {
          "model_module": "@jupyter-widgets/base",
          "model_name": "LayoutModel",
          "model_module_version": "1.2.0",
          "state": {
            "_model_module": "@jupyter-widgets/base",
            "_model_module_version": "1.2.0",
            "_model_name": "LayoutModel",
            "_view_count": null,
            "_view_module": "@jupyter-widgets/base",
            "_view_module_version": "1.2.0",
            "_view_name": "LayoutView",
            "align_content": null,
            "align_items": null,
            "align_self": null,
            "border": null,
            "bottom": null,
            "display": null,
            "flex": null,
            "flex_flow": null,
            "grid_area": null,
            "grid_auto_columns": null,
            "grid_auto_flow": null,
            "grid_auto_rows": null,
            "grid_column": null,
            "grid_gap": null,
            "grid_row": null,
            "grid_template_areas": null,
            "grid_template_columns": null,
            "grid_template_rows": null,
            "height": null,
            "justify_content": null,
            "justify_items": null,
            "left": null,
            "margin": null,
            "max_height": null,
            "max_width": null,
            "min_height": null,
            "min_width": null,
            "object_fit": null,
            "object_position": null,
            "order": null,
            "overflow": null,
            "overflow_x": null,
            "overflow_y": null,
            "padding": null,
            "right": null,
            "top": null,
            "visibility": null,
            "width": null
          }
        },
        "a451f2ff0ee44ce793f0e012cd3fd607": {
          "model_module": "@jupyter-widgets/controls",
          "model_name": "DescriptionStyleModel",
          "model_module_version": "1.5.0",
          "state": {
            "_model_module": "@jupyter-widgets/controls",
            "_model_module_version": "1.5.0",
            "_model_name": "DescriptionStyleModel",
            "_view_count": null,
            "_view_module": "@jupyter-widgets/base",
            "_view_module_version": "1.2.0",
            "_view_name": "StyleView",
            "description_width": ""
          }
        },
        "f4e709eb25e543b99ccb84cdcdcee485": {
          "model_module": "@jupyter-widgets/base",
          "model_name": "LayoutModel",
          "model_module_version": "1.2.0",
          "state": {
            "_model_module": "@jupyter-widgets/base",
            "_model_module_version": "1.2.0",
            "_model_name": "LayoutModel",
            "_view_count": null,
            "_view_module": "@jupyter-widgets/base",
            "_view_module_version": "1.2.0",
            "_view_name": "LayoutView",
            "align_content": null,
            "align_items": null,
            "align_self": null,
            "border": null,
            "bottom": null,
            "display": null,
            "flex": null,
            "flex_flow": null,
            "grid_area": null,
            "grid_auto_columns": null,
            "grid_auto_flow": null,
            "grid_auto_rows": null,
            "grid_column": null,
            "grid_gap": null,
            "grid_row": null,
            "grid_template_areas": null,
            "grid_template_columns": null,
            "grid_template_rows": null,
            "height": null,
            "justify_content": null,
            "justify_items": null,
            "left": null,
            "margin": null,
            "max_height": null,
            "max_width": null,
            "min_height": null,
            "min_width": null,
            "object_fit": null,
            "object_position": null,
            "order": null,
            "overflow": null,
            "overflow_x": null,
            "overflow_y": null,
            "padding": null,
            "right": null,
            "top": null,
            "visibility": null,
            "width": null
          }
        },
        "0ddb4ad8eeb04b2eaf4420baf8198150": {
          "model_module": "@jupyter-widgets/controls",
          "model_name": "ProgressStyleModel",
          "model_module_version": "1.5.0",
          "state": {
            "_model_module": "@jupyter-widgets/controls",
            "_model_module_version": "1.5.0",
            "_model_name": "ProgressStyleModel",
            "_view_count": null,
            "_view_module": "@jupyter-widgets/base",
            "_view_module_version": "1.2.0",
            "_view_name": "StyleView",
            "bar_color": null,
            "description_width": ""
          }
        },
        "f787ddc2ef8f4f77ac2e98bad5993385": {
          "model_module": "@jupyter-widgets/base",
          "model_name": "LayoutModel",
          "model_module_version": "1.2.0",
          "state": {
            "_model_module": "@jupyter-widgets/base",
            "_model_module_version": "1.2.0",
            "_model_name": "LayoutModel",
            "_view_count": null,
            "_view_module": "@jupyter-widgets/base",
            "_view_module_version": "1.2.0",
            "_view_name": "LayoutView",
            "align_content": null,
            "align_items": null,
            "align_self": null,
            "border": null,
            "bottom": null,
            "display": null,
            "flex": null,
            "flex_flow": null,
            "grid_area": null,
            "grid_auto_columns": null,
            "grid_auto_flow": null,
            "grid_auto_rows": null,
            "grid_column": null,
            "grid_gap": null,
            "grid_row": null,
            "grid_template_areas": null,
            "grid_template_columns": null,
            "grid_template_rows": null,
            "height": null,
            "justify_content": null,
            "justify_items": null,
            "left": null,
            "margin": null,
            "max_height": null,
            "max_width": null,
            "min_height": null,
            "min_width": null,
            "object_fit": null,
            "object_position": null,
            "order": null,
            "overflow": null,
            "overflow_x": null,
            "overflow_y": null,
            "padding": null,
            "right": null,
            "top": null,
            "visibility": null,
            "width": null
          }
        },
        "c0b6a9dc56e94240a912aa77737d7a80": {
          "model_module": "@jupyter-widgets/controls",
          "model_name": "DescriptionStyleModel",
          "model_module_version": "1.5.0",
          "state": {
            "_model_module": "@jupyter-widgets/controls",
            "_model_module_version": "1.5.0",
            "_model_name": "DescriptionStyleModel",
            "_view_count": null,
            "_view_module": "@jupyter-widgets/base",
            "_view_module_version": "1.2.0",
            "_view_name": "StyleView",
            "description_width": ""
          }
        },
        "3cf957bffae5426cb83ff967d846d4a5": {
          "model_module": "@jupyter-widgets/controls",
          "model_name": "HBoxModel",
          "model_module_version": "1.5.0",
          "state": {
            "_dom_classes": [],
            "_model_module": "@jupyter-widgets/controls",
            "_model_module_version": "1.5.0",
            "_model_name": "HBoxModel",
            "_view_count": null,
            "_view_module": "@jupyter-widgets/controls",
            "_view_module_version": "1.5.0",
            "_view_name": "HBoxView",
            "box_style": "",
            "children": [
              "IPY_MODEL_3b06b55dca4d46db9b9d5f0421dbcda1",
              "IPY_MODEL_35b3f1e6e47944b490922d2d2a8076a7",
              "IPY_MODEL_b56b0f4bf552419eaca843a2ed95f930"
            ],
            "layout": "IPY_MODEL_b8d47b6617754e7dbef210b61ae86678"
          }
        },
        "3b06b55dca4d46db9b9d5f0421dbcda1": {
          "model_module": "@jupyter-widgets/controls",
          "model_name": "HTMLModel",
          "model_module_version": "1.5.0",
          "state": {
            "_dom_classes": [],
            "_model_module": "@jupyter-widgets/controls",
            "_model_module_version": "1.5.0",
            "_model_name": "HTMLModel",
            "_view_count": null,
            "_view_module": "@jupyter-widgets/controls",
            "_view_module_version": "1.5.0",
            "_view_name": "HTMLView",
            "description": "",
            "description_tooltip": null,
            "layout": "IPY_MODEL_0c86fa89ac8941558b31d1fca5d0ebfb",
            "placeholder": "​",
            "style": "IPY_MODEL_f446e81cc7a541818b585af6a05384cc",
            "value": "Downloading data: 100%"
          }
        },
        "35b3f1e6e47944b490922d2d2a8076a7": {
          "model_module": "@jupyter-widgets/controls",
          "model_name": "FloatProgressModel",
          "model_module_version": "1.5.0",
          "state": {
            "_dom_classes": [],
            "_model_module": "@jupyter-widgets/controls",
            "_model_module_version": "1.5.0",
            "_model_name": "FloatProgressModel",
            "_view_count": null,
            "_view_module": "@jupyter-widgets/controls",
            "_view_module_version": "1.5.0",
            "_view_name": "ProgressView",
            "bar_style": "success",
            "description": "",
            "description_tooltip": null,
            "layout": "IPY_MODEL_468b708cc8444c2184e121a3e1b43c24",
            "max": 73057155,
            "min": 0,
            "orientation": "horizontal",
            "style": "IPY_MODEL_261c4fcfb6d34415b8db951e064d1a1e",
            "value": 73057155
          }
        },
        "b56b0f4bf552419eaca843a2ed95f930": {
          "model_module": "@jupyter-widgets/controls",
          "model_name": "HTMLModel",
          "model_module_version": "1.5.0",
          "state": {
            "_dom_classes": [],
            "_model_module": "@jupyter-widgets/controls",
            "_model_module_version": "1.5.0",
            "_model_name": "HTMLModel",
            "_view_count": null,
            "_view_module": "@jupyter-widgets/controls",
            "_view_module_version": "1.5.0",
            "_view_name": "HTMLView",
            "description": "",
            "description_tooltip": null,
            "layout": "IPY_MODEL_32142b53cd1548859bace5cd60adf4ce",
            "placeholder": "​",
            "style": "IPY_MODEL_082471853e1842659da104fdc8f13b2e",
            "value": " 73.1M/73.1M [00:01&lt;00:00, 40.9MB/s]"
          }
        },
        "b8d47b6617754e7dbef210b61ae86678": {
          "model_module": "@jupyter-widgets/base",
          "model_name": "LayoutModel",
          "model_module_version": "1.2.0",
          "state": {
            "_model_module": "@jupyter-widgets/base",
            "_model_module_version": "1.2.0",
            "_model_name": "LayoutModel",
            "_view_count": null,
            "_view_module": "@jupyter-widgets/base",
            "_view_module_version": "1.2.0",
            "_view_name": "LayoutView",
            "align_content": null,
            "align_items": null,
            "align_self": null,
            "border": null,
            "bottom": null,
            "display": null,
            "flex": null,
            "flex_flow": null,
            "grid_area": null,
            "grid_auto_columns": null,
            "grid_auto_flow": null,
            "grid_auto_rows": null,
            "grid_column": null,
            "grid_gap": null,
            "grid_row": null,
            "grid_template_areas": null,
            "grid_template_columns": null,
            "grid_template_rows": null,
            "height": null,
            "justify_content": null,
            "justify_items": null,
            "left": null,
            "margin": null,
            "max_height": null,
            "max_width": null,
            "min_height": null,
            "min_width": null,
            "object_fit": null,
            "object_position": null,
            "order": null,
            "overflow": null,
            "overflow_x": null,
            "overflow_y": null,
            "padding": null,
            "right": null,
            "top": null,
            "visibility": null,
            "width": null
          }
        },
        "0c86fa89ac8941558b31d1fca5d0ebfb": {
          "model_module": "@jupyter-widgets/base",
          "model_name": "LayoutModel",
          "model_module_version": "1.2.0",
          "state": {
            "_model_module": "@jupyter-widgets/base",
            "_model_module_version": "1.2.0",
            "_model_name": "LayoutModel",
            "_view_count": null,
            "_view_module": "@jupyter-widgets/base",
            "_view_module_version": "1.2.0",
            "_view_name": "LayoutView",
            "align_content": null,
            "align_items": null,
            "align_self": null,
            "border": null,
            "bottom": null,
            "display": null,
            "flex": null,
            "flex_flow": null,
            "grid_area": null,
            "grid_auto_columns": null,
            "grid_auto_flow": null,
            "grid_auto_rows": null,
            "grid_column": null,
            "grid_gap": null,
            "grid_row": null,
            "grid_template_areas": null,
            "grid_template_columns": null,
            "grid_template_rows": null,
            "height": null,
            "justify_content": null,
            "justify_items": null,
            "left": null,
            "margin": null,
            "max_height": null,
            "max_width": null,
            "min_height": null,
            "min_width": null,
            "object_fit": null,
            "object_position": null,
            "order": null,
            "overflow": null,
            "overflow_x": null,
            "overflow_y": null,
            "padding": null,
            "right": null,
            "top": null,
            "visibility": null,
            "width": null
          }
        },
        "f446e81cc7a541818b585af6a05384cc": {
          "model_module": "@jupyter-widgets/controls",
          "model_name": "DescriptionStyleModel",
          "model_module_version": "1.5.0",
          "state": {
            "_model_module": "@jupyter-widgets/controls",
            "_model_module_version": "1.5.0",
            "_model_name": "DescriptionStyleModel",
            "_view_count": null,
            "_view_module": "@jupyter-widgets/base",
            "_view_module_version": "1.2.0",
            "_view_name": "StyleView",
            "description_width": ""
          }
        },
        "468b708cc8444c2184e121a3e1b43c24": {
          "model_module": "@jupyter-widgets/base",
          "model_name": "LayoutModel",
          "model_module_version": "1.2.0",
          "state": {
            "_model_module": "@jupyter-widgets/base",
            "_model_module_version": "1.2.0",
            "_model_name": "LayoutModel",
            "_view_count": null,
            "_view_module": "@jupyter-widgets/base",
            "_view_module_version": "1.2.0",
            "_view_name": "LayoutView",
            "align_content": null,
            "align_items": null,
            "align_self": null,
            "border": null,
            "bottom": null,
            "display": null,
            "flex": null,
            "flex_flow": null,
            "grid_area": null,
            "grid_auto_columns": null,
            "grid_auto_flow": null,
            "grid_auto_rows": null,
            "grid_column": null,
            "grid_gap": null,
            "grid_row": null,
            "grid_template_areas": null,
            "grid_template_columns": null,
            "grid_template_rows": null,
            "height": null,
            "justify_content": null,
            "justify_items": null,
            "left": null,
            "margin": null,
            "max_height": null,
            "max_width": null,
            "min_height": null,
            "min_width": null,
            "object_fit": null,
            "object_position": null,
            "order": null,
            "overflow": null,
            "overflow_x": null,
            "overflow_y": null,
            "padding": null,
            "right": null,
            "top": null,
            "visibility": null,
            "width": null
          }
        },
        "261c4fcfb6d34415b8db951e064d1a1e": {
          "model_module": "@jupyter-widgets/controls",
          "model_name": "ProgressStyleModel",
          "model_module_version": "1.5.0",
          "state": {
            "_model_module": "@jupyter-widgets/controls",
            "_model_module_version": "1.5.0",
            "_model_name": "ProgressStyleModel",
            "_view_count": null,
            "_view_module": "@jupyter-widgets/base",
            "_view_module_version": "1.2.0",
            "_view_name": "StyleView",
            "bar_color": null,
            "description_width": ""
          }
        },
        "32142b53cd1548859bace5cd60adf4ce": {
          "model_module": "@jupyter-widgets/base",
          "model_name": "LayoutModel",
          "model_module_version": "1.2.0",
          "state": {
            "_model_module": "@jupyter-widgets/base",
            "_model_module_version": "1.2.0",
            "_model_name": "LayoutModel",
            "_view_count": null,
            "_view_module": "@jupyter-widgets/base",
            "_view_module_version": "1.2.0",
            "_view_name": "LayoutView",
            "align_content": null,
            "align_items": null,
            "align_self": null,
            "border": null,
            "bottom": null,
            "display": null,
            "flex": null,
            "flex_flow": null,
            "grid_area": null,
            "grid_auto_columns": null,
            "grid_auto_flow": null,
            "grid_auto_rows": null,
            "grid_column": null,
            "grid_gap": null,
            "grid_row": null,
            "grid_template_areas": null,
            "grid_template_columns": null,
            "grid_template_rows": null,
            "height": null,
            "justify_content": null,
            "justify_items": null,
            "left": null,
            "margin": null,
            "max_height": null,
            "max_width": null,
            "min_height": null,
            "min_width": null,
            "object_fit": null,
            "object_position": null,
            "order": null,
            "overflow": null,
            "overflow_x": null,
            "overflow_y": null,
            "padding": null,
            "right": null,
            "top": null,
            "visibility": null,
            "width": null
          }
        },
        "082471853e1842659da104fdc8f13b2e": {
          "model_module": "@jupyter-widgets/controls",
          "model_name": "DescriptionStyleModel",
          "model_module_version": "1.5.0",
          "state": {
            "_model_module": "@jupyter-widgets/controls",
            "_model_module_version": "1.5.0",
            "_model_name": "DescriptionStyleModel",
            "_view_count": null,
            "_view_module": "@jupyter-widgets/base",
            "_view_module_version": "1.2.0",
            "_view_name": "StyleView",
            "description_width": ""
          }
        },
        "80a42d7da22141ceaf6a5b21d80a6230": {
          "model_module": "@jupyter-widgets/controls",
          "model_name": "HBoxModel",
          "model_module_version": "1.5.0",
          "state": {
            "_dom_classes": [],
            "_model_module": "@jupyter-widgets/controls",
            "_model_module_version": "1.5.0",
            "_model_name": "HBoxModel",
            "_view_count": null,
            "_view_module": "@jupyter-widgets/controls",
            "_view_module_version": "1.5.0",
            "_view_name": "HBoxView",
            "box_style": "",
            "children": [
              "IPY_MODEL_7e0c55fd4fb24a5796808519855c9154",
              "IPY_MODEL_79e5c8b4f98f40fe9d3694143853e28b",
              "IPY_MODEL_c16dd3d0cf2f4023a8f1e446f54531bf"
            ],
            "layout": "IPY_MODEL_f756aaa75f21434984f7e78d08108a56"
          }
        },
        "7e0c55fd4fb24a5796808519855c9154": {
          "model_module": "@jupyter-widgets/controls",
          "model_name": "HTMLModel",
          "model_module_version": "1.5.0",
          "state": {
            "_dom_classes": [],
            "_model_module": "@jupyter-widgets/controls",
            "_model_module_version": "1.5.0",
            "_model_name": "HTMLModel",
            "_view_count": null,
            "_view_module": "@jupyter-widgets/controls",
            "_view_module_version": "1.5.0",
            "_view_name": "HTMLView",
            "description": "",
            "description_tooltip": null,
            "layout": "IPY_MODEL_bf0d2266a0f64acfb7432a2c394bd133",
            "placeholder": "​",
            "style": "IPY_MODEL_b06342bab2f142f384d2f6ac8370d0e6",
            "value": "Generating train split: 100%"
          }
        },
        "79e5c8b4f98f40fe9d3694143853e28b": {
          "model_module": "@jupyter-widgets/controls",
          "model_name": "FloatProgressModel",
          "model_module_version": "1.5.0",
          "state": {
            "_dom_classes": [],
            "_model_module": "@jupyter-widgets/controls",
            "_model_module_version": "1.5.0",
            "_model_name": "FloatProgressModel",
            "_view_count": null,
            "_view_module": "@jupyter-widgets/controls",
            "_view_module_version": "1.5.0",
            "_view_name": "ProgressView",
            "bar_style": "success",
            "description": "",
            "description_tooltip": null,
            "layout": "IPY_MODEL_57a1675a8c744f40ac61c287d332b96c",
            "max": 12600,
            "min": 0,
            "orientation": "horizontal",
            "style": "IPY_MODEL_82fb95d8988c4da8ad24cddbd2bcea46",
            "value": 12600
          }
        },
        "c16dd3d0cf2f4023a8f1e446f54531bf": {
          "model_module": "@jupyter-widgets/controls",
          "model_name": "HTMLModel",
          "model_module_version": "1.5.0",
          "state": {
            "_dom_classes": [],
            "_model_module": "@jupyter-widgets/controls",
            "_model_module_version": "1.5.0",
            "_model_name": "HTMLModel",
            "_view_count": null,
            "_view_module": "@jupyter-widgets/controls",
            "_view_module_version": "1.5.0",
            "_view_name": "HTMLView",
            "description": "",
            "description_tooltip": null,
            "layout": "IPY_MODEL_1d2df48dda72436da4c88b6e8e4d10a2",
            "placeholder": "​",
            "style": "IPY_MODEL_98c0623ebd5d4a67af8aa57adab05d8b",
            "value": " 12600/12600 [00:03&lt;00:00, 1268.54 examples/s]"
          }
        },
        "f756aaa75f21434984f7e78d08108a56": {
          "model_module": "@jupyter-widgets/base",
          "model_name": "LayoutModel",
          "model_module_version": "1.2.0",
          "state": {
            "_model_module": "@jupyter-widgets/base",
            "_model_module_version": "1.2.0",
            "_model_name": "LayoutModel",
            "_view_count": null,
            "_view_module": "@jupyter-widgets/base",
            "_view_module_version": "1.2.0",
            "_view_name": "LayoutView",
            "align_content": null,
            "align_items": null,
            "align_self": null,
            "border": null,
            "bottom": null,
            "display": null,
            "flex": null,
            "flex_flow": null,
            "grid_area": null,
            "grid_auto_columns": null,
            "grid_auto_flow": null,
            "grid_auto_rows": null,
            "grid_column": null,
            "grid_gap": null,
            "grid_row": null,
            "grid_template_areas": null,
            "grid_template_columns": null,
            "grid_template_rows": null,
            "height": null,
            "justify_content": null,
            "justify_items": null,
            "left": null,
            "margin": null,
            "max_height": null,
            "max_width": null,
            "min_height": null,
            "min_width": null,
            "object_fit": null,
            "object_position": null,
            "order": null,
            "overflow": null,
            "overflow_x": null,
            "overflow_y": null,
            "padding": null,
            "right": null,
            "top": null,
            "visibility": null,
            "width": null
          }
        },
        "bf0d2266a0f64acfb7432a2c394bd133": {
          "model_module": "@jupyter-widgets/base",
          "model_name": "LayoutModel",
          "model_module_version": "1.2.0",
          "state": {
            "_model_module": "@jupyter-widgets/base",
            "_model_module_version": "1.2.0",
            "_model_name": "LayoutModel",
            "_view_count": null,
            "_view_module": "@jupyter-widgets/base",
            "_view_module_version": "1.2.0",
            "_view_name": "LayoutView",
            "align_content": null,
            "align_items": null,
            "align_self": null,
            "border": null,
            "bottom": null,
            "display": null,
            "flex": null,
            "flex_flow": null,
            "grid_area": null,
            "grid_auto_columns": null,
            "grid_auto_flow": null,
            "grid_auto_rows": null,
            "grid_column": null,
            "grid_gap": null,
            "grid_row": null,
            "grid_template_areas": null,
            "grid_template_columns": null,
            "grid_template_rows": null,
            "height": null,
            "justify_content": null,
            "justify_items": null,
            "left": null,
            "margin": null,
            "max_height": null,
            "max_width": null,
            "min_height": null,
            "min_width": null,
            "object_fit": null,
            "object_position": null,
            "order": null,
            "overflow": null,
            "overflow_x": null,
            "overflow_y": null,
            "padding": null,
            "right": null,
            "top": null,
            "visibility": null,
            "width": null
          }
        },
        "b06342bab2f142f384d2f6ac8370d0e6": {
          "model_module": "@jupyter-widgets/controls",
          "model_name": "DescriptionStyleModel",
          "model_module_version": "1.5.0",
          "state": {
            "_model_module": "@jupyter-widgets/controls",
            "_model_module_version": "1.5.0",
            "_model_name": "DescriptionStyleModel",
            "_view_count": null,
            "_view_module": "@jupyter-widgets/base",
            "_view_module_version": "1.2.0",
            "_view_name": "StyleView",
            "description_width": ""
          }
        },
        "57a1675a8c744f40ac61c287d332b96c": {
          "model_module": "@jupyter-widgets/base",
          "model_name": "LayoutModel",
          "model_module_version": "1.2.0",
          "state": {
            "_model_module": "@jupyter-widgets/base",
            "_model_module_version": "1.2.0",
            "_model_name": "LayoutModel",
            "_view_count": null,
            "_view_module": "@jupyter-widgets/base",
            "_view_module_version": "1.2.0",
            "_view_name": "LayoutView",
            "align_content": null,
            "align_items": null,
            "align_self": null,
            "border": null,
            "bottom": null,
            "display": null,
            "flex": null,
            "flex_flow": null,
            "grid_area": null,
            "grid_auto_columns": null,
            "grid_auto_flow": null,
            "grid_auto_rows": null,
            "grid_column": null,
            "grid_gap": null,
            "grid_row": null,
            "grid_template_areas": null,
            "grid_template_columns": null,
            "grid_template_rows": null,
            "height": null,
            "justify_content": null,
            "justify_items": null,
            "left": null,
            "margin": null,
            "max_height": null,
            "max_width": null,
            "min_height": null,
            "min_width": null,
            "object_fit": null,
            "object_position": null,
            "order": null,
            "overflow": null,
            "overflow_x": null,
            "overflow_y": null,
            "padding": null,
            "right": null,
            "top": null,
            "visibility": null,
            "width": null
          }
        },
        "82fb95d8988c4da8ad24cddbd2bcea46": {
          "model_module": "@jupyter-widgets/controls",
          "model_name": "ProgressStyleModel",
          "model_module_version": "1.5.0",
          "state": {
            "_model_module": "@jupyter-widgets/controls",
            "_model_module_version": "1.5.0",
            "_model_name": "ProgressStyleModel",
            "_view_count": null,
            "_view_module": "@jupyter-widgets/base",
            "_view_module_version": "1.2.0",
            "_view_name": "StyleView",
            "bar_color": null,
            "description_width": ""
          }
        },
        "1d2df48dda72436da4c88b6e8e4d10a2": {
          "model_module": "@jupyter-widgets/base",
          "model_name": "LayoutModel",
          "model_module_version": "1.2.0",
          "state": {
            "_model_module": "@jupyter-widgets/base",
            "_model_module_version": "1.2.0",
            "_model_name": "LayoutModel",
            "_view_count": null,
            "_view_module": "@jupyter-widgets/base",
            "_view_module_version": "1.2.0",
            "_view_name": "LayoutView",
            "align_content": null,
            "align_items": null,
            "align_self": null,
            "border": null,
            "bottom": null,
            "display": null,
            "flex": null,
            "flex_flow": null,
            "grid_area": null,
            "grid_auto_columns": null,
            "grid_auto_flow": null,
            "grid_auto_rows": null,
            "grid_column": null,
            "grid_gap": null,
            "grid_row": null,
            "grid_template_areas": null,
            "grid_template_columns": null,
            "grid_template_rows": null,
            "height": null,
            "justify_content": null,
            "justify_items": null,
            "left": null,
            "margin": null,
            "max_height": null,
            "max_width": null,
            "min_height": null,
            "min_width": null,
            "object_fit": null,
            "object_position": null,
            "order": null,
            "overflow": null,
            "overflow_x": null,
            "overflow_y": null,
            "padding": null,
            "right": null,
            "top": null,
            "visibility": null,
            "width": null
          }
        },
        "98c0623ebd5d4a67af8aa57adab05d8b": {
          "model_module": "@jupyter-widgets/controls",
          "model_name": "DescriptionStyleModel",
          "model_module_version": "1.5.0",
          "state": {
            "_model_module": "@jupyter-widgets/controls",
            "_model_module_version": "1.5.0",
            "_model_name": "DescriptionStyleModel",
            "_view_count": null,
            "_view_module": "@jupyter-widgets/base",
            "_view_module_version": "1.2.0",
            "_view_name": "StyleView",
            "description_width": ""
          }
        },
        "b85d0dbae6884a8baac2e15d49b0e5dc": {
          "model_module": "@jupyter-widgets/controls",
          "model_name": "HBoxModel",
          "model_module_version": "1.5.0",
          "state": {
            "_dom_classes": [],
            "_model_module": "@jupyter-widgets/controls",
            "_model_module_version": "1.5.0",
            "_model_name": "HBoxModel",
            "_view_count": null,
            "_view_module": "@jupyter-widgets/controls",
            "_view_module_version": "1.5.0",
            "_view_name": "HBoxView",
            "box_style": "",
            "children": [
              "IPY_MODEL_229db9aa311346c6ae7a3aa7fd573a5b",
              "IPY_MODEL_2940b53163fb4333964f0c21dc6b5215",
              "IPY_MODEL_911d828aff50435891f7e9f7e59cc9a9"
            ],
            "layout": "IPY_MODEL_4a9a880060dd409585fe04ea1e43f559"
          }
        },
        "229db9aa311346c6ae7a3aa7fd573a5b": {
          "model_module": "@jupyter-widgets/controls",
          "model_name": "HTMLModel",
          "model_module_version": "1.5.0",
          "state": {
            "_dom_classes": [],
            "_model_module": "@jupyter-widgets/controls",
            "_model_module_version": "1.5.0",
            "_model_name": "HTMLModel",
            "_view_count": null,
            "_view_module": "@jupyter-widgets/controls",
            "_view_module_version": "1.5.0",
            "_view_name": "HTMLView",
            "description": "",
            "description_tooltip": null,
            "layout": "IPY_MODEL_319262e7b98f48d98207733e98908d2a",
            "placeholder": "​",
            "style": "IPY_MODEL_80e798f949d84d35b7e6a5e7cd476660",
            "value": "Generating validatoin split: 100%"
          }
        },
        "2940b53163fb4333964f0c21dc6b5215": {
          "model_module": "@jupyter-widgets/controls",
          "model_name": "FloatProgressModel",
          "model_module_version": "1.5.0",
          "state": {
            "_dom_classes": [],
            "_model_module": "@jupyter-widgets/controls",
            "_model_module_version": "1.5.0",
            "_model_name": "FloatProgressModel",
            "_view_count": null,
            "_view_module": "@jupyter-widgets/controls",
            "_view_module_version": "1.5.0",
            "_view_name": "ProgressView",
            "bar_style": "success",
            "description": "",
            "description_tooltip": null,
            "layout": "IPY_MODEL_86688b4d324342fa94a89400ffdc9dea",
            "max": 3618,
            "min": 0,
            "orientation": "horizontal",
            "style": "IPY_MODEL_8cf9c57918244948b8ec9aa8bf4f9b08",
            "value": 3618
          }
        },
        "911d828aff50435891f7e9f7e59cc9a9": {
          "model_module": "@jupyter-widgets/controls",
          "model_name": "HTMLModel",
          "model_module_version": "1.5.0",
          "state": {
            "_dom_classes": [],
            "_model_module": "@jupyter-widgets/controls",
            "_model_module_version": "1.5.0",
            "_model_name": "HTMLModel",
            "_view_count": null,
            "_view_module": "@jupyter-widgets/controls",
            "_view_module_version": "1.5.0",
            "_view_name": "HTMLView",
            "description": "",
            "description_tooltip": null,
            "layout": "IPY_MODEL_e9603e13048d4e21baf29b739d67cf9b",
            "placeholder": "​",
            "style": "IPY_MODEL_c3fc7a4aa57e475daa635235ff7fd54c",
            "value": " 3618/3618 [00:00&lt;00:00, 6264.18 examples/s]"
          }
        },
        "4a9a880060dd409585fe04ea1e43f559": {
          "model_module": "@jupyter-widgets/base",
          "model_name": "LayoutModel",
          "model_module_version": "1.2.0",
          "state": {
            "_model_module": "@jupyter-widgets/base",
            "_model_module_version": "1.2.0",
            "_model_name": "LayoutModel",
            "_view_count": null,
            "_view_module": "@jupyter-widgets/base",
            "_view_module_version": "1.2.0",
            "_view_name": "LayoutView",
            "align_content": null,
            "align_items": null,
            "align_self": null,
            "border": null,
            "bottom": null,
            "display": null,
            "flex": null,
            "flex_flow": null,
            "grid_area": null,
            "grid_auto_columns": null,
            "grid_auto_flow": null,
            "grid_auto_rows": null,
            "grid_column": null,
            "grid_gap": null,
            "grid_row": null,
            "grid_template_areas": null,
            "grid_template_columns": null,
            "grid_template_rows": null,
            "height": null,
            "justify_content": null,
            "justify_items": null,
            "left": null,
            "margin": null,
            "max_height": null,
            "max_width": null,
            "min_height": null,
            "min_width": null,
            "object_fit": null,
            "object_position": null,
            "order": null,
            "overflow": null,
            "overflow_x": null,
            "overflow_y": null,
            "padding": null,
            "right": null,
            "top": null,
            "visibility": null,
            "width": null
          }
        },
        "319262e7b98f48d98207733e98908d2a": {
          "model_module": "@jupyter-widgets/base",
          "model_name": "LayoutModel",
          "model_module_version": "1.2.0",
          "state": {
            "_model_module": "@jupyter-widgets/base",
            "_model_module_version": "1.2.0",
            "_model_name": "LayoutModel",
            "_view_count": null,
            "_view_module": "@jupyter-widgets/base",
            "_view_module_version": "1.2.0",
            "_view_name": "LayoutView",
            "align_content": null,
            "align_items": null,
            "align_self": null,
            "border": null,
            "bottom": null,
            "display": null,
            "flex": null,
            "flex_flow": null,
            "grid_area": null,
            "grid_auto_columns": null,
            "grid_auto_flow": null,
            "grid_auto_rows": null,
            "grid_column": null,
            "grid_gap": null,
            "grid_row": null,
            "grid_template_areas": null,
            "grid_template_columns": null,
            "grid_template_rows": null,
            "height": null,
            "justify_content": null,
            "justify_items": null,
            "left": null,
            "margin": null,
            "max_height": null,
            "max_width": null,
            "min_height": null,
            "min_width": null,
            "object_fit": null,
            "object_position": null,
            "order": null,
            "overflow": null,
            "overflow_x": null,
            "overflow_y": null,
            "padding": null,
            "right": null,
            "top": null,
            "visibility": null,
            "width": null
          }
        },
        "80e798f949d84d35b7e6a5e7cd476660": {
          "model_module": "@jupyter-widgets/controls",
          "model_name": "DescriptionStyleModel",
          "model_module_version": "1.5.0",
          "state": {
            "_model_module": "@jupyter-widgets/controls",
            "_model_module_version": "1.5.0",
            "_model_name": "DescriptionStyleModel",
            "_view_count": null,
            "_view_module": "@jupyter-widgets/base",
            "_view_module_version": "1.2.0",
            "_view_name": "StyleView",
            "description_width": ""
          }
        },
        "86688b4d324342fa94a89400ffdc9dea": {
          "model_module": "@jupyter-widgets/base",
          "model_name": "LayoutModel",
          "model_module_version": "1.2.0",
          "state": {
            "_model_module": "@jupyter-widgets/base",
            "_model_module_version": "1.2.0",
            "_model_name": "LayoutModel",
            "_view_count": null,
            "_view_module": "@jupyter-widgets/base",
            "_view_module_version": "1.2.0",
            "_view_name": "LayoutView",
            "align_content": null,
            "align_items": null,
            "align_self": null,
            "border": null,
            "bottom": null,
            "display": null,
            "flex": null,
            "flex_flow": null,
            "grid_area": null,
            "grid_auto_columns": null,
            "grid_auto_flow": null,
            "grid_auto_rows": null,
            "grid_column": null,
            "grid_gap": null,
            "grid_row": null,
            "grid_template_areas": null,
            "grid_template_columns": null,
            "grid_template_rows": null,
            "height": null,
            "justify_content": null,
            "justify_items": null,
            "left": null,
            "margin": null,
            "max_height": null,
            "max_width": null,
            "min_height": null,
            "min_width": null,
            "object_fit": null,
            "object_position": null,
            "order": null,
            "overflow": null,
            "overflow_x": null,
            "overflow_y": null,
            "padding": null,
            "right": null,
            "top": null,
            "visibility": null,
            "width": null
          }
        },
        "8cf9c57918244948b8ec9aa8bf4f9b08": {
          "model_module": "@jupyter-widgets/controls",
          "model_name": "ProgressStyleModel",
          "model_module_version": "1.5.0",
          "state": {
            "_model_module": "@jupyter-widgets/controls",
            "_model_module_version": "1.5.0",
            "_model_name": "ProgressStyleModel",
            "_view_count": null,
            "_view_module": "@jupyter-widgets/base",
            "_view_module_version": "1.2.0",
            "_view_name": "StyleView",
            "bar_color": null,
            "description_width": ""
          }
        },
        "e9603e13048d4e21baf29b739d67cf9b": {
          "model_module": "@jupyter-widgets/base",
          "model_name": "LayoutModel",
          "model_module_version": "1.2.0",
          "state": {
            "_model_module": "@jupyter-widgets/base",
            "_model_module_version": "1.2.0",
            "_model_name": "LayoutModel",
            "_view_count": null,
            "_view_module": "@jupyter-widgets/base",
            "_view_module_version": "1.2.0",
            "_view_name": "LayoutView",
            "align_content": null,
            "align_items": null,
            "align_self": null,
            "border": null,
            "bottom": null,
            "display": null,
            "flex": null,
            "flex_flow": null,
            "grid_area": null,
            "grid_auto_columns": null,
            "grid_auto_flow": null,
            "grid_auto_rows": null,
            "grid_column": null,
            "grid_gap": null,
            "grid_row": null,
            "grid_template_areas": null,
            "grid_template_columns": null,
            "grid_template_rows": null,
            "height": null,
            "justify_content": null,
            "justify_items": null,
            "left": null,
            "margin": null,
            "max_height": null,
            "max_width": null,
            "min_height": null,
            "min_width": null,
            "object_fit": null,
            "object_position": null,
            "order": null,
            "overflow": null,
            "overflow_x": null,
            "overflow_y": null,
            "padding": null,
            "right": null,
            "top": null,
            "visibility": null,
            "width": null
          }
        },
        "c3fc7a4aa57e475daa635235ff7fd54c": {
          "model_module": "@jupyter-widgets/controls",
          "model_name": "DescriptionStyleModel",
          "model_module_version": "1.5.0",
          "state": {
            "_model_module": "@jupyter-widgets/controls",
            "_model_module_version": "1.5.0",
            "_model_name": "DescriptionStyleModel",
            "_view_count": null,
            "_view_module": "@jupyter-widgets/base",
            "_view_module_version": "1.2.0",
            "_view_name": "StyleView",
            "description_width": ""
          }
        },
        "f7dfd316cbf2495aaa9b50ca644f8c8f": {
          "model_module": "@jupyter-widgets/controls",
          "model_name": "HBoxModel",
          "model_module_version": "1.5.0",
          "state": {
            "_dom_classes": [],
            "_model_module": "@jupyter-widgets/controls",
            "_model_module_version": "1.5.0",
            "_model_name": "HBoxModel",
            "_view_count": null,
            "_view_module": "@jupyter-widgets/controls",
            "_view_module_version": "1.5.0",
            "_view_name": "HBoxView",
            "box_style": "",
            "children": [
              "IPY_MODEL_128f3b98f4e34107bc4d8e973ae2856a",
              "IPY_MODEL_b2ba4358ef5c49daa78b7127d301abf4",
              "IPY_MODEL_244357c8f7414244b4ca42a7823dffc6"
            ],
            "layout": "IPY_MODEL_a687055cbe604bebad4d325770f8f464"
          }
        },
        "128f3b98f4e34107bc4d8e973ae2856a": {
          "model_module": "@jupyter-widgets/controls",
          "model_name": "HTMLModel",
          "model_module_version": "1.5.0",
          "state": {
            "_dom_classes": [],
            "_model_module": "@jupyter-widgets/controls",
            "_model_module_version": "1.5.0",
            "_model_name": "HTMLModel",
            "_view_count": null,
            "_view_module": "@jupyter-widgets/controls",
            "_view_module_version": "1.5.0",
            "_view_name": "HTMLView",
            "description": "",
            "description_tooltip": null,
            "layout": "IPY_MODEL_bd55fe4a401b4335a3dfe6f5a8c40d68",
            "placeholder": "​",
            "style": "IPY_MODEL_73cec4bf59994971999272eff465bda5",
            "value": "Generating test split: 100%"
          }
        },
        "b2ba4358ef5c49daa78b7127d301abf4": {
          "model_module": "@jupyter-widgets/controls",
          "model_name": "FloatProgressModel",
          "model_module_version": "1.5.0",
          "state": {
            "_dom_classes": [],
            "_model_module": "@jupyter-widgets/controls",
            "_model_module_version": "1.5.0",
            "_model_name": "FloatProgressModel",
            "_view_count": null,
            "_view_module": "@jupyter-widgets/controls",
            "_view_module_version": "1.5.0",
            "_view_name": "ProgressView",
            "bar_style": "success",
            "description": "",
            "description_tooltip": null,
            "layout": "IPY_MODEL_d4e2d9f19b0f44dab5e1cf4fb8a873bc",
            "max": 1782,
            "min": 0,
            "orientation": "horizontal",
            "style": "IPY_MODEL_772ea6780e9b4e0295ffaef07847fc34",
            "value": 1782
          }
        },
        "244357c8f7414244b4ca42a7823dffc6": {
          "model_module": "@jupyter-widgets/controls",
          "model_name": "HTMLModel",
          "model_module_version": "1.5.0",
          "state": {
            "_dom_classes": [],
            "_model_module": "@jupyter-widgets/controls",
            "_model_module_version": "1.5.0",
            "_model_name": "HTMLModel",
            "_view_count": null,
            "_view_module": "@jupyter-widgets/controls",
            "_view_module_version": "1.5.0",
            "_view_name": "HTMLView",
            "description": "",
            "description_tooltip": null,
            "layout": "IPY_MODEL_78cd15bde2a54c46986bdea69f275b41",
            "placeholder": "​",
            "style": "IPY_MODEL_71c8c0f420174a589e9e74a9cf15ebdb",
            "value": " 1782/1782 [00:00&lt;00:00, 6863.97 examples/s]"
          }
        },
        "a687055cbe604bebad4d325770f8f464": {
          "model_module": "@jupyter-widgets/base",
          "model_name": "LayoutModel",
          "model_module_version": "1.2.0",
          "state": {
            "_model_module": "@jupyter-widgets/base",
            "_model_module_version": "1.2.0",
            "_model_name": "LayoutModel",
            "_view_count": null,
            "_view_module": "@jupyter-widgets/base",
            "_view_module_version": "1.2.0",
            "_view_name": "LayoutView",
            "align_content": null,
            "align_items": null,
            "align_self": null,
            "border": null,
            "bottom": null,
            "display": null,
            "flex": null,
            "flex_flow": null,
            "grid_area": null,
            "grid_auto_columns": null,
            "grid_auto_flow": null,
            "grid_auto_rows": null,
            "grid_column": null,
            "grid_gap": null,
            "grid_row": null,
            "grid_template_areas": null,
            "grid_template_columns": null,
            "grid_template_rows": null,
            "height": null,
            "justify_content": null,
            "justify_items": null,
            "left": null,
            "margin": null,
            "max_height": null,
            "max_width": null,
            "min_height": null,
            "min_width": null,
            "object_fit": null,
            "object_position": null,
            "order": null,
            "overflow": null,
            "overflow_x": null,
            "overflow_y": null,
            "padding": null,
            "right": null,
            "top": null,
            "visibility": null,
            "width": null
          }
        },
        "bd55fe4a401b4335a3dfe6f5a8c40d68": {
          "model_module": "@jupyter-widgets/base",
          "model_name": "LayoutModel",
          "model_module_version": "1.2.0",
          "state": {
            "_model_module": "@jupyter-widgets/base",
            "_model_module_version": "1.2.0",
            "_model_name": "LayoutModel",
            "_view_count": null,
            "_view_module": "@jupyter-widgets/base",
            "_view_module_version": "1.2.0",
            "_view_name": "LayoutView",
            "align_content": null,
            "align_items": null,
            "align_self": null,
            "border": null,
            "bottom": null,
            "display": null,
            "flex": null,
            "flex_flow": null,
            "grid_area": null,
            "grid_auto_columns": null,
            "grid_auto_flow": null,
            "grid_auto_rows": null,
            "grid_column": null,
            "grid_gap": null,
            "grid_row": null,
            "grid_template_areas": null,
            "grid_template_columns": null,
            "grid_template_rows": null,
            "height": null,
            "justify_content": null,
            "justify_items": null,
            "left": null,
            "margin": null,
            "max_height": null,
            "max_width": null,
            "min_height": null,
            "min_width": null,
            "object_fit": null,
            "object_position": null,
            "order": null,
            "overflow": null,
            "overflow_x": null,
            "overflow_y": null,
            "padding": null,
            "right": null,
            "top": null,
            "visibility": null,
            "width": null
          }
        },
        "73cec4bf59994971999272eff465bda5": {
          "model_module": "@jupyter-widgets/controls",
          "model_name": "DescriptionStyleModel",
          "model_module_version": "1.5.0",
          "state": {
            "_model_module": "@jupyter-widgets/controls",
            "_model_module_version": "1.5.0",
            "_model_name": "DescriptionStyleModel",
            "_view_count": null,
            "_view_module": "@jupyter-widgets/base",
            "_view_module_version": "1.2.0",
            "_view_name": "StyleView",
            "description_width": ""
          }
        },
        "d4e2d9f19b0f44dab5e1cf4fb8a873bc": {
          "model_module": "@jupyter-widgets/base",
          "model_name": "LayoutModel",
          "model_module_version": "1.2.0",
          "state": {
            "_model_module": "@jupyter-widgets/base",
            "_model_module_version": "1.2.0",
            "_model_name": "LayoutModel",
            "_view_count": null,
            "_view_module": "@jupyter-widgets/base",
            "_view_module_version": "1.2.0",
            "_view_name": "LayoutView",
            "align_content": null,
            "align_items": null,
            "align_self": null,
            "border": null,
            "bottom": null,
            "display": null,
            "flex": null,
            "flex_flow": null,
            "grid_area": null,
            "grid_auto_columns": null,
            "grid_auto_flow": null,
            "grid_auto_rows": null,
            "grid_column": null,
            "grid_gap": null,
            "grid_row": null,
            "grid_template_areas": null,
            "grid_template_columns": null,
            "grid_template_rows": null,
            "height": null,
            "justify_content": null,
            "justify_items": null,
            "left": null,
            "margin": null,
            "max_height": null,
            "max_width": null,
            "min_height": null,
            "min_width": null,
            "object_fit": null,
            "object_position": null,
            "order": null,
            "overflow": null,
            "overflow_x": null,
            "overflow_y": null,
            "padding": null,
            "right": null,
            "top": null,
            "visibility": null,
            "width": null
          }
        },
        "772ea6780e9b4e0295ffaef07847fc34": {
          "model_module": "@jupyter-widgets/controls",
          "model_name": "ProgressStyleModel",
          "model_module_version": "1.5.0",
          "state": {
            "_model_module": "@jupyter-widgets/controls",
            "_model_module_version": "1.5.0",
            "_model_name": "ProgressStyleModel",
            "_view_count": null,
            "_view_module": "@jupyter-widgets/base",
            "_view_module_version": "1.2.0",
            "_view_name": "StyleView",
            "bar_color": null,
            "description_width": ""
          }
        },
        "78cd15bde2a54c46986bdea69f275b41": {
          "model_module": "@jupyter-widgets/base",
          "model_name": "LayoutModel",
          "model_module_version": "1.2.0",
          "state": {
            "_model_module": "@jupyter-widgets/base",
            "_model_module_version": "1.2.0",
            "_model_name": "LayoutModel",
            "_view_count": null,
            "_view_module": "@jupyter-widgets/base",
            "_view_module_version": "1.2.0",
            "_view_name": "LayoutView",
            "align_content": null,
            "align_items": null,
            "align_self": null,
            "border": null,
            "bottom": null,
            "display": null,
            "flex": null,
            "flex_flow": null,
            "grid_area": null,
            "grid_auto_columns": null,
            "grid_auto_flow": null,
            "grid_auto_rows": null,
            "grid_column": null,
            "grid_gap": null,
            "grid_row": null,
            "grid_template_areas": null,
            "grid_template_columns": null,
            "grid_template_rows": null,
            "height": null,
            "justify_content": null,
            "justify_items": null,
            "left": null,
            "margin": null,
            "max_height": null,
            "max_width": null,
            "min_height": null,
            "min_width": null,
            "object_fit": null,
            "object_position": null,
            "order": null,
            "overflow": null,
            "overflow_x": null,
            "overflow_y": null,
            "padding": null,
            "right": null,
            "top": null,
            "visibility": null,
            "width": null
          }
        },
        "71c8c0f420174a589e9e74a9cf15ebdb": {
          "model_module": "@jupyter-widgets/controls",
          "model_name": "DescriptionStyleModel",
          "model_module_version": "1.5.0",
          "state": {
            "_model_module": "@jupyter-widgets/controls",
            "_model_module_version": "1.5.0",
            "_model_name": "DescriptionStyleModel",
            "_view_count": null,
            "_view_module": "@jupyter-widgets/base",
            "_view_module_version": "1.2.0",
            "_view_name": "StyleView",
            "description_width": ""
          }
        }
      }
    }
  },
  "nbformat": 4,
  "nbformat_minor": 0
}